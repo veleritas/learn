{
 "cells": [
  {
   "cell_type": "markdown",
   "metadata": {},
   "source": [
    "# Transform and split DWPCs, assess performance"
   ]
  },
  {
   "cell_type": "code",
   "execution_count": 1,
   "metadata": {
    "collapsed": true
   },
   "outputs": [],
   "source": [
    "import itertools\n",
    "import bz2\n",
    "\n",
    "import pandas\n",
    "import numpy\n",
    "import sklearn.metrics\n",
    "from scipy.special import logit"
   ]
  },
  {
   "cell_type": "code",
   "execution_count": 2,
   "metadata": {
    "collapsed": true
   },
   "outputs": [],
   "source": [
    "unperm_name = 'rephetio-v2.0'"
   ]
  },
  {
   "cell_type": "code",
   "execution_count": 3,
   "metadata": {
    "collapsed": true
   },
   "outputs": [],
   "source": [
    "feature_df = pandas.read_table('data/matrix/features.tsv.bz2')\n",
    "feature_type_df = pandas.read_table('data/matrix/feature-type.tsv')"
   ]
  },
  {
   "cell_type": "code",
   "execution_count": 4,
   "metadata": {
    "collapsed": false
   },
   "outputs": [
    {
     "data": {
      "text/html": [
       "<div>\n",
       "<table border=\"1\" class=\"dataframe\">\n",
       "  <thead>\n",
       "    <tr style=\"text-align: right;\">\n",
       "      <th></th>\n",
       "      <th>hetnet</th>\n",
       "      <th>chemical_id</th>\n",
       "      <th>disease_id</th>\n",
       "      <th>status</th>\n",
       "      <th>primary</th>\n",
       "      <th>disease_name</th>\n",
       "      <th>chemical_name</th>\n",
       "      <th>prior_prob</th>\n",
       "      <th>CbG</th>\n",
       "      <th>CtD</th>\n",
       "      <th>...</th>\n",
       "      <th>DtC</th>\n",
       "      <th>CbGaD</th>\n",
       "      <th>CbGaDaGaD</th>\n",
       "      <th>CbGaDtCtD</th>\n",
       "      <th>CbGbCbGaD</th>\n",
       "      <th>CbGbCtD</th>\n",
       "      <th>CtDaGaD</th>\n",
       "      <th>CtDaGbCtD</th>\n",
       "      <th>CtDtCbGaD</th>\n",
       "      <th>CtDtCtD</th>\n",
       "    </tr>\n",
       "  </thead>\n",
       "  <tbody>\n",
       "    <tr>\n",
       "      <th>0</th>\n",
       "      <td>rephetio-v2.0_perm-1</td>\n",
       "      <td>DB00014</td>\n",
       "      <td>DOID:0050742</td>\n",
       "      <td>0</td>\n",
       "      <td>1</td>\n",
       "      <td>nicotine dependence</td>\n",
       "      <td>Goserelin</td>\n",
       "      <td>0.001517</td>\n",
       "      <td>2</td>\n",
       "      <td>1</td>\n",
       "      <td>...</td>\n",
       "      <td>1</td>\n",
       "      <td>0.0</td>\n",
       "      <td>0.001564</td>\n",
       "      <td>0.001338</td>\n",
       "      <td>0.001015</td>\n",
       "      <td>0.0</td>\n",
       "      <td>0.003219</td>\n",
       "      <td>0.0</td>\n",
       "      <td>0.000291</td>\n",
       "      <td>0.0</td>\n",
       "    </tr>\n",
       "    <tr>\n",
       "      <th>1</th>\n",
       "      <td>rephetio-v2.0_perm-2</td>\n",
       "      <td>DB00014</td>\n",
       "      <td>DOID:0050742</td>\n",
       "      <td>1</td>\n",
       "      <td>1</td>\n",
       "      <td>nicotine dependence</td>\n",
       "      <td>Goserelin</td>\n",
       "      <td>0.001517</td>\n",
       "      <td>2</td>\n",
       "      <td>1</td>\n",
       "      <td>...</td>\n",
       "      <td>1</td>\n",
       "      <td>0.0</td>\n",
       "      <td>0.003091</td>\n",
       "      <td>0.000000</td>\n",
       "      <td>0.000554</td>\n",
       "      <td>0.0</td>\n",
       "      <td>0.000000</td>\n",
       "      <td>0.0</td>\n",
       "      <td>0.000000</td>\n",
       "      <td>0.0</td>\n",
       "    </tr>\n",
       "  </tbody>\n",
       "</table>\n",
       "<p>2 rows × 21 columns</p>\n",
       "</div>"
      ],
      "text/plain": [
       "                 hetnet chemical_id    disease_id  status  primary  \\\n",
       "0  rephetio-v2.0_perm-1     DB00014  DOID:0050742       0        1   \n",
       "1  rephetio-v2.0_perm-2     DB00014  DOID:0050742       1        1   \n",
       "\n",
       "          disease_name chemical_name  prior_prob  CbG  CtD   ...     DtC  \\\n",
       "0  nicotine dependence     Goserelin    0.001517    2    1   ...       1   \n",
       "1  nicotine dependence     Goserelin    0.001517    2    1   ...       1   \n",
       "\n",
       "   CbGaD  CbGaDaGaD  CbGaDtCtD  CbGbCbGaD  CbGbCtD   CtDaGaD  CtDaGbCtD  \\\n",
       "0    0.0   0.001564   0.001338   0.001015      0.0  0.003219        0.0   \n",
       "1    0.0   0.003091   0.000000   0.000554      0.0  0.000000        0.0   \n",
       "\n",
       "   CtDtCbGaD  CtDtCtD  \n",
       "0   0.000291      0.0  \n",
       "1   0.000000      0.0  \n",
       "\n",
       "[2 rows x 21 columns]"
      ]
     },
     "execution_count": 4,
     "metadata": {},
     "output_type": "execute_result"
    }
   ],
   "source": [
    "feature_df.head(2)"
   ]
  },
  {
   "cell_type": "code",
   "execution_count": 5,
   "metadata": {
    "collapsed": false
   },
   "outputs": [
    {
     "data": {
      "text/html": [
       "<div>\n",
       "<table border=\"1\" class=\"dataframe\">\n",
       "  <thead>\n",
       "    <tr style=\"text-align: right;\">\n",
       "      <th></th>\n",
       "      <th>feature</th>\n",
       "      <th>feature_type</th>\n",
       "      <th>unperm_mean</th>\n",
       "      <th>unperm_sd</th>\n",
       "    </tr>\n",
       "  </thead>\n",
       "  <tbody>\n",
       "    <tr>\n",
       "      <th>0</th>\n",
       "      <td>prior_prob</td>\n",
       "      <td>prior</td>\n",
       "      <td>0.033641</td>\n",
       "      <td>0.061468</td>\n",
       "    </tr>\n",
       "    <tr>\n",
       "      <th>1</th>\n",
       "      <td>CbG</td>\n",
       "      <td>degree</td>\n",
       "      <td>11.866000</td>\n",
       "      <td>13.054000</td>\n",
       "    </tr>\n",
       "    <tr>\n",
       "      <th>2</th>\n",
       "      <td>CtD</td>\n",
       "      <td>degree</td>\n",
       "      <td>1.963500</td>\n",
       "      <td>2.339800</td>\n",
       "    </tr>\n",
       "    <tr>\n",
       "      <th>3</th>\n",
       "      <td>DaG</td>\n",
       "      <td>degree</td>\n",
       "      <td>151.010000</td>\n",
       "      <td>155.030000</td>\n",
       "    </tr>\n",
       "    <tr>\n",
       "      <th>4</th>\n",
       "      <td>DtC</td>\n",
       "      <td>degree</td>\n",
       "      <td>9.918200</td>\n",
       "      <td>11.845000</td>\n",
       "    </tr>\n",
       "  </tbody>\n",
       "</table>\n",
       "</div>"
      ],
      "text/plain": [
       "      feature feature_type  unperm_mean   unperm_sd\n",
       "0  prior_prob        prior     0.033641    0.061468\n",
       "1         CbG       degree    11.866000   13.054000\n",
       "2         CtD       degree     1.963500    2.339800\n",
       "3         DaG       degree   151.010000  155.030000\n",
       "4         DtC       degree     9.918200   11.845000"
      ]
     },
     "execution_count": 5,
     "metadata": {},
     "output_type": "execute_result"
    }
   ],
   "source": [
    "feature_type_df.head()"
   ]
  },
  {
   "cell_type": "code",
   "execution_count": 6,
   "metadata": {
    "collapsed": false
   },
   "outputs": [],
   "source": [
    "def transform_dwpcs(x, scaler):\n",
    "    x = numpy.array(x)\n",
    "    return numpy.arcsinh(x / scaler)\n",
    "\n",
    "transformed_df = feature_df.copy()\n",
    "dwpc_features = feature_type_df.query(\"feature_type == 'dwpc'\").feature\n",
    "degree_features = feature_type_df.query(\"feature_type == 'degree'\").feature\n",
    "feature_to_scaler = dict(zip(feature_type_df.feature, feature_type_df.unperm_mean))\n",
    "for column in dwpc_features:\n",
    "    transformed_df[column] = transform_dwpcs(transformed_df[column], feature_to_scaler[column])"
   ]
  },
  {
   "cell_type": "code",
   "execution_count": 7,
   "metadata": {
    "collapsed": false
   },
   "outputs": [],
   "source": [
    "column_names = list()\n",
    "columns = list()\n",
    "for metapath in dwpc_features:\n",
    "    df = pandas.pivot_table(transformed_df, values=metapath, index=['chemical_id', 'disease_id'], columns='hetnet')\n",
    "    df = df[df['rephetio-v2.0'].notnull()]\n",
    "    dwpc = df.iloc[:, 0]\n",
    "    pdwpc = df.iloc[:, 1:].mean(axis='columns')\n",
    "    rdwpc = dwpc - pdwpc\n",
    "    for column in dwpc, pdwpc, rdwpc:\n",
    "        columns.append(column)\n",
    "    for feature_type in 'dwpc', 'pdwpc', 'rdwpc':\n",
    "        column_names.append('{}_{}'.format(feature_type, metapath))\n",
    "\n",
    "split_df = pandas.concat(columns, axis=1)\n",
    "split_df.columns = column_names\n",
    "split_df.reset_index(inplace=True)"
   ]
  },
  {
   "cell_type": "code",
   "execution_count": 8,
   "metadata": {
    "collapsed": false
   },
   "outputs": [
    {
     "data": {
      "text/html": [
       "<div>\n",
       "<table border=\"1\" class=\"dataframe\">\n",
       "  <thead>\n",
       "    <tr style=\"text-align: right;\">\n",
       "      <th></th>\n",
       "      <th>chemical_id</th>\n",
       "      <th>disease_id</th>\n",
       "      <th>dwpc_CbGaD</th>\n",
       "      <th>pdwpc_CbGaD</th>\n",
       "      <th>rdwpc_CbGaD</th>\n",
       "      <th>dwpc_CbGaDaGaD</th>\n",
       "      <th>pdwpc_CbGaDaGaD</th>\n",
       "      <th>rdwpc_CbGaDaGaD</th>\n",
       "      <th>dwpc_CbGaDtCtD</th>\n",
       "      <th>pdwpc_CbGaDtCtD</th>\n",
       "      <th>...</th>\n",
       "      <th>rdwpc_CtDaGaD</th>\n",
       "      <th>dwpc_CtDaGbCtD</th>\n",
       "      <th>pdwpc_CtDaGbCtD</th>\n",
       "      <th>rdwpc_CtDaGbCtD</th>\n",
       "      <th>dwpc_CtDtCbGaD</th>\n",
       "      <th>pdwpc_CtDtCbGaD</th>\n",
       "      <th>rdwpc_CtDtCbGaD</th>\n",
       "      <th>dwpc_CtDtCtD</th>\n",
       "      <th>pdwpc_CtDtCtD</th>\n",
       "      <th>rdwpc_CtDtCtD</th>\n",
       "    </tr>\n",
       "  </thead>\n",
       "  <tbody>\n",
       "    <tr>\n",
       "      <th>0</th>\n",
       "      <td>DB00014</td>\n",
       "      <td>DOID:10283</td>\n",
       "      <td>0.0</td>\n",
       "      <td>0.402967</td>\n",
       "      <td>-0.402967</td>\n",
       "      <td>0.958915</td>\n",
       "      <td>0.869622</td>\n",
       "      <td>0.089293</td>\n",
       "      <td>0.0</td>\n",
       "      <td>0.503217</td>\n",
       "      <td>...</td>\n",
       "      <td>-0.758871</td>\n",
       "      <td>0.000000</td>\n",
       "      <td>0.693193</td>\n",
       "      <td>-0.693193</td>\n",
       "      <td>0.0</td>\n",
       "      <td>1.164831</td>\n",
       "      <td>-1.164831</td>\n",
       "      <td>0.0</td>\n",
       "      <td>0.807504</td>\n",
       "      <td>-0.807504</td>\n",
       "    </tr>\n",
       "    <tr>\n",
       "      <th>1</th>\n",
       "      <td>DB00014</td>\n",
       "      <td>DOID:3277</td>\n",
       "      <td>0.0</td>\n",
       "      <td>0.000000</td>\n",
       "      <td>0.000000</td>\n",
       "      <td>0.105336</td>\n",
       "      <td>0.171170</td>\n",
       "      <td>-0.065835</td>\n",
       "      <td>0.0</td>\n",
       "      <td>0.177952</td>\n",
       "      <td>...</td>\n",
       "      <td>0.033800</td>\n",
       "      <td>0.334546</td>\n",
       "      <td>0.029422</td>\n",
       "      <td>0.305124</td>\n",
       "      <td>0.0</td>\n",
       "      <td>0.244952</td>\n",
       "      <td>-0.244952</td>\n",
       "      <td>0.0</td>\n",
       "      <td>0.000000</td>\n",
       "      <td>0.000000</td>\n",
       "    </tr>\n",
       "  </tbody>\n",
       "</table>\n",
       "<p>2 rows × 29 columns</p>\n",
       "</div>"
      ],
      "text/plain": [
       "  chemical_id  disease_id  dwpc_CbGaD  pdwpc_CbGaD  rdwpc_CbGaD  \\\n",
       "0     DB00014  DOID:10283         0.0     0.402967    -0.402967   \n",
       "1     DB00014   DOID:3277         0.0     0.000000     0.000000   \n",
       "\n",
       "   dwpc_CbGaDaGaD  pdwpc_CbGaDaGaD  rdwpc_CbGaDaGaD  dwpc_CbGaDtCtD  \\\n",
       "0        0.958915         0.869622         0.089293             0.0   \n",
       "1        0.105336         0.171170        -0.065835             0.0   \n",
       "\n",
       "   pdwpc_CbGaDtCtD      ...        rdwpc_CtDaGaD  dwpc_CtDaGbCtD  \\\n",
       "0         0.503217      ...            -0.758871        0.000000   \n",
       "1         0.177952      ...             0.033800        0.334546   \n",
       "\n",
       "   pdwpc_CtDaGbCtD  rdwpc_CtDaGbCtD  dwpc_CtDtCbGaD  pdwpc_CtDtCbGaD  \\\n",
       "0         0.693193        -0.693193             0.0         1.164831   \n",
       "1         0.029422         0.305124             0.0         0.244952   \n",
       "\n",
       "   rdwpc_CtDtCbGaD  dwpc_CtDtCtD  pdwpc_CtDtCtD  rdwpc_CtDtCtD  \n",
       "0        -1.164831           0.0       0.807504      -0.807504  \n",
       "1        -0.244952           0.0       0.000000       0.000000  \n",
       "\n",
       "[2 rows x 29 columns]"
      ]
     },
     "execution_count": 8,
     "metadata": {},
     "output_type": "execute_result"
    }
   ],
   "source": [
    "split_df.head(2)"
   ]
  },
  {
   "cell_type": "code",
   "execution_count": 9,
   "metadata": {
    "collapsed": false
   },
   "outputs": [
    {
     "data": {
      "text/html": [
       "<div>\n",
       "<table border=\"1\" class=\"dataframe\">\n",
       "  <thead>\n",
       "    <tr style=\"text-align: right;\">\n",
       "      <th></th>\n",
       "      <th>chemical_id</th>\n",
       "      <th>disease_id</th>\n",
       "      <th>status</th>\n",
       "      <th>disease_name</th>\n",
       "      <th>chemical_name</th>\n",
       "      <th>prior_logit</th>\n",
       "      <th>degree_CbG</th>\n",
       "      <th>degree_CtD</th>\n",
       "      <th>degree_DaG</th>\n",
       "      <th>degree_DtC</th>\n",
       "      <th>...</th>\n",
       "      <th>rdwpc_CtDaGaD</th>\n",
       "      <th>dwpc_CtDaGbCtD</th>\n",
       "      <th>pdwpc_CtDaGbCtD</th>\n",
       "      <th>rdwpc_CtDaGbCtD</th>\n",
       "      <th>dwpc_CtDtCbGaD</th>\n",
       "      <th>pdwpc_CtDtCbGaD</th>\n",
       "      <th>rdwpc_CtDtCbGaD</th>\n",
       "      <th>dwpc_CtDtCtD</th>\n",
       "      <th>pdwpc_CtDtCtD</th>\n",
       "      <th>rdwpc_CtDtCtD</th>\n",
       "    </tr>\n",
       "  </thead>\n",
       "  <tbody>\n",
       "    <tr>\n",
       "      <th>0</th>\n",
       "      <td>DB00104</td>\n",
       "      <td>DOID:0050742</td>\n",
       "      <td>0</td>\n",
       "      <td>nicotine dependence</td>\n",
       "      <td>Octreotide</td>\n",
       "      <td>-6.489370</td>\n",
       "      <td>2.491780</td>\n",
       "      <td>0.881374</td>\n",
       "      <td>3.638278</td>\n",
       "      <td>0.881374</td>\n",
       "      <td>...</td>\n",
       "      <td>-0.174628</td>\n",
       "      <td>0.0</td>\n",
       "      <td>0.041041</td>\n",
       "      <td>-0.041041</td>\n",
       "      <td>0.000000</td>\n",
       "      <td>0.252410</td>\n",
       "      <td>-0.252410</td>\n",
       "      <td>0.0</td>\n",
       "      <td>0.0</td>\n",
       "      <td>0.0</td>\n",
       "    </tr>\n",
       "    <tr>\n",
       "      <th>1</th>\n",
       "      <td>DB00178</td>\n",
       "      <td>DOID:0050742</td>\n",
       "      <td>0</td>\n",
       "      <td>nicotine dependence</td>\n",
       "      <td>Ramipril</td>\n",
       "      <td>-4.996524</td>\n",
       "      <td>2.094713</td>\n",
       "      <td>2.094713</td>\n",
       "      <td>3.638278</td>\n",
       "      <td>0.881374</td>\n",
       "      <td>...</td>\n",
       "      <td>-0.491327</td>\n",
       "      <td>0.0</td>\n",
       "      <td>0.163237</td>\n",
       "      <td>-0.163237</td>\n",
       "      <td>0.658845</td>\n",
       "      <td>0.512217</td>\n",
       "      <td>0.146628</td>\n",
       "      <td>0.0</td>\n",
       "      <td>0.0</td>\n",
       "      <td>0.0</td>\n",
       "    </tr>\n",
       "  </tbody>\n",
       "</table>\n",
       "<p>2 rows × 37 columns</p>\n",
       "</div>"
      ],
      "text/plain": [
       "  chemical_id    disease_id  status         disease_name chemical_name  \\\n",
       "0     DB00104  DOID:0050742       0  nicotine dependence    Octreotide   \n",
       "1     DB00178  DOID:0050742       0  nicotine dependence      Ramipril   \n",
       "\n",
       "   prior_logit  degree_CbG  degree_CtD  degree_DaG  degree_DtC      ...        \\\n",
       "0    -6.489370    2.491780    0.881374    3.638278    0.881374      ...         \n",
       "1    -4.996524    2.094713    2.094713    3.638278    0.881374      ...         \n",
       "\n",
       "   rdwpc_CtDaGaD  dwpc_CtDaGbCtD  pdwpc_CtDaGbCtD  rdwpc_CtDaGbCtD  \\\n",
       "0      -0.174628             0.0         0.041041        -0.041041   \n",
       "1      -0.491327             0.0         0.163237        -0.163237   \n",
       "\n",
       "   dwpc_CtDtCbGaD  pdwpc_CtDtCbGaD  rdwpc_CtDtCbGaD  dwpc_CtDtCtD  \\\n",
       "0        0.000000         0.252410        -0.252410           0.0   \n",
       "1        0.658845         0.512217         0.146628           0.0   \n",
       "\n",
       "   pdwpc_CtDtCtD  rdwpc_CtDtCtD  \n",
       "0            0.0            0.0  \n",
       "1            0.0            0.0  \n",
       "\n",
       "[2 rows x 37 columns]"
      ]
     },
     "execution_count": 9,
     "metadata": {},
     "output_type": "execute_result"
    }
   ],
   "source": [
    "base_df = feature_df.query(\"hetnet == @unperm_name\").copy()\n",
    "base_df.insert(8, 'prior_logit', logit(base_df['prior_prob']))\n",
    "for metaege in degree_features:\n",
    "    base_df['degree_{}'.format(metaege)] = numpy.arcsinh(base_df[metaege])\n",
    "base_df.drop(\n",
    "    ['hetnet', 'primary', 'prior_prob'] + list(degree_features) + list(dwpc_features),\n",
    "    axis='columns', inplace=True)\n",
    "transformed_df = base_df.merge(split_df)\n",
    "transformed_df.head(2)"
   ]
  },
  {
   "cell_type": "code",
   "execution_count": 10,
   "metadata": {
    "collapsed": false
   },
   "outputs": [],
   "source": [
    "path = 'data/matrix/rephetio-v2.0/transformed-features.tsv.bz2'\n",
    "with bz2.open(path, 'wt') as write_file:\n",
    "    transformed_df.to_csv(write_file, sep='\\t', index=False, float_format='%.5g')"
   ]
  },
  {
   "cell_type": "markdown",
   "metadata": {},
   "source": [
    "### Compute performance"
   ]
  },
  {
   "cell_type": "code",
   "execution_count": 11,
   "metadata": {
    "collapsed": false,
    "scrolled": true
   },
   "outputs": [
    {
     "data": {
      "text/html": [
       "<div>\n",
       "<table border=\"1\" class=\"dataframe\">\n",
       "  <thead>\n",
       "    <tr style=\"text-align: right;\">\n",
       "      <th>feature_type</th>\n",
       "      <th>metapath</th>\n",
       "      <th>dwpc_auroc</th>\n",
       "      <th>pdwpc_auroc</th>\n",
       "      <th>rdwpc_auroc</th>\n",
       "    </tr>\n",
       "  </thead>\n",
       "  <tbody>\n",
       "    <tr>\n",
       "      <th>0</th>\n",
       "      <td>CbGaD</td>\n",
       "      <td>0.724445</td>\n",
       "      <td>0.629454</td>\n",
       "      <td>0.683047</td>\n",
       "    </tr>\n",
       "    <tr>\n",
       "      <th>1</th>\n",
       "      <td>CbGaDaGaD</td>\n",
       "      <td>0.705098</td>\n",
       "      <td>0.651180</td>\n",
       "      <td>0.635442</td>\n",
       "    </tr>\n",
       "  </tbody>\n",
       "</table>\n",
       "</div>"
      ],
      "text/plain": [
       "feature_type   metapath  dwpc_auroc  pdwpc_auroc  rdwpc_auroc\n",
       "0                 CbGaD    0.724445     0.629454     0.683047\n",
       "1             CbGaDaGaD    0.705098     0.651180     0.635442"
      ]
     },
     "execution_count": 11,
     "metadata": {},
     "output_type": "execute_result"
    }
   ],
   "source": [
    "rows  = list()\n",
    "for column in transformed_df.columns[transformed_df.columns.str.contains('dwpc')]:\n",
    "    feature_type, metapath = column.split('_', 1)\n",
    "    auroc = sklearn.metrics.roc_auc_score(transformed_df.status, transformed_df[column])\n",
    "    rows.append([feature_type + '_auroc', metapath, auroc])\n",
    "auroc_df = pandas.DataFrame(rows, columns=['feature_type', 'metapath', 'auroc'])\n",
    "auroc_df = auroc_df.pivot_table(values='auroc', index='metapath', columns='feature_type').reset_index()\n",
    "auroc_df.head(2)"
   ]
  },
  {
   "cell_type": "code",
   "execution_count": 12,
   "metadata": {
    "collapsed": false
   },
   "outputs": [
    {
     "data": {
      "text/html": [
       "<div>\n",
       "<table border=\"1\" class=\"dataframe\">\n",
       "  <thead>\n",
       "    <tr style=\"text-align: right;\">\n",
       "      <th></th>\n",
       "      <th>metapath</th>\n",
       "      <th>dwpc_auroc</th>\n",
       "      <th>pdwpc_auroc</th>\n",
       "      <th>rdwpc_auroc</th>\n",
       "      <th>nonzero</th>\n",
       "      <th>pdwpc_primary_auroc</th>\n",
       "      <th>delta_auroc</th>\n",
       "      <th>pval_delta_auroc</th>\n",
       "    </tr>\n",
       "  </thead>\n",
       "  <tbody>\n",
       "    <tr>\n",
       "      <th>0</th>\n",
       "      <td>CbGaD</td>\n",
       "      <td>0.724445</td>\n",
       "      <td>0.629454</td>\n",
       "      <td>0.683047</td>\n",
       "      <td>0.32196</td>\n",
       "      <td>0.57265</td>\n",
       "      <td>0.15179</td>\n",
       "      <td>0.000007</td>\n",
       "    </tr>\n",
       "    <tr>\n",
       "      <th>1</th>\n",
       "      <td>CbGaDaGaD</td>\n",
       "      <td>0.705098</td>\n",
       "      <td>0.651180</td>\n",
       "      <td>0.635442</td>\n",
       "      <td>0.98209</td>\n",
       "      <td>0.61864</td>\n",
       "      <td>0.08646</td>\n",
       "      <td>0.000358</td>\n",
       "    </tr>\n",
       "  </tbody>\n",
       "</table>\n",
       "</div>"
      ],
      "text/plain": [
       "    metapath  dwpc_auroc  pdwpc_auroc  rdwpc_auroc  nonzero  \\\n",
       "0      CbGaD    0.724445     0.629454     0.683047  0.32196   \n",
       "1  CbGaDaGaD    0.705098     0.651180     0.635442  0.98209   \n",
       "\n",
       "   pdwpc_primary_auroc  delta_auroc  pval_delta_auroc  \n",
       "0              0.57265      0.15179          0.000007  \n",
       "1              0.61864      0.08646          0.000358  "
      ]
     },
     "execution_count": 12,
     "metadata": {},
     "output_type": "execute_result"
    }
   ],
   "source": [
    "primary_auroc_df = pandas.read_table('data/feature-performance/primary-aurocs.tsv')\n",
    "primary_auroc_df = primary_auroc_df.rename(columns={'feature': 'metapath', 'auroc_permuted': 'pdwpc_primary_auroc', 'pval_auroc': 'pval_delta_auroc'})\n",
    "primary_auroc_df = primary_auroc_df[['metapath', 'nonzero', 'pdwpc_primary_auroc', 'delta_auroc', 'pval_delta_auroc']]\n",
    "auroc_df = auroc_df.merge(primary_auroc_df)\n",
    "auroc_df.head(2)"
   ]
  },
  {
   "cell_type": "code",
   "execution_count": 13,
   "metadata": {
    "collapsed": true
   },
   "outputs": [],
   "source": [
    "auroc_df.to_csv('data/feature-performance/auroc.tsv', sep='\\t', index=False, float_format='%.5g')"
   ]
  },
  {
   "cell_type": "code",
   "execution_count": 14,
   "metadata": {
    "collapsed": false,
    "scrolled": true
   },
   "outputs": [
    {
     "data": {
      "text/html": [
       "<div>\n",
       "<table border=\"1\" class=\"dataframe\">\n",
       "  <thead>\n",
       "    <tr style=\"text-align: right;\">\n",
       "      <th></th>\n",
       "      <th>metapath</th>\n",
       "      <th>dwpc_auroc</th>\n",
       "      <th>pdwpc_auroc</th>\n",
       "      <th>rdwpc_auroc</th>\n",
       "      <th>nonzero</th>\n",
       "      <th>pdwpc_primary_auroc</th>\n",
       "      <th>delta_auroc</th>\n",
       "      <th>pval_delta_auroc</th>\n",
       "    </tr>\n",
       "  </thead>\n",
       "  <tbody>\n",
       "    <tr>\n",
       "      <th>0</th>\n",
       "      <td>CbGaD</td>\n",
       "      <td>0.724445</td>\n",
       "      <td>0.629454</td>\n",
       "      <td>0.683047</td>\n",
       "      <td>0.32196</td>\n",
       "      <td>0.57265</td>\n",
       "      <td>0.151790</td>\n",
       "      <td>0.000007</td>\n",
       "    </tr>\n",
       "    <tr>\n",
       "      <th>1</th>\n",
       "      <td>CbGaDaGaD</td>\n",
       "      <td>0.705098</td>\n",
       "      <td>0.651180</td>\n",
       "      <td>0.635442</td>\n",
       "      <td>0.98209</td>\n",
       "      <td>0.61864</td>\n",
       "      <td>0.086460</td>\n",
       "      <td>0.000358</td>\n",
       "    </tr>\n",
       "    <tr>\n",
       "      <th>3</th>\n",
       "      <td>CbGbCbGaD</td>\n",
       "      <td>0.678146</td>\n",
       "      <td>0.661192</td>\n",
       "      <td>0.608608</td>\n",
       "      <td>0.91824</td>\n",
       "      <td>0.63764</td>\n",
       "      <td>0.040506</td>\n",
       "      <td>0.000072</td>\n",
       "    </tr>\n",
       "  </tbody>\n",
       "</table>\n",
       "</div>"
      ],
      "text/plain": [
       "    metapath  dwpc_auroc  pdwpc_auroc  rdwpc_auroc  nonzero  \\\n",
       "0      CbGaD    0.724445     0.629454     0.683047  0.32196   \n",
       "1  CbGaDaGaD    0.705098     0.651180     0.635442  0.98209   \n",
       "3  CbGbCbGaD    0.678146     0.661192     0.608608  0.91824   \n",
       "\n",
       "   pdwpc_primary_auroc  delta_auroc  pval_delta_auroc  \n",
       "0              0.57265     0.151790          0.000007  \n",
       "1              0.61864     0.086460          0.000358  \n",
       "3              0.63764     0.040506          0.000072  "
      ]
     },
     "execution_count": 14,
     "metadata": {},
     "output_type": "execute_result"
    }
   ],
   "source": [
    "#auroc_df.sort_values('rdwpc_auroc', ascending = False)\n",
    "auroc_df[-auroc_df.metapath.str.contains('CtD')].sort_values('rdwpc_auroc', ascending = False).head()"
   ]
  }
 ],
 "metadata": {
  "kernelspec": {
   "display_name": "Python 3",
   "language": "python",
   "name": "python3"
  },
  "language_info": {
   "codemirror_mode": {
    "name": "ipython",
    "version": 3
   },
   "file_extension": ".py",
   "mimetype": "text/x-python",
   "name": "python",
   "nbconvert_exporter": "python",
   "pygments_lexer": "ipython3",
   "version": "3.5.2"
  }
 },
 "nbformat": 4,
 "nbformat_minor": 0
}
