{
 "cells": [
  {
   "cell_type": "markdown",
   "metadata": {},
   "source": [
    "# Create metapaths for analysis"
   ]
  },
  {
   "cell_type": "code",
   "execution_count": 1,
   "metadata": {
    "collapsed": true
   },
   "outputs": [],
   "source": [
    "import json\n",
    "import collections\n",
    "import math\n",
    "import configparser\n",
    "\n",
    "import numpy\n",
    "import pandas\n",
    "\n",
    "import hetio.readwrite\n",
    "import hetio.neo4j"
   ]
  },
  {
   "cell_type": "code",
   "execution_count": 2,
   "metadata": {
    "collapsed": false
   },
   "outputs": [],
   "source": [
    "metagraph = hetio.readwrite.read_metagraph(\"../../integrate/data/metagraph.json\")"
   ]
  },
  {
   "cell_type": "markdown",
   "metadata": {},
   "source": [
    "## Construct list of metapaths"
   ]
  },
  {
   "cell_type": "code",
   "execution_count": 3,
   "metadata": {
    "collapsed": false
   },
   "outputs": [],
   "source": [
    "def remove(metapath):\n",
    "    \"\"\"\n",
    "    Return True if metpath should be removed, so features\n",
    "    are not computed for it.\n",
    "    \"\"\"\n",
    "    return len(metapath) == 1"
   ]
  },
  {
   "cell_type": "code",
   "execution_count": 4,
   "metadata": {
    "collapsed": false
   },
   "outputs": [
    {
     "name": "stdout",
     "output_type": "stream",
     "text": [
      "Removed 1 metapaths\n"
     ]
    }
   ],
   "source": [
    "metapaths = metagraph.extract_metapaths('Compound', 'Disease', max_length=4)\n",
    "metapaths.sort(key=lambda x: (len(x), str(x)))\n",
    "\n",
    "obj = collections.OrderedDict()\n",
    "removed = list()\n",
    "for metapath in metapaths:\n",
    "    if remove(metapath):\n",
    "        removed.append(metapath)\n",
    "        continue\n",
    "    item = collections.OrderedDict()\n",
    "    item['length'] = len(metapath)\n",
    "    item['abbreviation'] = str(metapath)\n",
    "    item['edges'] = [str(x) for x in metapath.edges]\n",
    "    item['standard_edges'] = [str(x.inverse if x.inverted else x) for x in metapath.edges]\n",
    "    item['edge_abbreviations'] = [x.get_abbrev() for x in metapath.edges]\n",
    "    item['standard_edge_abbreviations'] = [x.get_standard_abbrev() for x in metapath.edges]\n",
    "    obj[metapath] = item\n",
    "\n",
    "print('Removed {} metapaths'.format(len(removed)))"
   ]
  },
  {
   "cell_type": "markdown",
   "metadata": {},
   "source": [
    "## Estimate metapath complexity by join index"
   ]
  },
  {
   "cell_type": "code",
   "execution_count": 5,
   "metadata": {
    "collapsed": false
   },
   "outputs": [],
   "source": [
    "url = \"../../integrate/data/summary/degrees.xlsx\"\n",
    "\n",
    "degree_dfs = dict()\n",
    "for metanode in metagraph.get_nodes():\n",
    "    metanode_name = str(metanode)\n",
    "    degree_dfs[metanode_name] = pandas.read_excel(url, sheetname=metanode_name)"
   ]
  },
  {
   "cell_type": "code",
   "execution_count": 6,
   "metadata": {
    "collapsed": false
   },
   "outputs": [],
   "source": [
    "metaedge_to_degree = dict()\n",
    "for degree_df in degree_dfs.values():\n",
    "    degrees = degree_df.iloc[:, 2:].apply(lambda x: numpy.average(x), axis='rows')\n",
    "    for metaedge, degree in degrees.items():\n",
    "        metaedge_to_degree[metaedge] = degree"
   ]
  },
  {
   "cell_type": "code",
   "execution_count": 7,
   "metadata": {
    "collapsed": true
   },
   "outputs": [],
   "source": [
    "def get_join_complexities(forward, backward):\n",
    "    \"\"\"\n",
    "    Returns a log10 measure of the estimated computational complexity for\n",
    "    joining at each node along a path. `forward` and `backward` are\n",
    "    estiamted degrees of the source node for each edge in a path.\n",
    "    `backward` traverses the path from left to right.\n",
    "    \"\"\"\n",
    "    assert len(forward) == len(backward)\n",
    "    complexities = list()\n",
    "    for i in range(len(forward) + 1):\n",
    "        head = numpy.prod(forward[:i] or 0)\n",
    "        tail = numpy.prod(backward[i:] or 0)\n",
    "        complexities.append(math.log10(head + tail))\n",
    "    return complexities"
   ]
  },
  {
   "cell_type": "code",
   "execution_count": 8,
   "metadata": {
    "collapsed": true
   },
   "outputs": [],
   "source": [
    "for metapath, item in obj.items():\n",
    "    forward = list()\n",
    "    backward = list()\n",
    "    for metaedge in metapath:\n",
    "        forward.append(metaedge_to_degree[str(metaedge)])\n",
    "        backward.append(metaedge_to_degree[str(metaedge.inverse)])\n",
    "    complexities = get_join_complexities(forward, backward)\n",
    "    # item['forward_degrees'] = forward\n",
    "    # item['backward_degrees'] = backward\n",
    "    item['join_complexities'] = complexities\n",
    "    item['optimal_join_index'] = int(numpy.argmin(complexities))\n",
    "    item['midpoint_index'] = len(metapath) // 2"
   ]
  },
  {
   "cell_type": "code",
   "execution_count": 9,
   "metadata": {
    "collapsed": false
   },
   "outputs": [
    {
     "data": {
      "text/plain": [
       "0.30675526024363231"
      ]
     },
     "execution_count": 9,
     "metadata": {},
     "output_type": "execute_result"
    }
   ],
   "source": [
    "# Percent of time the complexity join index is the midpoint\n",
    "numpy.mean([item['midpoint_index'] == item['optimal_join_index'] for item in obj.values()])"
   ]
  },
  {
   "cell_type": "markdown",
   "metadata": {},
   "source": [
    "## Create Cypher query"
   ]
  },
  {
   "cell_type": "code",
   "execution_count": 10,
   "metadata": {
    "collapsed": true
   },
   "outputs": [],
   "source": [
    "# Cypher DWPC query parameters\n",
    "dwpc_query_options = {\n",
    "    'property': 'identifier',\n",
    "    'index_hint': False,\n",
    "    'unique_nodes': 'labeled',\n",
    "}"
   ]
  },
  {
   "cell_type": "code",
   "execution_count": 11,
   "metadata": {
    "collapsed": true
   },
   "outputs": [],
   "source": [
    "for metapath, item in obj.items():\n",
    "    opts = dwpc_query_options.copy()\n",
    "    opts['join_hint'] = item['midpoint_index']\n",
    "    item['dwpc_query'] = hetio.neo4j.construct_dwpc_query(metapath, **opts)"
   ]
  },
  {
   "cell_type": "markdown",
   "metadata": {},
   "source": [
    "## Save metapaths as a JSON file "
   ]
  },
  {
   "cell_type": "code",
   "execution_count": 12,
   "metadata": {
    "collapsed": false
   },
   "outputs": [],
   "source": [
    "path = 'data/metapaths.json'\n",
    "with open(path, 'w') as fp:\n",
    "    json.dump(list(obj.values()), fp, indent=2)\n",
    "\n",
    "path = 'data/metaedge-to-mean-degrees.json'\n",
    "with open(path, 'w') as fp:\n",
    "    json.dump(metaedge_to_degree, fp, indent=2, sort_keys=True)"
   ]
  },
  {
   "cell_type": "markdown",
   "metadata": {},
   "source": [
    "## Metapaths as a DataFrame"
   ]
  },
  {
   "cell_type": "code",
   "execution_count": 13,
   "metadata": {
    "collapsed": false
   },
   "outputs": [
    {
     "data": {
      "text/html": [
       "<div>\n",
       "<style>\n",
       "    .dataframe thead tr:only-child th {\n",
       "        text-align: right;\n",
       "    }\n",
       "\n",
       "    .dataframe thead th {\n",
       "        text-align: left;\n",
       "    }\n",
       "\n",
       "    .dataframe tbody tr th {\n",
       "        vertical-align: top;\n",
       "    }\n",
       "</style>\n",
       "<table border=\"1\" class=\"dataframe\">\n",
       "  <thead>\n",
       "    <tr style=\"text-align: right;\">\n",
       "      <th></th>\n",
       "      <th>abbreviation</th>\n",
       "      <th>length</th>\n",
       "      <th>midpoint_index</th>\n",
       "      <th>optimal_join_index</th>\n",
       "      <th>sequential_complexity</th>\n",
       "    </tr>\n",
       "  </thead>\n",
       "  <tbody>\n",
       "    <tr>\n",
       "      <th>0</th>\n",
       "      <td>CbGaD</td>\n",
       "      <td>2</td>\n",
       "      <td>1</td>\n",
       "      <td>2</td>\n",
       "      <td>1.706733</td>\n",
       "    </tr>\n",
       "    <tr>\n",
       "      <th>1</th>\n",
       "      <td>CbGdD</td>\n",
       "      <td>2</td>\n",
       "      <td>1</td>\n",
       "      <td>2</td>\n",
       "      <td>1.487696</td>\n",
       "    </tr>\n",
       "    <tr>\n",
       "      <th>2</th>\n",
       "      <td>CbGuD</td>\n",
       "      <td>2</td>\n",
       "      <td>1</td>\n",
       "      <td>2</td>\n",
       "      <td>1.493806</td>\n",
       "    </tr>\n",
       "    <tr>\n",
       "      <th>3</th>\n",
       "      <td>CdGaD</td>\n",
       "      <td>2</td>\n",
       "      <td>1</td>\n",
       "      <td>2</td>\n",
       "      <td>1.967685</td>\n",
       "    </tr>\n",
       "    <tr>\n",
       "      <th>4</th>\n",
       "      <td>CdGdD</td>\n",
       "      <td>2</td>\n",
       "      <td>1</td>\n",
       "      <td>2</td>\n",
       "      <td>1.748649</td>\n",
       "    </tr>\n",
       "  </tbody>\n",
       "</table>\n",
       "</div>"
      ],
      "text/plain": [
       "  abbreviation  length  midpoint_index  optimal_join_index  \\\n",
       "0        CbGaD       2               1                   2   \n",
       "1        CbGdD       2               1                   2   \n",
       "2        CbGuD       2               1                   2   \n",
       "3        CdGaD       2               1                   2   \n",
       "4        CdGdD       2               1                   2   \n",
       "\n",
       "   sequential_complexity  \n",
       "0               1.706733  \n",
       "1               1.487696  \n",
       "2               1.493806  \n",
       "3               1.967685  \n",
       "4               1.748649  "
      ]
     },
     "execution_count": 13,
     "metadata": {},
     "output_type": "execute_result"
    }
   ],
   "source": [
    "metapath_df = pandas.DataFrame(list(obj.values()))\n",
    "metapath_df['sequential_complexity'] = metapath_df.join_complexities.map(lambda x: x[0])\n",
    "metapath_df = metapath_df[['abbreviation', 'length', 'midpoint_index', 'optimal_join_index', 'sequential_complexity']]\n",
    "metapath_df.head()"
   ]
  },
  {
   "cell_type": "code",
   "execution_count": 14,
   "metadata": {
    "collapsed": true
   },
   "outputs": [],
   "source": [
    "metapath_df.to_csv('data/metapaths.tsv', index=False, sep='\\t')"
   ]
  },
  {
   "cell_type": "code",
   "execution_count": 15,
   "metadata": {
    "collapsed": true
   },
   "outputs": [],
   "source": [
    "import seaborn\n",
    "%matplotlib inline"
   ]
  },
  {
   "cell_type": "code",
   "execution_count": 16,
   "metadata": {
    "collapsed": false
   },
   "outputs": [
    {
     "name": "stderr",
     "output_type": "stream",
     "text": [
      "/home/tongli/anaconda3/envs/integrate/lib/python3.5/site-packages/matplotlib/font_manager.py:1297: UserWarning: findfont: Font family ['sans-serif'] not found. Falling back to DejaVu Sans\n",
      "  (prop.get_family(), self.defaultFamily[fontext]))\n"
     ]
    },
    {
     "data": {
      "image/png": "[encoded data removed]",
      "text/plain": [
       "<matplotlib.figure.Figure at 0x7f17dd647ef0>"
      ]
     },
     "metadata": {},
     "output_type": "display_data"
    }
   ],
   "source": [
    "ax = seaborn.distplot(metapath_df.sequential_complexity)"
   ]
  },
  {
   "cell_type": "markdown",
   "metadata": {},
   "source": [
    "## Metaedges in each metapath"
   ]
  },
  {
   "cell_type": "code",
   "execution_count": 17,
   "metadata": {
    "collapsed": false
   },
   "outputs": [
    {
     "data": {
      "text/html": [
       "<div>\n",
       "<style>\n",
       "    .dataframe thead tr:only-child th {\n",
       "        text-align: right;\n",
       "    }\n",
       "\n",
       "    .dataframe thead th {\n",
       "        text-align: left;\n",
       "    }\n",
       "\n",
       "    .dataframe tbody tr th {\n",
       "        vertical-align: top;\n",
       "    }\n",
       "</style>\n",
       "<table border=\"1\" class=\"dataframe\">\n",
       "  <thead>\n",
       "    <tr style=\"text-align: right;\">\n",
       "      <th></th>\n",
       "      <th>metapath</th>\n",
       "      <th>metaedge</th>\n",
       "      <th>metaedge_abbrev</th>\n",
       "      <th>position</th>\n",
       "      <th>length</th>\n",
       "    </tr>\n",
       "  </thead>\n",
       "  <tbody>\n",
       "    <tr>\n",
       "      <th>0</th>\n",
       "      <td>CbGaD</td>\n",
       "      <td>Compound - binds - Gene</td>\n",
       "      <td>CbG</td>\n",
       "      <td>1</td>\n",
       "      <td>2</td>\n",
       "    </tr>\n",
       "    <tr>\n",
       "      <th>1</th>\n",
       "      <td>CbGaD</td>\n",
       "      <td>Disease - associates - Gene</td>\n",
       "      <td>DaG</td>\n",
       "      <td>2</td>\n",
       "      <td>2</td>\n",
       "    </tr>\n",
       "    <tr>\n",
       "      <th>2</th>\n",
       "      <td>CbGdD</td>\n",
       "      <td>Compound - binds - Gene</td>\n",
       "      <td>CbG</td>\n",
       "      <td>1</td>\n",
       "      <td>2</td>\n",
       "    </tr>\n",
       "    <tr>\n",
       "      <th>3</th>\n",
       "      <td>CbGdD</td>\n",
       "      <td>Disease - downregulates - Gene</td>\n",
       "      <td>DdG</td>\n",
       "      <td>2</td>\n",
       "      <td>2</td>\n",
       "    </tr>\n",
       "    <tr>\n",
       "      <th>4</th>\n",
       "      <td>CbGuD</td>\n",
       "      <td>Compound - binds - Gene</td>\n",
       "      <td>CbG</td>\n",
       "      <td>1</td>\n",
       "      <td>2</td>\n",
       "    </tr>\n",
       "  </tbody>\n",
       "</table>\n",
       "</div>"
      ],
      "text/plain": [
       "  metapath                        metaedge metaedge_abbrev  position  length\n",
       "0    CbGaD         Compound - binds - Gene             CbG         1       2\n",
       "1    CbGaD     Disease - associates - Gene             DaG         2       2\n",
       "2    CbGdD         Compound - binds - Gene             CbG         1       2\n",
       "3    CbGdD  Disease - downregulates - Gene             DdG         2       2\n",
       "4    CbGuD         Compound - binds - Gene             CbG         1       2"
      ]
     },
     "execution_count": 17,
     "metadata": {},
     "output_type": "execute_result"
    }
   ],
   "source": [
    "rows = list()\n",
    "for metapath in obj.keys():\n",
    "    for i, edge in enumerate(metapath.edges):\n",
    "        edge = edge.inverse if edge.inverted else edge\n",
    "        rows.append((str(metapath), str(edge), edge.get_standard_abbrev(), i + 1, len(metapath)))\n",
    "metaedge_df = pandas.DataFrame(rows, columns=['metapath', 'metaedge', 'metaedge_abbrev', 'position', 'length'])\n",
    "metaedge_df.to_csv('data/metaedge-in-metapath.tsv', sep='\\t', index=False)\n",
    "metaedge_df.head()"
   ]
  }
 ],
 "metadata": {
  "kernelspec": {
   "display_name": "Python 3",
   "language": "python",
   "name": "python3"
  },
  "language_info": {
   "codemirror_mode": {
    "name": "ipython",
    "version": 3
   },
   "file_extension": ".py",
   "mimetype": "text/x-python",
   "name": "python",
   "nbconvert_exporter": "python",
   "pygments_lexer": "ipython3",
   "version": "3.5.2"
  }
 },
 "nbformat": 4,
 "nbformat_minor": 0
}
