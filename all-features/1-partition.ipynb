{
 "cells": [
  {
   "cell_type": "markdown",
   "metadata": {},
   "source": [
    "# Assign positives and negatives "
   ]
  },
  {
   "cell_type": "code",
   "execution_count": 1,
   "metadata": {
    "collapsed": true
   },
   "outputs": [],
   "source": [
    "import itertools\n",
    "import random\n",
    "import sys\n",
    "import json\n",
    "\n",
    "import py2neo\n",
    "import pandas"
   ]
  },
  {
   "cell_type": "markdown",
   "metadata": {},
   "source": [
    "## Startup neo4j and connections"
   ]
  },
  {
   "cell_type": "code",
   "execution_count": 2,
   "metadata": {
    "collapsed": false
   },
   "outputs": [
    {
     "data": {
      "text/plain": [
       "['rephetio-v2.0',\n",
       " 'rephetio-v2.0_perm-1',\n",
       " 'rephetio-v2.0_perm-2',\n",
       " 'rephetio-v2.0_perm-3',\n",
       " 'rephetio-v2.0_perm-4',\n",
       " 'rephetio-v2.0_perm-5']"
      ]
     },
     "execution_count": 2,
     "metadata": {},
     "output_type": "execute_result"
    }
   ],
   "source": [
    "with open('servers.json') as read_file:\n",
    "    instances = json.load(read_file)\n",
    "\n",
    "for instance in instances:\n",
    "    neo = py2neo.Graph(\n",
    "        host=\"localhost\", bolt_port=instance['port'],\n",
    "        http_port=instance['port']+1, bolt=True\n",
    "    )\n",
    "    \n",
    "    instance['py2neo'] = neo\n",
    "    \n",
    "    if instance['name'] == 'rephetio-v2.0':\n",
    "        neo_unperm = instance['py2neo']\n",
    "\n",
    "hetnets = [x['name'] for x in instances]\n",
    "hetnets"
   ]
  },
  {
   "cell_type": "markdown",
   "metadata": {},
   "source": [
    "## Create partitions"
   ]
  },
  {
   "cell_type": "code",
   "execution_count": 3,
   "metadata": {
    "collapsed": true
   },
   "outputs": [],
   "source": [
    "def to_df(record_list):\n",
    "    \"\"\"Convert a py2neo RecordList to a dataframe\"\"\"\n",
    "    return pandas.DataFrame(record_list.data())"
   ]
  },
  {
   "cell_type": "code",
   "execution_count": 4,
   "metadata": {
    "collapsed": true
   },
   "outputs": [],
   "source": [
    "compound_df = pandas.read_table('../summary/compounds.tsv')\n",
    "disease_df = pandas.read_table('../summary/diseases.tsv')"
   ]
  },
  {
   "cell_type": "markdown",
   "metadata": {},
   "source": [
    "## All potential pairs"
   ]
  },
  {
   "cell_type": "code",
   "execution_count": 5,
   "metadata": {
    "collapsed": false
   },
   "outputs": [
    {
     "data": {
      "text/plain": [
       "'134 compounds × 1393 diseases = 186662 pairs'"
      ]
     },
     "execution_count": 5,
     "metadata": {},
     "output_type": "execute_result"
    }
   ],
   "source": [
    "'{} compounds × {} diseases = {} pairs'.format(\n",
    "    len(disease_df), len(compound_df), len(disease_df) * len(compound_df))"
   ]
  },
  {
   "cell_type": "markdown",
   "metadata": {},
   "source": [
    "## Nonzero prior pairs"
   ]
  },
  {
   "cell_type": "code",
   "execution_count": 6,
   "metadata": {
    "collapsed": false
   },
   "outputs": [
    {
     "data": {
      "text/plain": [
       "323"
      ]
     },
     "execution_count": 6,
     "metadata": {},
     "output_type": "execute_result"
    }
   ],
   "source": [
    "compound_df.query(\"treats > 0\")[\"chemical_id\"].nunique()"
   ]
  },
  {
   "cell_type": "code",
   "execution_count": 7,
   "metadata": {
    "collapsed": false
   },
   "outputs": [
    {
     "data": {
      "text/plain": [
       "73"
      ]
     },
     "execution_count": 7,
     "metadata": {},
     "output_type": "execute_result"
    }
   ],
   "source": [
    "disease_df.query(\"treats > 0\")[\"disease_id\"].nunique()"
   ]
  },
  {
   "cell_type": "code",
   "execution_count": 8,
   "metadata": {
    "collapsed": true
   },
   "outputs": [],
   "source": [
    "nonzero_prior_pairs = set(itertools.product(\n",
    "    compound_df.query(\"treats > 0\").chemical_id,\n",
    "    disease_df.query(\"treats > 0\").disease_id)\n",
    ")"
   ]
  },
  {
   "cell_type": "code",
   "execution_count": 9,
   "metadata": {
    "collapsed": false
   },
   "outputs": [
    {
     "data": {
      "text/plain": [
       "23579"
      ]
     },
     "execution_count": 9,
     "metadata": {},
     "output_type": "execute_result"
    }
   ],
   "source": [
    "len(nonzero_prior_pairs)"
   ]
  },
  {
   "cell_type": "markdown",
   "metadata": {
    "collapsed": true
   },
   "source": [
    "---"
   ]
  },
  {
   "cell_type": "markdown",
   "metadata": {},
   "source": [
    "## Read training data for cross validation"
   ]
  },
  {
   "cell_type": "code",
   "execution_count": 10,
   "metadata": {
    "collapsed": true
   },
   "outputs": [],
   "source": [
    "with open(\"../../crossval_idx.txt\", \"r\") as fin:\n",
    "    train_idx = int(fin.read().strip())"
   ]
  },
  {
   "cell_type": "code",
   "execution_count": 11,
   "metadata": {
    "collapsed": false
   },
   "outputs": [
    {
     "data": {
      "text/plain": [
       "0"
      ]
     },
     "execution_count": 11,
     "metadata": {},
     "output_type": "execute_result"
    }
   ],
   "source": [
    "train_idx"
   ]
  },
  {
   "cell_type": "code",
   "execution_count": 12,
   "metadata": {
    "collapsed": true
   },
   "outputs": [],
   "source": [
    "train = pandas.read_csv(\"../../../crossval/data/training/training_piece{}.tsv\".format(train_idx), sep = '\\t')"
   ]
  },
  {
   "cell_type": "code",
   "execution_count": 13,
   "metadata": {
    "collapsed": false
   },
   "outputs": [
    {
     "data": {
      "text/plain": [
       "(38982, 6)"
      ]
     },
     "execution_count": 13,
     "metadata": {},
     "output_type": "execute_result"
    }
   ],
   "source": [
    "train.shape"
   ]
  },
  {
   "cell_type": "code",
   "execution_count": 14,
   "metadata": {
    "collapsed": true
   },
   "outputs": [],
   "source": [
    "def df_to_pairs(df):\n",
    "    return set(zip(df[\"chemical_id\"], df[\"disease_id\"]))    "
   ]
  },
  {
   "cell_type": "code",
   "execution_count": 15,
   "metadata": {
    "collapsed": true
   },
   "outputs": [],
   "source": [
    "train_pairs = df_to_pairs(train)"
   ]
  },
  {
   "cell_type": "code",
   "execution_count": 16,
   "metadata": {
    "collapsed": false
   },
   "outputs": [
    {
     "data": {
      "text/plain": [
       "False"
      ]
     },
     "execution_count": 16,
     "metadata": {},
     "output_type": "execute_result"
    }
   ],
   "source": [
    "nonzero_prior_pairs <= train_pairs"
   ]
  },
  {
   "cell_type": "markdown",
   "metadata": {},
   "source": [
    "There are some potential pairs which are present in the holdout set, so we will remove these from the potential negative training examples."
   ]
  },
  {
   "cell_type": "code",
   "execution_count": 17,
   "metadata": {
    "collapsed": true
   },
   "outputs": [],
   "source": [
    "nonzero_prior_pairs &= train_pairs"
   ]
  },
  {
   "cell_type": "code",
   "execution_count": 18,
   "metadata": {
    "collapsed": false
   },
   "outputs": [
    {
     "data": {
      "text/plain": [
       "18403"
      ]
     },
     "execution_count": 18,
     "metadata": {},
     "output_type": "execute_result"
    }
   ],
   "source": [
    "len(nonzero_prior_pairs)"
   ]
  },
  {
   "cell_type": "code",
   "execution_count": 19,
   "metadata": {
    "collapsed": false
   },
   "outputs": [
    {
     "data": {
      "text/plain": [
       "True"
      ]
     },
     "execution_count": 19,
     "metadata": {},
     "output_type": "execute_result"
    }
   ],
   "source": [
    "nonzero_prior_pairs <= train_pairs"
   ]
  },
  {
   "cell_type": "markdown",
   "metadata": {},
   "source": [
    "The data has now been sanitized so that no relations which appear in the holdout set are ever seen prior to making predictions."
   ]
  },
  {
   "cell_type": "markdown",
   "metadata": {},
   "source": [
    "---"
   ]
  },
  {
   "cell_type": "markdown",
   "metadata": {},
   "source": [
    "## Split the data"
   ]
  },
  {
   "cell_type": "code",
   "execution_count": 20,
   "metadata": {
    "collapsed": true
   },
   "outputs": [],
   "source": [
    "indication_query = '''\n",
    "MATCH (compound:Compound)-[treatment:TREATS_CtD]->(disease:Disease)\n",
    "RETURN\n",
    "  compound.identifier AS chemical_id,\n",
    "  disease.identifier AS disease_id\n",
    "ORDER BY\n",
    "  chemical_id, disease_id\n",
    "'''\n",
    "\n",
    "def partition(neo):\n",
    "    \"\"\"\n",
    "    Extract negative and positive compound-disease pairs from a py2neo.Graph.\n",
    "    \"\"\"\n",
    "    \n",
    "    # query hetnet for all positive drug-treat-disease examples\n",
    "    # query hetnet for all potential drug-disease pairs\n",
    "    # randomly sample 4x the number of non-positive examples for use as negative examples\n",
    "\n",
    "    \n",
    "    # Use TREATS_CtD as positives\n",
    "    # different from training data because edges were permuted\n",
    "    indication_df = to_df(neo.run(indication_query))\n",
    "    \n",
    "    positives = set(zip(indication_df.chemical_id, indication_df.disease_id))\n",
    "\n",
    "    # Use nonzero-prior pairs excluding non-negatives as negatives\n",
    "    negatives = nonzero_prior_pairs - positives\n",
    "    \n",
    "    assert negatives <= train_pairs, \"Bad training data\"\n",
    "    \n",
    "    \n",
    "    negatives = random.sample(negatives, k=len(positives) * 4)\n",
    "    rows = list()\n",
    "    for status, pairs in (0, negatives), (1, positives):\n",
    "        for drug, disease in pairs:\n",
    "            rows.append((drug, disease, status))\n",
    "    df = pandas.DataFrame(rows, columns=['chemical_id', 'disease_id', 'status'])\n",
    "    df = df.sort_values(['disease_id', 'status', 'chemical_id'])\n",
    "    return df"
   ]
  },
  {
   "cell_type": "code",
   "execution_count": 21,
   "metadata": {
    "collapsed": true
   },
   "outputs": [],
   "source": [
    "part_dfs = list()\n",
    "for seed, instance in enumerate(instances):\n",
    "    random.seed(seed, version=2)\n",
    "    part_df = partition(instance['py2neo'])\n",
    "    part_df.insert(0, 'hetnet', instance['name'])\n",
    "    part_dfs.append(part_df)\n",
    "part_df = pandas.concat(part_dfs)"
   ]
  },
  {
   "cell_type": "code",
   "execution_count": 22,
   "metadata": {
    "collapsed": false
   },
   "outputs": [
    {
     "data": {
      "text/html": [
       "<div>\n",
       "<table border=\"1\" class=\"dataframe\">\n",
       "  <thead>\n",
       "    <tr style=\"text-align: right;\">\n",
       "      <th></th>\n",
       "      <th>hetnet</th>\n",
       "      <th>chemical_id</th>\n",
       "      <th>disease_id</th>\n",
       "      <th>status</th>\n",
       "    </tr>\n",
       "  </thead>\n",
       "  <tbody>\n",
       "    <tr>\n",
       "      <th>1422</th>\n",
       "      <td>rephetio-v2.0</td>\n",
       "      <td>DB00153</td>\n",
       "      <td>DOID:0050741</td>\n",
       "      <td>0</td>\n",
       "    </tr>\n",
       "    <tr>\n",
       "      <th>1563</th>\n",
       "      <td>rephetio-v2.0</td>\n",
       "      <td>DB00178</td>\n",
       "      <td>DOID:0050741</td>\n",
       "      <td>0</td>\n",
       "    </tr>\n",
       "    <tr>\n",
       "      <th>689</th>\n",
       "      <td>rephetio-v2.0</td>\n",
       "      <td>DB00205</td>\n",
       "      <td>DOID:0050741</td>\n",
       "      <td>0</td>\n",
       "    </tr>\n",
       "    <tr>\n",
       "      <th>1333</th>\n",
       "      <td>rephetio-v2.0</td>\n",
       "      <td>DB00206</td>\n",
       "      <td>DOID:0050741</td>\n",
       "      <td>0</td>\n",
       "    </tr>\n",
       "    <tr>\n",
       "      <th>1760</th>\n",
       "      <td>rephetio-v2.0</td>\n",
       "      <td>DB00220</td>\n",
       "      <td>DOID:0050741</td>\n",
       "      <td>0</td>\n",
       "    </tr>\n",
       "  </tbody>\n",
       "</table>\n",
       "</div>"
      ],
      "text/plain": [
       "             hetnet chemical_id    disease_id  status\n",
       "1422  rephetio-v2.0     DB00153  DOID:0050741       0\n",
       "1563  rephetio-v2.0     DB00178  DOID:0050741       0\n",
       "689   rephetio-v2.0     DB00205  DOID:0050741       0\n",
       "1333  rephetio-v2.0     DB00206  DOID:0050741       0\n",
       "1760  rephetio-v2.0     DB00220  DOID:0050741       0"
      ]
     },
     "execution_count": 22,
     "metadata": {},
     "output_type": "execute_result"
    }
   ],
   "source": [
    "part_df.head()"
   ]
  },
  {
   "cell_type": "code",
   "execution_count": 23,
   "metadata": {
    "collapsed": false
   },
   "outputs": [
    {
     "data": {
      "text/plain": [
       "hetnet                status\n",
       "rephetio-v2.0         0         2368\n",
       "                      1          592\n",
       "rephetio-v2.0_perm-1  0         2368\n",
       "                      1          592\n",
       "rephetio-v2.0_perm-2  0         2368\n",
       "                      1          592\n",
       "rephetio-v2.0_perm-3  0         2368\n",
       "                      1          592\n",
       "rephetio-v2.0_perm-4  0         2368\n",
       "                      1          592\n",
       "rephetio-v2.0_perm-5  0         2368\n",
       "                      1          592\n",
       "Name: status, dtype: int64"
      ]
     },
     "execution_count": 23,
     "metadata": {},
     "output_type": "execute_result"
    }
   ],
   "source": [
    "part_df.groupby(\"hetnet\")[\"status\"].value_counts()"
   ]
  },
  {
   "cell_type": "code",
   "execution_count": 24,
   "metadata": {
    "collapsed": false
   },
   "outputs": [
    {
     "data": {
      "text/html": [
       "<div>\n",
       "<table border=\"1\" class=\"dataframe\">\n",
       "  <thead>\n",
       "    <tr style=\"text-align: right;\">\n",
       "      <th></th>\n",
       "      <th>hetnet</th>\n",
       "      <th>chemical_id</th>\n",
       "      <th>disease_id</th>\n",
       "      <th>status</th>\n",
       "    </tr>\n",
       "  </thead>\n",
       "  <tbody>\n",
       "    <tr>\n",
       "      <th>9</th>\n",
       "      <td>rephetio-v2.0_perm-1</td>\n",
       "      <td>DB01048</td>\n",
       "      <td>DOID:10652</td>\n",
       "      <td>0</td>\n",
       "    </tr>\n",
       "    <tr>\n",
       "      <th>10</th>\n",
       "      <td>rephetio-v2.0_perm-1</td>\n",
       "      <td>DB01048</td>\n",
       "      <td>DOID:12361</td>\n",
       "      <td>0</td>\n",
       "    </tr>\n",
       "  </tbody>\n",
       "</table>\n",
       "</div>"
      ],
      "text/plain": [
       "                  hetnet chemical_id  disease_id  status\n",
       "9   rephetio-v2.0_perm-1     DB01048  DOID:10652       0\n",
       "10  rephetio-v2.0_perm-1     DB01048  DOID:12361       0"
      ]
     },
     "execution_count": 24,
     "metadata": {},
     "output_type": "execute_result"
    }
   ],
   "source": [
    "## Create an even-matrix for unpermuted observations\n",
    "template_df = pandas.DataFrame(list(itertools.product(hetnets, compound_df.chemical_id)), columns=['hetnet', 'chemical_id'])\n",
    "unperm_pair_df = part_df.query(\"hetnet == 'rephetio-v2.0'\")[['chemical_id', 'disease_id']]\n",
    "unperm_pair_df = template_df.merge(unperm_pair_df)\n",
    "unperm_pair_df = unperm_pair_df.merge(part_df, how='left')\n",
    "unperm_pair_df = unperm_pair_df[unperm_pair_df.status.isnull()]\n",
    "unperm_pair_df.status = unperm_pair_df.status.fillna(0).astype(int)\n",
    "unperm_pair_df.head(2)"
   ]
  },
  {
   "cell_type": "code",
   "execution_count": 25,
   "metadata": {
    "collapsed": false,
    "scrolled": true
   },
   "outputs": [
    {
     "data": {
      "text/html": [
       "<div>\n",
       "<table border=\"1\" class=\"dataframe\">\n",
       "  <thead>\n",
       "    <tr style=\"text-align: right;\">\n",
       "      <th></th>\n",
       "      <th>hetnet</th>\n",
       "      <th>chemical_id</th>\n",
       "      <th>disease_id</th>\n",
       "      <th>status</th>\n",
       "      <th>primary</th>\n",
       "    </tr>\n",
       "  </thead>\n",
       "  <tbody>\n",
       "    <tr>\n",
       "      <th>1865</th>\n",
       "      <td>rephetio-v2.0_perm-1</td>\n",
       "      <td>DB00014</td>\n",
       "      <td>DOID:0050742</td>\n",
       "      <td>0</td>\n",
       "      <td>1</td>\n",
       "    </tr>\n",
       "    <tr>\n",
       "      <th>2375</th>\n",
       "      <td>rephetio-v2.0_perm-2</td>\n",
       "      <td>DB00014</td>\n",
       "      <td>DOID:0050742</td>\n",
       "      <td>1</td>\n",
       "      <td>1</td>\n",
       "    </tr>\n",
       "    <tr>\n",
       "      <th>694</th>\n",
       "      <td>rephetio-v2.0_perm-3</td>\n",
       "      <td>DB00014</td>\n",
       "      <td>DOID:0060073</td>\n",
       "      <td>0</td>\n",
       "      <td>1</td>\n",
       "    </tr>\n",
       "    <tr>\n",
       "      <th>345</th>\n",
       "      <td>rephetio-v2.0_perm-5</td>\n",
       "      <td>DB00014</td>\n",
       "      <td>DOID:0060073</td>\n",
       "      <td>0</td>\n",
       "      <td>1</td>\n",
       "    </tr>\n",
       "    <tr>\n",
       "      <th>2946</th>\n",
       "      <td>rephetio-v2.0</td>\n",
       "      <td>DB00014</td>\n",
       "      <td>DOID:10283</td>\n",
       "      <td>1</td>\n",
       "      <td>1</td>\n",
       "    </tr>\n",
       "  </tbody>\n",
       "</table>\n",
       "</div>"
      ],
      "text/plain": [
       "                    hetnet chemical_id    disease_id  status  primary\n",
       "1865  rephetio-v2.0_perm-1     DB00014  DOID:0050742       0        1\n",
       "2375  rephetio-v2.0_perm-2     DB00014  DOID:0050742       1        1\n",
       "694   rephetio-v2.0_perm-3     DB00014  DOID:0060073       0        1\n",
       "345   rephetio-v2.0_perm-5     DB00014  DOID:0060073       0        1\n",
       "2946         rephetio-v2.0     DB00014    DOID:10283       1        1"
      ]
     },
     "execution_count": 25,
     "metadata": {},
     "output_type": "execute_result"
    }
   ],
   "source": [
    "part_df['primary'] = 1\n",
    "unperm_pair_df['primary'] = 0\n",
    "full_part_df = pandas.concat([part_df, unperm_pair_df])\n",
    "full_part_df = full_part_df.sort_values(['chemical_id', 'disease_id', 'hetnet'])\n",
    "full_part_df.head(5)"
   ]
  },
  {
   "cell_type": "code",
   "execution_count": 26,
   "metadata": {
    "collapsed": true
   },
   "outputs": [],
   "source": [
    "full_part_df.to_csv('data/partitions.tsv', sep='\\t', index=False)"
   ]
  },
  {
   "cell_type": "code",
   "execution_count": 27,
   "metadata": {
    "collapsed": false
   },
   "outputs": [
    {
     "data": {
      "text/plain": [
       "30203"
      ]
     },
     "execution_count": 27,
     "metadata": {},
     "output_type": "execute_result"
    }
   ],
   "source": [
    "# Number of hetnet-compound-disease pairs\n",
    "len(full_part_df)"
   ]
  },
  {
   "cell_type": "code",
   "execution_count": 28,
   "metadata": {
    "collapsed": false
   },
   "outputs": [
    {
     "data": {
      "text/html": [
       "<div>\n",
       "<table border=\"1\" class=\"dataframe\">\n",
       "  <thead>\n",
       "    <tr style=\"text-align: right;\">\n",
       "      <th>status</th>\n",
       "      <th>0</th>\n",
       "      <th>1</th>\n",
       "    </tr>\n",
       "    <tr>\n",
       "      <th>primary</th>\n",
       "      <th></th>\n",
       "      <th></th>\n",
       "    </tr>\n",
       "  </thead>\n",
       "  <tbody>\n",
       "    <tr>\n",
       "      <th>0</th>\n",
       "      <td>12443</td>\n",
       "      <td>0</td>\n",
       "    </tr>\n",
       "    <tr>\n",
       "      <th>1</th>\n",
       "      <td>14208</td>\n",
       "      <td>3552</td>\n",
       "    </tr>\n",
       "  </tbody>\n",
       "</table>\n",
       "</div>"
      ],
      "text/plain": [
       "status       0     1\n",
       "primary             \n",
       "0        12443     0\n",
       "1        14208  3552"
      ]
     },
     "execution_count": 28,
     "metadata": {},
     "output_type": "execute_result"
    }
   ],
   "source": [
    "# Number of positives and negatives per purpose\n",
    "pandas.crosstab(full_part_df.primary, full_part_df.status)"
   ]
  },
  {
   "cell_type": "code",
   "execution_count": 29,
   "metadata": {
    "collapsed": false
   },
   "outputs": [
    {
     "data": {
      "text/html": [
       "<div>\n",
       "<table border=\"1\" class=\"dataframe\">\n",
       "  <thead>\n",
       "    <tr style=\"text-align: right;\">\n",
       "      <th>status</th>\n",
       "      <th>0</th>\n",
       "      <th>1</th>\n",
       "    </tr>\n",
       "    <tr>\n",
       "      <th>hetnet</th>\n",
       "      <th></th>\n",
       "      <th></th>\n",
       "    </tr>\n",
       "  </thead>\n",
       "  <tbody>\n",
       "    <tr>\n",
       "      <th>rephetio-v2.0</th>\n",
       "      <td>2368</td>\n",
       "      <td>592</td>\n",
       "    </tr>\n",
       "    <tr>\n",
       "      <th>rephetio-v2.0_perm-1</th>\n",
       "      <td>4870</td>\n",
       "      <td>592</td>\n",
       "    </tr>\n",
       "    <tr>\n",
       "      <th>rephetio-v2.0_perm-2</th>\n",
       "      <td>4847</td>\n",
       "      <td>592</td>\n",
       "    </tr>\n",
       "    <tr>\n",
       "      <th>rephetio-v2.0_perm-3</th>\n",
       "      <td>4856</td>\n",
       "      <td>592</td>\n",
       "    </tr>\n",
       "    <tr>\n",
       "      <th>rephetio-v2.0_perm-4</th>\n",
       "      <td>4847</td>\n",
       "      <td>592</td>\n",
       "    </tr>\n",
       "    <tr>\n",
       "      <th>rephetio-v2.0_perm-5</th>\n",
       "      <td>4863</td>\n",
       "      <td>592</td>\n",
       "    </tr>\n",
       "  </tbody>\n",
       "</table>\n",
       "</div>"
      ],
      "text/plain": [
       "status                   0    1\n",
       "hetnet                         \n",
       "rephetio-v2.0         2368  592\n",
       "rephetio-v2.0_perm-1  4870  592\n",
       "rephetio-v2.0_perm-2  4847  592\n",
       "rephetio-v2.0_perm-3  4856  592\n",
       "rephetio-v2.0_perm-4  4847  592\n",
       "rephetio-v2.0_perm-5  4863  592"
      ]
     },
     "execution_count": 29,
     "metadata": {},
     "output_type": "execute_result"
    }
   ],
   "source": [
    "# Number of positives and negatives per hetnet\n",
    "pandas.crosstab(full_part_df.hetnet, full_part_df.status)"
   ]
  }
 ],
 "metadata": {
  "kernelspec": {
   "display_name": "Python 3",
   "language": "python",
   "name": "python3"
  },
  "language_info": {
   "codemirror_mode": {
    "name": "ipython",
    "version": 3
   },
   "file_extension": ".py",
   "mimetype": "text/x-python",
   "name": "python",
   "nbconvert_exporter": "python",
   "pygments_lexer": "ipython3",
   "version": "3.5.2"
  }
 },
 "nbformat": 4,
 "nbformat_minor": 1
}
