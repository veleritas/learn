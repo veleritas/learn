{
 "cells": [
  {
   "cell_type": "markdown",
   "metadata": {},
   "source": [
    "# New extract and matrixify in one notebook\n",
    "\n",
    "Goal to reproduce the files needed.\n",
    "\n",
    "Skip 3-extract\n",
    "skip parts of 4-matrixify\n",
    "\n",
    "but produce the same output files"
   ]
  },
  {
   "cell_type": "code",
   "execution_count": 1,
   "metadata": {
    "collapsed": true
   },
   "outputs": [],
   "source": [
    "import pandas as pd\n",
    "import numpy as np\n",
    "\n",
    "import os\n",
    "import bz2\n",
    "import itertools\n",
    "\n",
    "import sys\n",
    "\n",
    "sys.path.append(\"..\")"
   ]
  },
  {
   "cell_type": "code",
   "execution_count": 2,
   "metadata": {
    "collapsed": false
   },
   "outputs": [],
   "source": [
    "from src.extractor import MatrixFormattedGraph"
   ]
  },
  {
   "cell_type": "markdown",
   "metadata": {},
   "source": [
    "---"
   ]
  },
  {
   "cell_type": "markdown",
   "metadata": {},
   "source": [
    "## Get the matricies for all permutations"
   ]
  },
  {
   "cell_type": "code",
   "execution_count": 3,
   "metadata": {
    "collapsed": true
   },
   "outputs": [],
   "source": [
    "def get_matrix(folder, index):\n",
    "    perm_val = \"\" if index == 0 else \"_perm-{}\".format(index)\n",
    "    nodes_fname = \"{}/hetnet{}_nodes.csv\".format(folder, perm_val)\n",
    "    edges_fname = \"{}/hetnet{}_edges.csv\".format(folder, perm_val)\n",
    "\n",
    "    return MatrixFormattedGraph(\n",
    "        nodes_fname, edges_fname,\n",
    "        start_kind=\"Compound\", end_kind=\"Disease\",\n",
    "        max_length=4\n",
    "    )"
   ]
  },
  {
   "cell_type": "code",
   "execution_count": 4,
   "metadata": {
    "collapsed": false,
    "scrolled": true
   },
   "outputs": [
    {
     "name": "stdout",
     "output_type": "stream",
     "text": [
      "Reading file information...\n",
      "Initializing metagraph...\n",
      "Generating adjcency matrices...\n"
     ]
    },
    {
     "name": "stderr",
     "output_type": "stream",
     "text": [
      "100%|██████████| 3/3 [00:00<00:00,  3.55it/s]\n"
     ]
    },
    {
     "name": "stdout",
     "output_type": "stream",
     "text": [
      "\n",
      "Weighting matrices by degree with dampening factor 0.4...\n"
     ]
    },
    {
     "name": "stderr",
     "output_type": "stream",
     "text": [
      "100%|██████████| 3/3 [00:00<00:00,  8.24it/s]\n"
     ]
    },
    {
     "name": "stdout",
     "output_type": "stream",
     "text": [
      "Reading file information...\n",
      "Initializing metagraph...\n",
      "Generating adjcency matrices...\n"
     ]
    },
    {
     "name": "stderr",
     "output_type": "stream",
     "text": [
      "100%|██████████| 3/3 [00:00<00:00,  3.31it/s]\n"
     ]
    },
    {
     "name": "stdout",
     "output_type": "stream",
     "text": [
      "\n",
      "Weighting matrices by degree with dampening factor 0.4...\n"
     ]
    },
    {
     "name": "stderr",
     "output_type": "stream",
     "text": [
      "100%|██████████| 3/3 [00:00<00:00, 10.28it/s]\n"
     ]
    },
    {
     "name": "stdout",
     "output_type": "stream",
     "text": [
      "Reading file information...\n",
      "Initializing metagraph...\n",
      "Generating adjcency matrices...\n"
     ]
    },
    {
     "name": "stderr",
     "output_type": "stream",
     "text": [
      "100%|██████████| 3/3 [00:00<00:00,  3.56it/s]\n"
     ]
    },
    {
     "name": "stdout",
     "output_type": "stream",
     "text": [
      "\n",
      "Weighting matrices by degree with dampening factor 0.4...\n"
     ]
    },
    {
     "name": "stderr",
     "output_type": "stream",
     "text": [
      "100%|██████████| 3/3 [00:00<00:00, 14.14it/s]\n"
     ]
    },
    {
     "name": "stdout",
     "output_type": "stream",
     "text": [
      "Reading file information...\n",
      "Initializing metagraph...\n",
      "Generating adjcency matrices...\n"
     ]
    },
    {
     "name": "stderr",
     "output_type": "stream",
     "text": [
      "100%|██████████| 3/3 [00:00<00:00,  3.62it/s]\n"
     ]
    },
    {
     "name": "stdout",
     "output_type": "stream",
     "text": [
      "\n",
      "Weighting matrices by degree with dampening factor 0.4...\n"
     ]
    },
    {
     "name": "stderr",
     "output_type": "stream",
     "text": [
      "100%|██████████| 3/3 [00:00<00:00, 12.32it/s]\n"
     ]
    },
    {
     "name": "stdout",
     "output_type": "stream",
     "text": [
      "Reading file information...\n",
      "Initializing metagraph...\n",
      "Generating adjcency matrices...\n"
     ]
    },
    {
     "name": "stderr",
     "output_type": "stream",
     "text": [
      "100%|██████████| 3/3 [00:00<00:00,  3.69it/s]\n"
     ]
    },
    {
     "name": "stdout",
     "output_type": "stream",
     "text": [
      "\n",
      "Weighting matrices by degree with dampening factor 0.4...\n"
     ]
    },
    {
     "name": "stderr",
     "output_type": "stream",
     "text": [
      "100%|██████████| 3/3 [00:00<00:00,  7.35it/s]\n"
     ]
    },
    {
     "name": "stdout",
     "output_type": "stream",
     "text": [
      "Reading file information...\n",
      "Initializing metagraph...\n",
      "Generating adjcency matrices...\n"
     ]
    },
    {
     "name": "stderr",
     "output_type": "stream",
     "text": [
      "100%|██████████| 3/3 [00:00<00:00,  3.22it/s]\n"
     ]
    },
    {
     "name": "stdout",
     "output_type": "stream",
     "text": [
      "\n",
      "Weighting matrices by degree with dampening factor 0.4...\n"
     ]
    },
    {
     "name": "stderr",
     "output_type": "stream",
     "text": [
      "100%|██████████| 3/3 [00:00<00:00, 11.07it/s]\n"
     ]
    }
   ],
   "source": [
    "folder = \"../../integrate/data/import_csvs\"\n",
    "\n",
    "matricies = [\n",
    "    get_matrix(folder, index) for index in range(6)\n",
    "]"
   ]
  },
  {
   "cell_type": "markdown",
   "metadata": {},
   "source": [
    "---"
   ]
  },
  {
   "cell_type": "markdown",
   "metadata": {},
   "source": [
    "## Extract out the DWPCs"
   ]
  },
  {
   "cell_type": "code",
   "execution_count": 5,
   "metadata": {
    "collapsed": false,
    "scrolled": true
   },
   "outputs": [
    {
     "name": "stdout",
     "output_type": "stream",
     "text": [
      "Calculating DWPCs...\n"
     ]
    },
    {
     "name": "stderr",
     "output_type": "stream",
     "text": [
      "100%|██████████| 9/9 [00:02<00:00,  3.41it/s]\n"
     ]
    },
    {
     "name": "stdout",
     "output_type": "stream",
     "text": [
      "\n",
      "Reformating results...\n"
     ]
    },
    {
     "name": "stderr",
     "output_type": "stream",
     "text": [
      "100%|██████████| 9/9 [01:12<00:00, 16.05s/it]\n"
     ]
    },
    {
     "name": "stdout",
     "output_type": "stream",
     "text": [
      "Calculating DWPCs...\n"
     ]
    },
    {
     "name": "stderr",
     "output_type": "stream",
     "text": [
      "100%|██████████| 9/9 [00:04<00:00,  1.03it/s]\n"
     ]
    },
    {
     "name": "stdout",
     "output_type": "stream",
     "text": [
      "\n",
      "Reformating results...\n"
     ]
    },
    {
     "name": "stderr",
     "output_type": "stream",
     "text": [
      "100%|██████████| 9/9 [00:41<00:00,  5.41s/it]\n"
     ]
    },
    {
     "name": "stdout",
     "output_type": "stream",
     "text": [
      "Calculating DWPCs...\n"
     ]
    },
    {
     "name": "stderr",
     "output_type": "stream",
     "text": [
      "100%|██████████| 9/9 [00:03<00:00,  1.12it/s]\n"
     ]
    },
    {
     "name": "stdout",
     "output_type": "stream",
     "text": [
      "\n",
      "Reformating results...\n"
     ]
    },
    {
     "name": "stderr",
     "output_type": "stream",
     "text": [
      "100%|██████████| 9/9 [00:22<00:00,  2.30s/it]\n"
     ]
    },
    {
     "name": "stdout",
     "output_type": "stream",
     "text": [
      "Calculating DWPCs...\n"
     ]
    },
    {
     "name": "stderr",
     "output_type": "stream",
     "text": [
      "100%|██████████| 9/9 [00:02<00:00,  2.17it/s]\n"
     ]
    },
    {
     "name": "stdout",
     "output_type": "stream",
     "text": [
      "\n",
      "Reformating results...\n"
     ]
    },
    {
     "name": "stderr",
     "output_type": "stream",
     "text": [
      "100%|██████████| 9/9 [00:16<00:00,  1.42s/it]\n"
     ]
    },
    {
     "name": "stdout",
     "output_type": "stream",
     "text": [
      "Calculating DWPCs...\n"
     ]
    },
    {
     "name": "stderr",
     "output_type": "stream",
     "text": [
      "100%|██████████| 9/9 [00:02<00:00,  2.19it/s]\n"
     ]
    },
    {
     "name": "stdout",
     "output_type": "stream",
     "text": [
      "\n",
      "Reformating results...\n"
     ]
    },
    {
     "name": "stderr",
     "output_type": "stream",
     "text": [
      "100%|██████████| 9/9 [00:15<00:00,  1.49s/it]\n"
     ]
    },
    {
     "name": "stdout",
     "output_type": "stream",
     "text": [
      "Calculating DWPCs...\n"
     ]
    },
    {
     "name": "stderr",
     "output_type": "stream",
     "text": [
      "100%|██████████| 9/9 [00:01<00:00,  5.70it/s]\n"
     ]
    },
    {
     "name": "stdout",
     "output_type": "stream",
     "text": [
      "\n",
      "Reformating results...\n"
     ]
    },
    {
     "name": "stderr",
     "output_type": "stream",
     "text": [
      "100%|██████████| 9/9 [00:14<00:00,  1.32s/it]\n"
     ]
    }
   ],
   "source": [
    "dwpcs = [\n",
    "    (mg\n",
    "        .extract_dwpc(\n",
    "            start_nodes=\"Compound\", end_nodes=\"Disease\",\n",
    "            n_jobs=32\n",
    "        )\n",
    "        .rename(columns={\"compound_id\": \"chemical_id\"})\n",
    "    )\n",
    "    \n",
    "    for mg in matricies\n",
    "]"
   ]
  },
  {
   "cell_type": "markdown",
   "metadata": {},
   "source": [
    "---"
   ]
  },
  {
   "cell_type": "markdown",
   "metadata": {},
   "source": [
    "## Subset data"
   ]
  },
  {
   "cell_type": "code",
   "execution_count": 6,
   "metadata": {
    "collapsed": false
   },
   "outputs": [],
   "source": [
    "partitions = (pd\n",
    "    .read_csv(\"data/partitions.tsv\", sep='\\t')\n",
    "    .assign(idx = lambda df: df[\"hetnet\"].str[-1].astype(np.int64))\n",
    ")"
   ]
  },
  {
   "cell_type": "code",
   "execution_count": 7,
   "metadata": {
    "collapsed": false
   },
   "outputs": [],
   "source": [
    "dwpc_spread_df = pd.concat([\n",
    "    dwpc_df.merge(\n",
    "        partitions.query(\"idx == @val\")[[\"hetnet\", \"chemical_id\", \"disease_id\"]],\n",
    "        how=\"right\", on=[\"chemical_id\", \"disease_id\"]\n",
    "    )\n",
    "    \n",
    "    for (val, dwpc_df) in enumerate(dwpcs)\n",
    "])"
   ]
  },
  {
   "cell_type": "code",
   "execution_count": 8,
   "metadata": {
    "collapsed": true
   },
   "outputs": [],
   "source": [
    "dwpc_spread_df = dwpc_spread_df.dropna(axis=1, how=\"any\")"
   ]
  },
  {
   "cell_type": "code",
   "execution_count": 9,
   "metadata": {
    "collapsed": false
   },
   "outputs": [
    {
     "data": {
      "text/plain": [
       "(30198, 12)"
      ]
     },
     "execution_count": 9,
     "metadata": {},
     "output_type": "execute_result"
    }
   ],
   "source": [
    "dwpc_spread_df.shape"
   ]
  },
  {
   "cell_type": "code",
   "execution_count": 10,
   "metadata": {
    "collapsed": false
   },
   "outputs": [
    {
     "data": {
      "text/html": [
       "<div>\n",
       "<style>\n",
       "    .dataframe thead tr:only-child th {\n",
       "        text-align: right;\n",
       "    }\n",
       "\n",
       "    .dataframe thead th {\n",
       "        text-align: left;\n",
       "    }\n",
       "\n",
       "    .dataframe tbody tr th {\n",
       "        vertical-align: top;\n",
       "    }\n",
       "</style>\n",
       "<table border=\"1\" class=\"dataframe\">\n",
       "  <thead>\n",
       "    <tr style=\"text-align: right;\">\n",
       "      <th></th>\n",
       "      <th>chemical_id</th>\n",
       "      <th>disease_id</th>\n",
       "      <th>CbGaD</th>\n",
       "      <th>CtDaGaD</th>\n",
       "      <th>CbGaDaGaD</th>\n",
       "      <th>CtDaGbCtD</th>\n",
       "      <th>CbGaDtCtD</th>\n",
       "      <th>CbGbCtD</th>\n",
       "      <th>CbGbCbGaD</th>\n",
       "      <th>CtDtCbGaD</th>\n",
       "      <th>CtDtCtD</th>\n",
       "      <th>hetnet</th>\n",
       "    </tr>\n",
       "  </thead>\n",
       "  <tbody>\n",
       "    <tr>\n",
       "      <th>0</th>\n",
       "      <td>DB00468</td>\n",
       "      <td>DOID:635</td>\n",
       "      <td>0.000000</td>\n",
       "      <td>0.025201</td>\n",
       "      <td>0.003199</td>\n",
       "      <td>0.000000</td>\n",
       "      <td>0.000000</td>\n",
       "      <td>0.051552</td>\n",
       "      <td>0.003482</td>\n",
       "      <td>0.000000</td>\n",
       "      <td>0.0</td>\n",
       "      <td>rephetio-v2.0</td>\n",
       "    </tr>\n",
       "    <tr>\n",
       "      <th>1</th>\n",
       "      <td>DB00468</td>\n",
       "      <td>DOID:10534</td>\n",
       "      <td>0.000000</td>\n",
       "      <td>0.001986</td>\n",
       "      <td>0.009869</td>\n",
       "      <td>0.001308</td>\n",
       "      <td>0.005191</td>\n",
       "      <td>0.006196</td>\n",
       "      <td>0.014856</td>\n",
       "      <td>0.003513</td>\n",
       "      <td>0.0</td>\n",
       "      <td>rephetio-v2.0</td>\n",
       "    </tr>\n",
       "    <tr>\n",
       "      <th>2</th>\n",
       "      <td>DB00468</td>\n",
       "      <td>DOID:1115</td>\n",
       "      <td>0.000000</td>\n",
       "      <td>0.002964</td>\n",
       "      <td>0.005034</td>\n",
       "      <td>0.000589</td>\n",
       "      <td>0.003827</td>\n",
       "      <td>0.006297</td>\n",
       "      <td>0.003430</td>\n",
       "      <td>0.000000</td>\n",
       "      <td>0.0</td>\n",
       "      <td>rephetio-v2.0</td>\n",
       "    </tr>\n",
       "    <tr>\n",
       "      <th>3</th>\n",
       "      <td>DB00468</td>\n",
       "      <td>DOID:3310</td>\n",
       "      <td>0.000000</td>\n",
       "      <td>0.017528</td>\n",
       "      <td>0.005008</td>\n",
       "      <td>0.000449</td>\n",
       "      <td>0.002203</td>\n",
       "      <td>0.024342</td>\n",
       "      <td>0.002396</td>\n",
       "      <td>0.000000</td>\n",
       "      <td>0.0</td>\n",
       "      <td>rephetio-v2.0</td>\n",
       "    </tr>\n",
       "    <tr>\n",
       "      <th>4</th>\n",
       "      <td>DB00468</td>\n",
       "      <td>DOID:12930</td>\n",
       "      <td>0.007265</td>\n",
       "      <td>0.006323</td>\n",
       "      <td>0.003083</td>\n",
       "      <td>0.000000</td>\n",
       "      <td>0.000806</td>\n",
       "      <td>0.002914</td>\n",
       "      <td>0.016035</td>\n",
       "      <td>0.003013</td>\n",
       "      <td>0.0</td>\n",
       "      <td>rephetio-v2.0</td>\n",
       "    </tr>\n",
       "  </tbody>\n",
       "</table>\n",
       "</div>"
      ],
      "text/plain": [
       "  chemical_id  disease_id     CbGaD   CtDaGaD  CbGaDaGaD  CtDaGbCtD  \\\n",
       "0     DB00468    DOID:635  0.000000  0.025201   0.003199   0.000000   \n",
       "1     DB00468  DOID:10534  0.000000  0.001986   0.009869   0.001308   \n",
       "2     DB00468   DOID:1115  0.000000  0.002964   0.005034   0.000589   \n",
       "3     DB00468   DOID:3310  0.000000  0.017528   0.005008   0.000449   \n",
       "4     DB00468  DOID:12930  0.007265  0.006323   0.003083   0.000000   \n",
       "\n",
       "   CbGaDtCtD   CbGbCtD  CbGbCbGaD  CtDtCbGaD  CtDtCtD         hetnet  \n",
       "0   0.000000  0.051552   0.003482   0.000000      0.0  rephetio-v2.0  \n",
       "1   0.005191  0.006196   0.014856   0.003513      0.0  rephetio-v2.0  \n",
       "2   0.003827  0.006297   0.003430   0.000000      0.0  rephetio-v2.0  \n",
       "3   0.002203  0.024342   0.002396   0.000000      0.0  rephetio-v2.0  \n",
       "4   0.000806  0.002914   0.016035   0.003013      0.0  rephetio-v2.0  "
      ]
     },
     "execution_count": 10,
     "metadata": {},
     "output_type": "execute_result"
    }
   ],
   "source": [
    "dwpc_spread_df.head()"
   ]
  },
  {
   "cell_type": "code",
   "execution_count": 11,
   "metadata": {
    "collapsed": false,
    "scrolled": true
   },
   "outputs": [
    {
     "data": {
      "text/plain": [
       "rephetio-v2.0_perm-3    5470\n",
       "rephetio-v2.0_perm-2    5465\n",
       "rephetio-v2.0_perm-5    5455\n",
       "rephetio-v2.0_perm-4    5440\n",
       "rephetio-v2.0_perm-1    5408\n",
       "rephetio-v2.0           2960\n",
       "Name: hetnet, dtype: int64"
      ]
     },
     "execution_count": 11,
     "metadata": {},
     "output_type": "execute_result"
    }
   ],
   "source": [
    "dwpc_spread_df[\"hetnet\"].value_counts()"
   ]
  },
  {
   "cell_type": "markdown",
   "metadata": {},
   "source": [
    "## Write to file"
   ]
  },
  {
   "cell_type": "code",
   "execution_count": 12,
   "metadata": {
    "collapsed": false
   },
   "outputs": [],
   "source": [
    "path = 'data/matrix/dwpc.tsv.bz2'\n",
    "with bz2.open(path, 'wt') as wf:\n",
    "    dwpc_spread_df.to_csv(wf, index=False, sep='\\t', float_format='%.5g')"
   ]
  },
  {
   "cell_type": "markdown",
   "metadata": {},
   "source": [
    "---"
   ]
  },
  {
   "cell_type": "markdown",
   "metadata": {},
   "source": [
    "## Calculate degree features"
   ]
  },
  {
   "cell_type": "code",
   "execution_count": 13,
   "metadata": {
    "collapsed": false
   },
   "outputs": [],
   "source": [
    "url = \"../../integrate/data/summary/metaedge-styles.tsv\"\n",
    "\n",
    "metaedge_style_df = pd.read_table(url)\n",
    "metaedge_to_abbreviation = dict(zip(metaedge_style_df.metaedge, metaedge_style_df.abbreviation))\n",
    "\n",
    "url = \"../../integrate/data/summary/degrees.xlsx\"\n",
    "\n",
    "disease_degree_df = (pd\n",
    "    .read_excel(url, sheetname='Disease')\n",
    "    .rename(columns={'node_id': 'disease_id'})\n",
    "    .drop('node_name', axis='columns')\n",
    "    .rename(columns=metaedge_to_abbreviation)\n",
    ")\n",
    "\n",
    "compound_degree_df = (pd\n",
    "    .read_excel(url, sheetname='Compound')\n",
    "    .rename(columns={'node_id': 'chemical_id'})\n",
    "    .drop('node_name', axis='columns')\n",
    "    .rename(columns=metaedge_to_abbreviation)\n",
    ")"
   ]
  },
  {
   "cell_type": "code",
   "execution_count": 14,
   "metadata": {
    "collapsed": false
   },
   "outputs": [
    {
     "data": {
      "text/html": [
       "<div>\n",
       "<style>\n",
       "    .dataframe thead tr:only-child th {\n",
       "        text-align: right;\n",
       "    }\n",
       "\n",
       "    .dataframe thead th {\n",
       "        text-align: left;\n",
       "    }\n",
       "\n",
       "    .dataframe tbody tr th {\n",
       "        vertical-align: top;\n",
       "    }\n",
       "</style>\n",
       "<table border=\"1\" class=\"dataframe\">\n",
       "  <thead>\n",
       "    <tr style=\"text-align: right;\">\n",
       "      <th></th>\n",
       "      <th>chemical_id</th>\n",
       "      <th>CbG</th>\n",
       "      <th>CtD</th>\n",
       "    </tr>\n",
       "  </thead>\n",
       "  <tbody>\n",
       "    <tr>\n",
       "      <th>0</th>\n",
       "      <td>DB00014</td>\n",
       "      <td>2</td>\n",
       "      <td>1</td>\n",
       "    </tr>\n",
       "    <tr>\n",
       "      <th>1</th>\n",
       "      <td>DB00035</td>\n",
       "      <td>5</td>\n",
       "      <td>0</td>\n",
       "    </tr>\n",
       "  </tbody>\n",
       "</table>\n",
       "</div>"
      ],
      "text/plain": [
       "  chemical_id  CbG  CtD\n",
       "0     DB00014    2    1\n",
       "1     DB00035    5    0"
      ]
     },
     "execution_count": 14,
     "metadata": {},
     "output_type": "execute_result"
    }
   ],
   "source": [
    "compound_degree_df.head(2)"
   ]
  },
  {
   "cell_type": "code",
   "execution_count": 15,
   "metadata": {
    "collapsed": false
   },
   "outputs": [
    {
     "data": {
      "text/html": [
       "<div>\n",
       "<style>\n",
       "    .dataframe thead tr:only-child th {\n",
       "        text-align: right;\n",
       "    }\n",
       "\n",
       "    .dataframe thead th {\n",
       "        text-align: left;\n",
       "    }\n",
       "\n",
       "    .dataframe tbody tr th {\n",
       "        vertical-align: top;\n",
       "    }\n",
       "</style>\n",
       "<table border=\"1\" class=\"dataframe\">\n",
       "  <thead>\n",
       "    <tr style=\"text-align: right;\">\n",
       "      <th></th>\n",
       "      <th>disease_id</th>\n",
       "      <th>DaG</th>\n",
       "      <th>DtC</th>\n",
       "    </tr>\n",
       "  </thead>\n",
       "  <tbody>\n",
       "    <tr>\n",
       "      <th>0</th>\n",
       "      <td>DOID:0050156</td>\n",
       "      <td>18</td>\n",
       "      <td>0</td>\n",
       "    </tr>\n",
       "    <tr>\n",
       "      <th>1</th>\n",
       "      <td>DOID:0050425</td>\n",
       "      <td>12</td>\n",
       "      <td>0</td>\n",
       "    </tr>\n",
       "  </tbody>\n",
       "</table>\n",
       "</div>"
      ],
      "text/plain": [
       "     disease_id  DaG  DtC\n",
       "0  DOID:0050156   18    0\n",
       "1  DOID:0050425   12    0"
      ]
     },
     "execution_count": 15,
     "metadata": {},
     "output_type": "execute_result"
    }
   ],
   "source": [
    "disease_degree_df.head(2)"
   ]
  },
  {
   "cell_type": "code",
   "execution_count": 16,
   "metadata": {
    "collapsed": true
   },
   "outputs": [],
   "source": [
    "compound_degree_df.to_csv('data/matrix/compound_degree.tsv', index=False, sep='\\t')\n",
    "disease_degree_df.to_csv('data/matrix/disease_degree.tsv', index=False, sep='\\t')"
   ]
  },
  {
   "cell_type": "markdown",
   "metadata": {},
   "source": [
    "---"
   ]
  },
  {
   "cell_type": "markdown",
   "metadata": {},
   "source": [
    "## Compute prior dataset"
   ]
  },
  {
   "cell_type": "code",
   "execution_count": 17,
   "metadata": {
    "collapsed": false
   },
   "outputs": [
    {
     "data": {
      "text/plain": [
       "(186662, 23579)"
      ]
     },
     "execution_count": 17,
     "metadata": {},
     "output_type": "execute_result"
    }
   ],
   "source": [
    "# Read compound and disease degrees\n",
    "compound_df = pd.read_table('../summary/compounds.tsv')\n",
    "disease_df = pd.read_table('../summary/diseases.tsv')\n",
    "\n",
    "total_pairs = len(compound_df) * len(disease_df)\n",
    "\n",
    "nonzero_prior_pairs = sum(compound_df.treats > 0) * sum(disease_df.treats > 0)\n",
    "total_pairs, nonzero_prior_pairs"
   ]
  },
  {
   "cell_type": "code",
   "execution_count": 18,
   "metadata": {
    "collapsed": false
   },
   "outputs": [
    {
     "data": {
      "text/html": [
       "<div>\n",
       "<style>\n",
       "    .dataframe thead tr:only-child th {\n",
       "        text-align: right;\n",
       "    }\n",
       "\n",
       "    .dataframe thead th {\n",
       "        text-align: left;\n",
       "    }\n",
       "\n",
       "    .dataframe tbody tr th {\n",
       "        vertical-align: top;\n",
       "    }\n",
       "</style>\n",
       "<table border=\"1\" class=\"dataframe\">\n",
       "  <thead>\n",
       "    <tr style=\"text-align: right;\">\n",
       "      <th></th>\n",
       "      <th>chemical_id</th>\n",
       "      <th>disease_id</th>\n",
       "      <th>prior_prob</th>\n",
       "    </tr>\n",
       "  </thead>\n",
       "  <tbody>\n",
       "    <tr>\n",
       "      <th>0</th>\n",
       "      <td>DB01048</td>\n",
       "      <td>DOID:10652</td>\n",
       "      <td>0.003058</td>\n",
       "    </tr>\n",
       "    <tr>\n",
       "      <th>1</th>\n",
       "      <td>DB01048</td>\n",
       "      <td>DOID:9206</td>\n",
       "      <td>0.003058</td>\n",
       "    </tr>\n",
       "  </tbody>\n",
       "</table>\n",
       "</div>"
      ],
      "text/plain": [
       "  chemical_id  disease_id  prior_prob\n",
       "0     DB01048  DOID:10652    0.003058\n",
       "1     DB01048   DOID:9206    0.003058"
      ]
     },
     "execution_count": 18,
     "metadata": {},
     "output_type": "execute_result"
    }
   ],
   "source": [
    "rows = list(itertools.product(compound_df.chemical_id, disease_df.disease_id))\n",
    "\n",
    "prior_df = (pd\n",
    "    .DataFrame(rows, columns=['chemical_id', 'disease_id'])\n",
    "    .merge(\n",
    "        pd.read_table('../prior/data/observation-prior.tsv')[['chemical_id', 'disease_id', 'prior_perm']],\n",
    "        how='left'\n",
    "    )\n",
    "    .fillna(0)\n",
    "    .rename(columns={'prior_perm': 'prior_prob'})\n",
    ")\n",
    "\n",
    "prior_df.head(2)"
   ]
  },
  {
   "cell_type": "code",
   "execution_count": 19,
   "metadata": {
    "collapsed": false
   },
   "outputs": [
    {
     "data": {
      "text/plain": [
       "591.99999235996574"
      ]
     },
     "execution_count": 19,
     "metadata": {},
     "output_type": "execute_result"
    }
   ],
   "source": [
    "sum(prior_df.prior_prob)"
   ]
  },
  {
   "cell_type": "code",
   "execution_count": 20,
   "metadata": {
    "collapsed": false
   },
   "outputs": [
    {
     "data": {
      "text/plain": [
       "False    0.873681\n",
       "True     0.126319\n",
       "Name: prior_prob, dtype: float64"
      ]
     },
     "execution_count": 20,
     "metadata": {},
     "output_type": "execute_result"
    }
   ],
   "source": [
    "(prior_df.prior_prob > 0).value_counts(True)"
   ]
  },
  {
   "cell_type": "code",
   "execution_count": 21,
   "metadata": {
    "collapsed": true
   },
   "outputs": [],
   "source": [
    "prior_df.to_csv('data/matrix/prior.tsv', index=False, sep='\\t', float_format='%.5g')"
   ]
  },
  {
   "cell_type": "markdown",
   "metadata": {},
   "source": [
    "---"
   ]
  },
  {
   "cell_type": "markdown",
   "metadata": {},
   "source": [
    "## Create a single matrix-like dataframe"
   ]
  },
  {
   "cell_type": "code",
   "execution_count": 22,
   "metadata": {
    "collapsed": false
   },
   "outputs": [],
   "source": [
    "matrix_df = (partitions\n",
    "    .drop(\"idx\", axis=1)\n",
    "    .merge(disease_df.iloc[:, :2])\n",
    "    .merge(compound_df.iloc[:, :2])\n",
    "    .merge(prior_df)\n",
    "    .merge(compound_degree_df)\n",
    "    .merge(disease_degree_df)\n",
    "    .merge(dwpc_spread_df)\n",
    ")"
   ]
  },
  {
   "cell_type": "code",
   "execution_count": 23,
   "metadata": {
    "collapsed": false
   },
   "outputs": [
    {
     "data": {
      "text/html": [
       "<div>\n",
       "<style>\n",
       "    .dataframe thead tr:only-child th {\n",
       "        text-align: right;\n",
       "    }\n",
       "\n",
       "    .dataframe thead th {\n",
       "        text-align: left;\n",
       "    }\n",
       "\n",
       "    .dataframe tbody tr th {\n",
       "        vertical-align: top;\n",
       "    }\n",
       "</style>\n",
       "<table border=\"1\" class=\"dataframe\">\n",
       "  <thead>\n",
       "    <tr style=\"text-align: right;\">\n",
       "      <th></th>\n",
       "      <th>hetnet</th>\n",
       "      <th>chemical_id</th>\n",
       "      <th>disease_id</th>\n",
       "      <th>status</th>\n",
       "      <th>primary</th>\n",
       "      <th>disease_name</th>\n",
       "      <th>chemical_name</th>\n",
       "      <th>prior_prob</th>\n",
       "      <th>CbG</th>\n",
       "      <th>CtD</th>\n",
       "      <th>...</th>\n",
       "      <th>DtC</th>\n",
       "      <th>CbGaD</th>\n",
       "      <th>CtDaGaD</th>\n",
       "      <th>CbGaDaGaD</th>\n",
       "      <th>CtDaGbCtD</th>\n",
       "      <th>CbGaDtCtD</th>\n",
       "      <th>CbGbCtD</th>\n",
       "      <th>CbGbCbGaD</th>\n",
       "      <th>CtDtCbGaD</th>\n",
       "      <th>CtDtCtD</th>\n",
       "    </tr>\n",
       "  </thead>\n",
       "  <tbody>\n",
       "    <tr>\n",
       "      <th>0</th>\n",
       "      <td>rephetio-v2.0</td>\n",
       "      <td>DB00014</td>\n",
       "      <td>DOID:0050742</td>\n",
       "      <td>0</td>\n",
       "      <td>1</td>\n",
       "      <td>nicotine dependence</td>\n",
       "      <td>Goserelin</td>\n",
       "      <td>0.001517</td>\n",
       "      <td>2</td>\n",
       "      <td>1</td>\n",
       "      <td>...</td>\n",
       "      <td>1</td>\n",
       "      <td>0.0</td>\n",
       "      <td>0.000000</td>\n",
       "      <td>0.000000</td>\n",
       "      <td>0.000000</td>\n",
       "      <td>0.000000</td>\n",
       "      <td>0.0</td>\n",
       "      <td>0.000000</td>\n",
       "      <td>0.00000</td>\n",
       "      <td>0.0</td>\n",
       "    </tr>\n",
       "    <tr>\n",
       "      <th>1</th>\n",
       "      <td>rephetio-v2.0_perm-1</td>\n",
       "      <td>DB00014</td>\n",
       "      <td>DOID:0050742</td>\n",
       "      <td>0</td>\n",
       "      <td>0</td>\n",
       "      <td>nicotine dependence</td>\n",
       "      <td>Goserelin</td>\n",
       "      <td>0.001517</td>\n",
       "      <td>2</td>\n",
       "      <td>1</td>\n",
       "      <td>...</td>\n",
       "      <td>1</td>\n",
       "      <td>0.0</td>\n",
       "      <td>0.004874</td>\n",
       "      <td>0.001362</td>\n",
       "      <td>0.000619</td>\n",
       "      <td>0.000854</td>\n",
       "      <td>0.0</td>\n",
       "      <td>0.001535</td>\n",
       "      <td>0.00117</td>\n",
       "      <td>0.0</td>\n",
       "    </tr>\n",
       "  </tbody>\n",
       "</table>\n",
       "<p>2 rows × 21 columns</p>\n",
       "</div>"
      ],
      "text/plain": [
       "                 hetnet chemical_id    disease_id  status  primary  \\\n",
       "0         rephetio-v2.0     DB00014  DOID:0050742       0        1   \n",
       "1  rephetio-v2.0_perm-1     DB00014  DOID:0050742       0        0   \n",
       "\n",
       "          disease_name chemical_name  prior_prob  CbG  CtD   ...     DtC  \\\n",
       "0  nicotine dependence     Goserelin    0.001517    2    1   ...       1   \n",
       "1  nicotine dependence     Goserelin    0.001517    2    1   ...       1   \n",
       "\n",
       "   CbGaD   CtDaGaD  CbGaDaGaD  CtDaGbCtD  CbGaDtCtD  CbGbCtD  CbGbCbGaD  \\\n",
       "0    0.0  0.000000   0.000000   0.000000   0.000000      0.0   0.000000   \n",
       "1    0.0  0.004874   0.001362   0.000619   0.000854      0.0   0.001535   \n",
       "\n",
       "   CtDtCbGaD  CtDtCtD  \n",
       "0    0.00000      0.0  \n",
       "1    0.00117      0.0  \n",
       "\n",
       "[2 rows x 21 columns]"
      ]
     },
     "execution_count": 23,
     "metadata": {},
     "output_type": "execute_result"
    }
   ],
   "source": [
    "matrix_df.head(2)"
   ]
  },
  {
   "cell_type": "code",
   "execution_count": 24,
   "metadata": {
    "collapsed": false
   },
   "outputs": [],
   "source": [
    "df_creators = [\n",
    "    {'feature_type': 'prior', 'feature': ['prior_prob']},\n",
    "    {'feature_type': 'degree', 'feature': compound_degree_df.columns[1:]},\n",
    "    {'feature_type': 'degree', 'feature': disease_degree_df.columns[1:]},\n",
    "    \n",
    "    # this line is super fragile\n",
    "    # drops the \"hetnet\" column and the two identifier columns\n",
    "    {\n",
    "        'feature_type': 'dwpc',\n",
    "        'feature': dwpc_spread_df.drop([\n",
    "            \"chemical_id\", \"disease_id\", \"hetnet\"\n",
    "        ], axis=1).columns\n",
    "    },\n",
    "]\n",
    "feature_df = pd.concat(map(pd.DataFrame, df_creators))"
   ]
  },
  {
   "cell_type": "code",
   "execution_count": 25,
   "metadata": {
    "collapsed": true
   },
   "outputs": [],
   "source": [
    "unperm_name = 'rephetio-v2.0'"
   ]
  },
  {
   "cell_type": "code",
   "execution_count": 26,
   "metadata": {
    "collapsed": true
   },
   "outputs": [],
   "source": [
    "unperm_matrix_df = (matrix_df\n",
    "    .query(\"hetnet == @unperm_name\")\n",
    "    .drop('hetnet', axis=1)\n",
    ")"
   ]
  },
  {
   "cell_type": "code",
   "execution_count": 27,
   "metadata": {
    "collapsed": true
   },
   "outputs": [],
   "source": [
    "feature_df['unperm_mean'] = list(\n",
    "    unperm_matrix_df[feature_df.feature].mean()\n",
    ")"
   ]
  },
  {
   "cell_type": "code",
   "execution_count": 28,
   "metadata": {
    "collapsed": false
   },
   "outputs": [
    {
     "data": {
      "text/html": [
       "<div>\n",
       "<style>\n",
       "    .dataframe thead tr:only-child th {\n",
       "        text-align: right;\n",
       "    }\n",
       "\n",
       "    .dataframe thead th {\n",
       "        text-align: left;\n",
       "    }\n",
       "\n",
       "    .dataframe tbody tr th {\n",
       "        vertical-align: top;\n",
       "    }\n",
       "</style>\n",
       "<table border=\"1\" class=\"dataframe\">\n",
       "  <thead>\n",
       "    <tr style=\"text-align: right;\">\n",
       "      <th></th>\n",
       "      <th>feature</th>\n",
       "      <th>feature_type</th>\n",
       "      <th>unperm_mean</th>\n",
       "      <th>unperm_sd</th>\n",
       "    </tr>\n",
       "  </thead>\n",
       "  <tbody>\n",
       "    <tr>\n",
       "      <th>0</th>\n",
       "      <td>prior_prob</td>\n",
       "      <td>prior</td>\n",
       "      <td>0.033503</td>\n",
       "      <td>0.06185</td>\n",
       "    </tr>\n",
       "    <tr>\n",
       "      <th>0</th>\n",
       "      <td>CbG</td>\n",
       "      <td>degree</td>\n",
       "      <td>11.816554</td>\n",
       "      <td>13.42179</td>\n",
       "    </tr>\n",
       "  </tbody>\n",
       "</table>\n",
       "</div>"
      ],
      "text/plain": [
       "      feature feature_type  unperm_mean  unperm_sd\n",
       "0  prior_prob        prior     0.033503    0.06185\n",
       "0         CbG       degree    11.816554   13.42179"
      ]
     },
     "execution_count": 28,
     "metadata": {},
     "output_type": "execute_result"
    }
   ],
   "source": [
    "feature_df['unperm_sd'] = list(\n",
    "    unperm_matrix_df[feature_df.feature].std()\n",
    ")\n",
    "feature_df.head(2)"
   ]
  },
  {
   "cell_type": "code",
   "execution_count": 29,
   "metadata": {
    "collapsed": true
   },
   "outputs": [],
   "source": [
    "feature_df.to_csv('data/matrix/feature-type.tsv', index=False, sep='\\t', float_format='%.5g')\n",
    "\n",
    "path = 'data/matrix/features.tsv.bz2'\n",
    "with bz2.open(path, 'wt') as wf:\n",
    "    matrix_df.to_csv(wf, index=False, sep='\\t', float_format='%.5g')"
   ]
  },
  {
   "cell_type": "code",
   "execution_count": 30,
   "metadata": {
    "collapsed": false
   },
   "outputs": [],
   "source": [
    "# Save hetnet specific feature files\n",
    "directory = os.path.join('data', 'matrix', unperm_name)\n",
    "if not os.path.exists(directory):\n",
    "    os.mkdir(directory)\n",
    "path = os.path.join(directory, 'features.tsv.bz2')\n",
    "with bz2.open(path, 'wt') as wf:\n",
    "    unperm_matrix_df.to_csv(wf, index=False, sep='\\t', float_format='%.5g')"
   ]
  }
 ],
 "metadata": {
  "kernelspec": {
   "display_name": "Python 3",
   "language": "python",
   "name": "python3"
  },
  "language_info": {
   "codemirror_mode": {
    "name": "ipython",
    "version": 3
   },
   "file_extension": ".py",
   "mimetype": "text/x-python",
   "name": "python",
   "nbconvert_exporter": "python",
   "pygments_lexer": "ipython3",
   "version": "3.5.2"
  }
 },
 "nbformat": 4,
 "nbformat_minor": 2
}
