{
 "cells": [
  {
   "cell_type": "markdown",
   "metadata": {},
   "source": [
    "# Assess the marginal performance of every feature for primary observations"
   ]
  },
  {
   "cell_type": "code",
   "execution_count": 1,
   "metadata": {
    "collapsed": false
   },
   "outputs": [],
   "source": [
    "import math\n",
    "\n",
    "import pandas\n",
    "import sklearn.metrics\n",
    "import scipy.stats\n",
    "from statsmodels.sandbox.stats.multicomp import multipletests"
   ]
  },
  {
   "cell_type": "code",
   "execution_count": 2,
   "metadata": {
    "collapsed": false
   },
   "outputs": [],
   "source": [
    "feature_type_df = pandas.read_table('data/matrix/feature-type.tsv')\n",
    "feature_type_df = feature_type_df[['feature', 'feature_type']]\n",
    "feature_df = pandas.read_table('data/matrix/features.tsv.bz2')\n",
    "features = list(feature_type_df['feature'])"
   ]
  },
  {
   "cell_type": "code",
   "execution_count": 3,
   "metadata": {
    "collapsed": false
   },
   "outputs": [
    {
     "data": {
      "text/html": [
       "<div>\n",
       "<style>\n",
       "    .dataframe thead tr:only-child th {\n",
       "        text-align: right;\n",
       "    }\n",
       "\n",
       "    .dataframe thead th {\n",
       "        text-align: left;\n",
       "    }\n",
       "\n",
       "    .dataframe tbody tr th {\n",
       "        vertical-align: top;\n",
       "    }\n",
       "</style>\n",
       "<table border=\"1\" class=\"dataframe\">\n",
       "  <thead>\n",
       "    <tr style=\"text-align: right;\">\n",
       "      <th></th>\n",
       "      <th>hetnet</th>\n",
       "      <th>chemical_id</th>\n",
       "      <th>disease_id</th>\n",
       "      <th>status</th>\n",
       "      <th>primary</th>\n",
       "      <th>disease_name</th>\n",
       "      <th>chemical_name</th>\n",
       "      <th>prior_prob</th>\n",
       "      <th>CbG</th>\n",
       "      <th>CcSE</th>\n",
       "      <th>...</th>\n",
       "      <th>CuGuDdGdD</th>\n",
       "      <th>CuGuDdGuD</th>\n",
       "      <th>CuGuDlAlD</th>\n",
       "      <th>CuGuDpSpD</th>\n",
       "      <th>CuGuDrD</th>\n",
       "      <th>CuGuDrDrD</th>\n",
       "      <th>CuGuDtCtD</th>\n",
       "      <th>CuGuDuGaD</th>\n",
       "      <th>CuGuDuGdD</th>\n",
       "      <th>CuGuDuGuD</th>\n",
       "    </tr>\n",
       "  </thead>\n",
       "  <tbody>\n",
       "    <tr>\n",
       "      <th>0</th>\n",
       "      <td>rephetio-v2.0_perm-2</td>\n",
       "      <td>DB00014</td>\n",
       "      <td>DOID:0050742</td>\n",
       "      <td>0</td>\n",
       "      <td>1</td>\n",
       "      <td>nicotine dependence</td>\n",
       "      <td>Goserelin</td>\n",
       "      <td>0.001517</td>\n",
       "      <td>2</td>\n",
       "      <td>249</td>\n",
       "      <td>...</td>\n",
       "      <td>0.000627</td>\n",
       "      <td>0.000651</td>\n",
       "      <td>0.000490</td>\n",
       "      <td>0.000000</td>\n",
       "      <td>0.000000</td>\n",
       "      <td>0.000496</td>\n",
       "      <td>0.000000</td>\n",
       "      <td>0.000218</td>\n",
       "      <td>0.001182</td>\n",
       "      <td>0.001201</td>\n",
       "    </tr>\n",
       "    <tr>\n",
       "      <th>1</th>\n",
       "      <td>rephetio-v2.0_perm-2</td>\n",
       "      <td>DB00091</td>\n",
       "      <td>DOID:0050742</td>\n",
       "      <td>0</td>\n",
       "      <td>1</td>\n",
       "      <td>nicotine dependence</td>\n",
       "      <td>Cyclosporine</td>\n",
       "      <td>0.004893</td>\n",
       "      <td>30</td>\n",
       "      <td>344</td>\n",
       "      <td>...</td>\n",
       "      <td>0.016569</td>\n",
       "      <td>0.017337</td>\n",
       "      <td>0.004231</td>\n",
       "      <td>0.008249</td>\n",
       "      <td>0.004638</td>\n",
       "      <td>0.005157</td>\n",
       "      <td>0.002165</td>\n",
       "      <td>0.003623</td>\n",
       "      <td>0.016645</td>\n",
       "      <td>0.017121</td>\n",
       "    </tr>\n",
       "  </tbody>\n",
       "</table>\n",
       "<p>2 rows × 808 columns</p>\n",
       "</div>"
      ],
      "text/plain": [
       "                 hetnet chemical_id    disease_id  status  primary  \\\n",
       "0  rephetio-v2.0_perm-2     DB00014  DOID:0050742       0        1   \n",
       "1  rephetio-v2.0_perm-2     DB00091  DOID:0050742       0        1   \n",
       "\n",
       "          disease_name chemical_name  prior_prob  CbG  CcSE    ...      \\\n",
       "0  nicotine dependence     Goserelin    0.001517    2   249    ...       \n",
       "1  nicotine dependence  Cyclosporine    0.004893   30   344    ...       \n",
       "\n",
       "   CuGuDdGdD  CuGuDdGuD  CuGuDlAlD  CuGuDpSpD   CuGuDrD  CuGuDrDrD  CuGuDtCtD  \\\n",
       "0   0.000627   0.000651   0.000490   0.000000  0.000000   0.000496   0.000000   \n",
       "1   0.016569   0.017337   0.004231   0.008249  0.004638   0.005157   0.002165   \n",
       "\n",
       "   CuGuDuGaD  CuGuDuGdD  CuGuDuGuD  \n",
       "0   0.000218   0.001182   0.001201  \n",
       "1   0.003623   0.016645   0.017121  \n",
       "\n",
       "[2 rows x 808 columns]"
      ]
     },
     "execution_count": 3,
     "metadata": {},
     "output_type": "execute_result"
    }
   ],
   "source": [
    "feature_df.head(2)"
   ]
  },
  {
   "cell_type": "code",
   "execution_count": 4,
   "metadata": {
    "collapsed": false
   },
   "outputs": [],
   "source": [
    "def compute_metrics(y_true, y_score):\n",
    "    series = pandas.Series()\n",
    "    series['nonzero'] = (y_score > 0).mean()\n",
    "    series['auroc'] = sklearn.metrics.roc_auc_score(y_true, y_score)\n",
    "    series['auprc'] = sklearn.metrics.average_precision_score(y_true, y_score)\n",
    "    return series\n",
    "\n",
    "def columnar_performance(df):\n",
    "    y_true = df['status']\n",
    "    perf_df = df[features].apply(lambda x: compute_metrics(y_true, x), axis='index')\n",
    "    perf_df = perf_df.T\n",
    "    perf_df.index.name = 'feature'\n",
    "    return perf_df.reset_index()\n",
    "\n",
    "perf_df = feature_df.groupby('hetnet').apply(columnar_performance).reset_index(level='hetnet')\n",
    "perf_df = perf_df.merge(feature_type_df)\n",
    "perf_df['permuted'] = perf_df.hetnet.str.contains('_perm').astype(int)"
   ]
  },
  {
   "cell_type": "code",
   "execution_count": 5,
   "metadata": {
    "collapsed": false
   },
   "outputs": [
    {
     "data": {
      "text/html": [
       "<div>\n",
       "<style>\n",
       "    .dataframe thead tr:only-child th {\n",
       "        text-align: right;\n",
       "    }\n",
       "\n",
       "    .dataframe thead th {\n",
       "        text-align: left;\n",
       "    }\n",
       "\n",
       "    .dataframe tbody tr th {\n",
       "        vertical-align: top;\n",
       "    }\n",
       "</style>\n",
       "<table border=\"1\" class=\"dataframe\">\n",
       "  <thead>\n",
       "    <tr style=\"text-align: right;\">\n",
       "      <th></th>\n",
       "      <th>hetnet</th>\n",
       "      <th>feature</th>\n",
       "      <th>nonzero</th>\n",
       "      <th>auroc</th>\n",
       "      <th>auprc</th>\n",
       "      <th>feature_type</th>\n",
       "      <th>permuted</th>\n",
       "    </tr>\n",
       "  </thead>\n",
       "  <tbody>\n",
       "    <tr>\n",
       "      <th>0</th>\n",
       "      <td>rephetio-v2.0</td>\n",
       "      <td>prior_prob</td>\n",
       "      <td>1.0</td>\n",
       "      <td>0.874431</td>\n",
       "      <td>0.704884</td>\n",
       "      <td>prior</td>\n",
       "      <td>0</td>\n",
       "    </tr>\n",
       "    <tr>\n",
       "      <th>1</th>\n",
       "      <td>rephetio-v2.0_perm-1</td>\n",
       "      <td>prior_prob</td>\n",
       "      <td>1.0</td>\n",
       "      <td>0.824536</td>\n",
       "      <td>0.415491</td>\n",
       "      <td>prior</td>\n",
       "      <td>1</td>\n",
       "    </tr>\n",
       "    <tr>\n",
       "      <th>2</th>\n",
       "      <td>rephetio-v2.0_perm-2</td>\n",
       "      <td>prior_prob</td>\n",
       "      <td>1.0</td>\n",
       "      <td>0.827855</td>\n",
       "      <td>0.423550</td>\n",
       "      <td>prior</td>\n",
       "      <td>1</td>\n",
       "    </tr>\n",
       "    <tr>\n",
       "      <th>3</th>\n",
       "      <td>rephetio-v2.0_perm-3</td>\n",
       "      <td>prior_prob</td>\n",
       "      <td>1.0</td>\n",
       "      <td>0.822572</td>\n",
       "      <td>0.422721</td>\n",
       "      <td>prior</td>\n",
       "      <td>1</td>\n",
       "    </tr>\n",
       "    <tr>\n",
       "      <th>4</th>\n",
       "      <td>rephetio-v2.0_perm-4</td>\n",
       "      <td>prior_prob</td>\n",
       "      <td>1.0</td>\n",
       "      <td>0.814273</td>\n",
       "      <td>0.440270</td>\n",
       "      <td>prior</td>\n",
       "      <td>1</td>\n",
       "    </tr>\n",
       "  </tbody>\n",
       "</table>\n",
       "</div>"
      ],
      "text/plain": [
       "                 hetnet     feature  nonzero     auroc     auprc feature_type  \\\n",
       "0         rephetio-v2.0  prior_prob      1.0  0.874431  0.704884        prior   \n",
       "1  rephetio-v2.0_perm-1  prior_prob      1.0  0.824536  0.415491        prior   \n",
       "2  rephetio-v2.0_perm-2  prior_prob      1.0  0.827855  0.423550        prior   \n",
       "3  rephetio-v2.0_perm-3  prior_prob      1.0  0.822572  0.422721        prior   \n",
       "4  rephetio-v2.0_perm-4  prior_prob      1.0  0.814273  0.440270        prior   \n",
       "\n",
       "   permuted  \n",
       "0         0  \n",
       "1         1  \n",
       "2         1  \n",
       "3         1  \n",
       "4         1  "
      ]
     },
     "execution_count": 5,
     "metadata": {},
     "output_type": "execute_result"
    }
   ],
   "source": [
    "perf_df.merge(feature_type_df).head()"
   ]
  },
  {
   "cell_type": "code",
   "execution_count": 6,
   "metadata": {
    "collapsed": false
   },
   "outputs": [],
   "source": [
    "def compare_permutation(df):\n",
    "    unperm = df.query(\"permuted == 0\").iloc[0, :]\n",
    "    perm_df = df.query(\"permuted == 1\")\n",
    "    series = pandas.Series()\n",
    "    series['nonzero'] = unperm['nonzero']\n",
    "    series['auroc'] = unperm.auroc\n",
    "    series['auroc_permuted'] = perm_df.auroc.mean()\n",
    "    series['delta_auroc'] = series['auroc'] - series['auroc_permuted']\n",
    "    ttest = scipy.stats.ttest_1samp(perm_df.auroc, unperm.auroc)\n",
    "    pvalue = ttest.pvalue\n",
    "    series['pval_auroc'] = pvalue\n",
    "    #series['nlog10_pval_auroc'] = -math.log10(pvalue)\n",
    "    return(series)\n",
    "\n",
    "compare_df = perf_df.groupby(['feature_type', 'feature']).apply(compare_permutation).reset_index()\n",
    "reject, compare_df['fdr_pval_auroc'], alphacSidak, alphacBonf = multipletests(\n",
    "    pvals=compare_df.pval_auroc, method='fdr_bh')\n",
    "compare_df = feature_type_df.merge(compare_df)"
   ]
  },
  {
   "cell_type": "code",
   "execution_count": 7,
   "metadata": {
    "collapsed": false
   },
   "outputs": [
    {
     "data": {
      "text/html": [
       "<div>\n",
       "<style>\n",
       "    .dataframe thead tr:only-child th {\n",
       "        text-align: right;\n",
       "    }\n",
       "\n",
       "    .dataframe thead th {\n",
       "        text-align: left;\n",
       "    }\n",
       "\n",
       "    .dataframe tbody tr th {\n",
       "        vertical-align: top;\n",
       "    }\n",
       "</style>\n",
       "<table border=\"1\" class=\"dataframe\">\n",
       "  <thead>\n",
       "    <tr style=\"text-align: right;\">\n",
       "      <th></th>\n",
       "      <th>feature</th>\n",
       "      <th>feature_type</th>\n",
       "      <th>nonzero</th>\n",
       "      <th>auroc</th>\n",
       "      <th>auroc_permuted</th>\n",
       "      <th>delta_auroc</th>\n",
       "      <th>pval_auroc</th>\n",
       "      <th>fdr_pval_auroc</th>\n",
       "    </tr>\n",
       "  </thead>\n",
       "  <tbody>\n",
       "    <tr>\n",
       "      <th>0</th>\n",
       "      <td>prior_prob</td>\n",
       "      <td>prior</td>\n",
       "      <td>1.000000</td>\n",
       "      <td>0.874431</td>\n",
       "      <td>0.822811</td>\n",
       "      <td>0.051620</td>\n",
       "      <td>0.000023</td>\n",
       "      <td>0.000410</td>\n",
       "    </tr>\n",
       "    <tr>\n",
       "      <th>1</th>\n",
       "      <td>CbG</td>\n",
       "      <td>degree</td>\n",
       "      <td>0.991892</td>\n",
       "      <td>0.545148</td>\n",
       "      <td>0.545553</td>\n",
       "      <td>-0.000405</td>\n",
       "      <td>0.576708</td>\n",
       "      <td>0.614286</td>\n",
       "    </tr>\n",
       "    <tr>\n",
       "      <th>2</th>\n",
       "      <td>CcSE</td>\n",
       "      <td>degree</td>\n",
       "      <td>0.946622</td>\n",
       "      <td>0.582443</td>\n",
       "      <td>0.579357</td>\n",
       "      <td>0.003086</td>\n",
       "      <td>0.010432</td>\n",
       "      <td>0.021485</td>\n",
       "    </tr>\n",
       "  </tbody>\n",
       "</table>\n",
       "</div>"
      ],
      "text/plain": [
       "      feature feature_type   nonzero     auroc  auroc_permuted  delta_auroc  \\\n",
       "0  prior_prob        prior  1.000000  0.874431        0.822811     0.051620   \n",
       "1         CbG       degree  0.991892  0.545148        0.545553    -0.000405   \n",
       "2        CcSE       degree  0.946622  0.582443        0.579357     0.003086   \n",
       "\n",
       "   pval_auroc  fdr_pval_auroc  \n",
       "0    0.000023        0.000410  \n",
       "1    0.576708        0.614286  \n",
       "2    0.010432        0.021485  "
      ]
     },
     "execution_count": 7,
     "metadata": {},
     "output_type": "execute_result"
    }
   ],
   "source": [
    "compare_df.head(3)"
   ]
  },
  {
   "cell_type": "code",
   "execution_count": 8,
   "metadata": {
    "collapsed": true
   },
   "outputs": [],
   "source": [
    "# Save datasets\n",
    "perf_df.to_csv('data/feature-performance/primary-aucs.tsv', sep='\\t', index=False, float_format='%.5g')\n",
    "compare_df.to_csv('data/feature-performance/primary-aurocs.tsv', sep='\\t', index=False, float_format='%.5g')"
   ]
  }
 ],
 "metadata": {
  "kernelspec": {
   "display_name": "Python 3",
   "language": "python",
   "name": "python3"
  },
  "language_info": {
   "codemirror_mode": {
    "name": "ipython",
    "version": 3
   },
   "file_extension": ".py",
   "mimetype": "text/x-python",
   "name": "python",
   "nbconvert_exporter": "python",
   "pygments_lexer": "ipython3",
   "version": "3.5.1"
  }
 },
 "nbformat": 4,
 "nbformat_minor": 0
}
