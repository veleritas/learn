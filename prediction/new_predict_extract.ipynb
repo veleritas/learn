{
 "cells": [
  {
   "cell_type": "markdown",
   "metadata": {},
   "source": [
    "# New extraction step for prediction generation"
   ]
  },
  {
   "cell_type": "code",
   "execution_count": 1,
   "metadata": {
    "collapsed": false
   },
   "outputs": [],
   "source": [
    "import pandas as pd\n",
    "import multiprocessing as mp\n",
    "import json\n",
    "\n",
    "import bz2\n",
    "import numpy\n",
    "from scipy.special import logit\n",
    "\n",
    "import sys\n",
    "\n",
    "sys.path.append(\"..\")"
   ]
  },
  {
   "cell_type": "code",
   "execution_count": 2,
   "metadata": {
    "collapsed": true
   },
   "outputs": [],
   "source": [
    "from src.extractor import MatrixFormattedGraph"
   ]
  },
  {
   "cell_type": "markdown",
   "metadata": {},
   "source": [
    "---"
   ]
  },
  {
   "cell_type": "markdown",
   "metadata": {},
   "source": [
    "## Calculate DWPCs for informative features"
   ]
  },
  {
   "cell_type": "code",
   "execution_count": 3,
   "metadata": {
    "collapsed": true
   },
   "outputs": [],
   "source": [
    "with open(\"features/metapaths.json\", \"r\") as fin:\n",
    "    metapaths = json.load(fin)\n",
    "\n",
    "paths = [val[\"abbreviation\"] for val in metapaths]"
   ]
  },
  {
   "cell_type": "code",
   "execution_count": 4,
   "metadata": {
    "collapsed": false
   },
   "outputs": [
    {
     "data": {
      "text/plain": [
       "['CbGaD',\n",
       " 'CrCtD',\n",
       " 'CtDrD',\n",
       " 'CbGbCtD',\n",
       " 'CbGeAlD',\n",
       " 'CbGiGaD',\n",
       " 'CbGuAlD',\n",
       " 'CbGuDrD',\n",
       " 'CcSEcCtD',\n",
       " 'CdGbCtD',\n",
       " 'CdGdCtD',\n",
       " 'CdGiGaD',\n",
       " 'CiPCiCtD',\n",
       " 'CrCbGaD',\n",
       " 'CrCdGaD',\n",
       " 'CrCrCtD',\n",
       " 'CrCtDrD',\n",
       " 'CrCuGaD',\n",
       " 'CtDtCtD',\n",
       " 'CuGiGaD',\n",
       " 'CuGuCtD',\n",
       " 'CbGaDaGaD',\n",
       " 'CbGaDlAlD',\n",
       " 'CbGaDpSpD',\n",
       " 'CbGaDrDrD',\n",
       " 'CbGaDtCtD',\n",
       " 'CbGbCbGaD',\n",
       " 'CbGbCdGaD',\n",
       " 'CbGbCdGuD',\n",
       " 'CbGbCrCtD',\n",
       " 'CbGbCuGaD',\n",
       " 'CbGdAdGaD',\n",
       " 'CbGdCdGaD',\n",
       " 'CbGdCrCtD',\n",
       " 'CbGdCtDrD',\n",
       " 'CbGdCuGaD',\n",
       " 'CbGdDaGaD',\n",
       " 'CbGdDdGaD',\n",
       " 'CbGdDlAlD',\n",
       " 'CbGdDpSpD',\n",
       " 'CbGdDuGaD',\n",
       " 'CbGeAeGaD',\n",
       " 'CbGeAlDrD',\n",
       " 'CbGeAuGaD',\n",
       " 'CbGiGaDrD',\n",
       " 'CbGiGbCtD',\n",
       " 'CbGiGiGaD',\n",
       " 'CbGiGuAlD',\n",
       " 'CbGpBPpGaD',\n",
       " 'CbGpMFpGaD',\n",
       " 'CbGpPWpGaD',\n",
       " 'CbGuAeGaD',\n",
       " 'CbGuAlDrD',\n",
       " 'CbGuAuGaD',\n",
       " 'CbGuCdGaD',\n",
       " 'CbGuCtDrD',\n",
       " 'CbGuCuGaD',\n",
       " 'CbGuDaGaD',\n",
       " 'CbGuDdGaD',\n",
       " 'CbGuDlAlD',\n",
       " 'CbGuDpSpD',\n",
       " 'CbGuDrDrD',\n",
       " 'CbGuDuGaD',\n",
       " 'CcSEcCbGaD',\n",
       " 'CcSEcCdGuD',\n",
       " 'CcSEcCrCtD',\n",
       " 'CcSEcCuGaD',\n",
       " 'CdGaDaGaD',\n",
       " 'CdGaDuGaD',\n",
       " 'CdGcGiGaD',\n",
       " 'CdGdCrCtD',\n",
       " 'CdGdCtDrD',\n",
       " 'CdGiGiGaD',\n",
       " 'CdGuDaGaD',\n",
       " 'CiPCiCbGaD',\n",
       " 'CiPCiCdGaD',\n",
       " 'CiPCiCdGuD',\n",
       " 'CiPCiCrCtD',\n",
       " 'CiPCiCuGaD',\n",
       " 'CrCbGbCtD',\n",
       " 'CrCbGiGaD',\n",
       " 'CrCcSEcCtD',\n",
       " 'CrCdGbCtD',\n",
       " 'CrCdGdCtD',\n",
       " 'CrCdGeAlD',\n",
       " 'CrCdGiGaD',\n",
       " 'CrCiPCiCtD',\n",
       " 'CrCrCbGaD',\n",
       " 'CrCrCdGaD',\n",
       " 'CrCrCrCtD',\n",
       " 'CrCtDaGaD',\n",
       " 'CrCtDdGaD',\n",
       " 'CrCtDdGdD',\n",
       " 'CrCtDlAlD',\n",
       " 'CrCtDpSpD',\n",
       " 'CrCtDrDrD',\n",
       " 'CrCtDtCtD',\n",
       " 'CrCtDuGaD',\n",
       " 'CrCuGiGaD',\n",
       " 'CrCuGuCtD',\n",
       " 'CtDrDtCtD',\n",
       " 'CtDtCrCtD',\n",
       " 'CuGaDuGaD',\n",
       " 'CuGbCtDrD',\n",
       " 'CuGcGiGaD',\n",
       " 'CuGdDpSpD',\n",
       " 'CuGuCbGaD',\n",
       " 'CuGuCrCtD',\n",
       " 'CuGuCtDrD',\n",
       " 'CuGuCuGaD']"
      ]
     },
     "execution_count": 4,
     "metadata": {},
     "output_type": "execute_result"
    }
   ],
   "source": [
    "paths"
   ]
  },
  {
   "cell_type": "markdown",
   "metadata": {},
   "source": [
    "---"
   ]
  },
  {
   "cell_type": "code",
   "execution_count": 5,
   "metadata": {
    "collapsed": false
   },
   "outputs": [
    {
     "name": "stdout",
     "output_type": "stream",
     "text": [
      "Reading file information...\n",
      "Initializing metagraph...\n",
      "Generating adjacency matrices...\n"
     ]
    },
    {
     "name": "stderr",
     "output_type": "stream",
     "text": [
      "100%|██████████| 23/23 [01:09<00:00,  1.67it/s]\n"
     ]
    },
    {
     "name": "stdout",
     "output_type": "stream",
     "text": [
      "\n",
      "Weighting matrices by degree with dampening factor 0.4...\n"
     ]
    },
    {
     "name": "stderr",
     "output_type": "stream",
     "text": [
      "100%|██████████| 23/23 [00:34<00:00,  1.99s/it]\n"
     ]
    }
   ],
   "source": [
    "mg = MatrixFormattedGraph(\n",
    "    \"../../integrate/data/import_csvs/hetnet_nodes.csv\",\n",
    "    \"../../integrate/data/import_csvs/hetnet_edges.csv\",\n",
    "    start_kind=\"Compound\", end_kind=\"Disease\",\n",
    "    max_length=4\n",
    ")"
   ]
  },
  {
   "cell_type": "code",
   "execution_count": 6,
   "metadata": {
    "collapsed": false
   },
   "outputs": [
    {
     "name": "stdout",
     "output_type": "stream",
     "text": [
      "Calculating DWPCs...\n"
     ]
    },
    {
     "name": "stderr",
     "output_type": "stream",
     "text": [
      "100%|██████████| 110/110 [00:38<00:00,  5.17s/it]\n"
     ]
    },
    {
     "name": "stdout",
     "output_type": "stream",
     "text": [
      "\n",
      "Reformating results...\n"
     ]
    },
    {
     "name": "stderr",
     "output_type": "stream",
     "text": [
      "100%|██████████| 110/110 [01:10<00:00,  1.95it/s]\n"
     ]
    }
   ],
   "source": [
    "dwpcs = mg.extract_dwpc(\n",
    "    metapaths=paths,\n",
    "    start_nodes=\"Compound\", end_nodes=\"Disease\",\n",
    "    n_jobs=mp.cpu_count()\n",
    ")"
   ]
  },
  {
   "cell_type": "code",
   "execution_count": 7,
   "metadata": {
    "collapsed": true
   },
   "outputs": [],
   "source": [
    "dwpcs.columns = 'dwpc_' + dwpcs.columns\n",
    "\n",
    "dwpcs = dwpcs.rename(columns={\n",
    "    \"dwpc_compound_id\": \"chemical_id\",\n",
    "    \"dwpc_disease_id\": \"disease_id\"\n",
    "})"
   ]
  },
  {
   "cell_type": "code",
   "execution_count": 8,
   "metadata": {
    "collapsed": false
   },
   "outputs": [
    {
     "data": {
      "text/plain": [
       "(212624, 112)"
      ]
     },
     "execution_count": 8,
     "metadata": {},
     "output_type": "execute_result"
    }
   ],
   "source": [
    "dwpcs.shape"
   ]
  },
  {
   "cell_type": "code",
   "execution_count": 9,
   "metadata": {
    "collapsed": false
   },
   "outputs": [
    {
     "data": {
      "text/html": [
       "<div>\n",
       "<style>\n",
       "    .dataframe thead tr:only-child th {\n",
       "        text-align: right;\n",
       "    }\n",
       "\n",
       "    .dataframe thead th {\n",
       "        text-align: left;\n",
       "    }\n",
       "\n",
       "    .dataframe tbody tr th {\n",
       "        vertical-align: top;\n",
       "    }\n",
       "</style>\n",
       "<table border=\"1\" class=\"dataframe\">\n",
       "  <thead>\n",
       "    <tr style=\"text-align: right;\">\n",
       "      <th></th>\n",
       "      <th>chemical_id</th>\n",
       "      <th>disease_id</th>\n",
       "      <th>dwpc_CbGaD</th>\n",
       "      <th>dwpc_CrCtD</th>\n",
       "      <th>dwpc_CtDrD</th>\n",
       "      <th>dwpc_CbGbCtD</th>\n",
       "      <th>dwpc_CbGeAlD</th>\n",
       "      <th>dwpc_CbGiGaD</th>\n",
       "      <th>dwpc_CbGuAlD</th>\n",
       "      <th>dwpc_CbGuDrD</th>\n",
       "      <th>...</th>\n",
       "      <th>dwpc_CtDrDtCtD</th>\n",
       "      <th>dwpc_CtDtCrCtD</th>\n",
       "      <th>dwpc_CuGaDuGaD</th>\n",
       "      <th>dwpc_CuGbCtDrD</th>\n",
       "      <th>dwpc_CuGcGiGaD</th>\n",
       "      <th>dwpc_CuGdDpSpD</th>\n",
       "      <th>dwpc_CuGuCbGaD</th>\n",
       "      <th>dwpc_CuGuCrCtD</th>\n",
       "      <th>dwpc_CuGuCtDrD</th>\n",
       "      <th>dwpc_CuGuCuGaD</th>\n",
       "    </tr>\n",
       "  </thead>\n",
       "  <tbody>\n",
       "    <tr>\n",
       "      <th>0</th>\n",
       "      <td>DB01595</td>\n",
       "      <td>DOID:11615</td>\n",
       "      <td>0.0</td>\n",
       "      <td>0.0</td>\n",
       "      <td>0.0</td>\n",
       "      <td>0.000000</td>\n",
       "      <td>0.000498</td>\n",
       "      <td>0.000000</td>\n",
       "      <td>0.000499</td>\n",
       "      <td>0.000000</td>\n",
       "      <td>...</td>\n",
       "      <td>0.0</td>\n",
       "      <td>0.0</td>\n",
       "      <td>0.0</td>\n",
       "      <td>0.0</td>\n",
       "      <td>0.0</td>\n",
       "      <td>0.0</td>\n",
       "      <td>0.0</td>\n",
       "      <td>0.0</td>\n",
       "      <td>0.0</td>\n",
       "      <td>0.0</td>\n",
       "    </tr>\n",
       "    <tr>\n",
       "      <th>1</th>\n",
       "      <td>DB01595</td>\n",
       "      <td>DOID:13241</td>\n",
       "      <td>0.0</td>\n",
       "      <td>0.0</td>\n",
       "      <td>0.0</td>\n",
       "      <td>0.000000</td>\n",
       "      <td>0.005107</td>\n",
       "      <td>0.000000</td>\n",
       "      <td>0.003280</td>\n",
       "      <td>0.000000</td>\n",
       "      <td>...</td>\n",
       "      <td>0.0</td>\n",
       "      <td>0.0</td>\n",
       "      <td>0.0</td>\n",
       "      <td>0.0</td>\n",
       "      <td>0.0</td>\n",
       "      <td>0.0</td>\n",
       "      <td>0.0</td>\n",
       "      <td>0.0</td>\n",
       "      <td>0.0</td>\n",
       "      <td>0.0</td>\n",
       "    </tr>\n",
       "    <tr>\n",
       "      <th>2</th>\n",
       "      <td>DB01595</td>\n",
       "      <td>DOID:12365</td>\n",
       "      <td>0.0</td>\n",
       "      <td>0.0</td>\n",
       "      <td>0.0</td>\n",
       "      <td>0.010235</td>\n",
       "      <td>0.001718</td>\n",
       "      <td>0.000093</td>\n",
       "      <td>0.001860</td>\n",
       "      <td>0.000000</td>\n",
       "      <td>...</td>\n",
       "      <td>0.0</td>\n",
       "      <td>0.0</td>\n",
       "      <td>0.0</td>\n",
       "      <td>0.0</td>\n",
       "      <td>0.0</td>\n",
       "      <td>0.0</td>\n",
       "      <td>0.0</td>\n",
       "      <td>0.0</td>\n",
       "      <td>0.0</td>\n",
       "      <td>0.0</td>\n",
       "    </tr>\n",
       "    <tr>\n",
       "      <th>3</th>\n",
       "      <td>DB01595</td>\n",
       "      <td>DOID:363</td>\n",
       "      <td>0.0</td>\n",
       "      <td>0.0</td>\n",
       "      <td>0.0</td>\n",
       "      <td>0.001738</td>\n",
       "      <td>0.001612</td>\n",
       "      <td>0.000329</td>\n",
       "      <td>0.001160</td>\n",
       "      <td>0.001119</td>\n",
       "      <td>...</td>\n",
       "      <td>0.0</td>\n",
       "      <td>0.0</td>\n",
       "      <td>0.0</td>\n",
       "      <td>0.0</td>\n",
       "      <td>0.0</td>\n",
       "      <td>0.0</td>\n",
       "      <td>0.0</td>\n",
       "      <td>0.0</td>\n",
       "      <td>0.0</td>\n",
       "      <td>0.0</td>\n",
       "    </tr>\n",
       "    <tr>\n",
       "      <th>4</th>\n",
       "      <td>DB01595</td>\n",
       "      <td>DOID:1319</td>\n",
       "      <td>0.0</td>\n",
       "      <td>0.0</td>\n",
       "      <td>0.0</td>\n",
       "      <td>0.001541</td>\n",
       "      <td>0.006177</td>\n",
       "      <td>0.000121</td>\n",
       "      <td>0.005345</td>\n",
       "      <td>0.000000</td>\n",
       "      <td>...</td>\n",
       "      <td>0.0</td>\n",
       "      <td>0.0</td>\n",
       "      <td>0.0</td>\n",
       "      <td>0.0</td>\n",
       "      <td>0.0</td>\n",
       "      <td>0.0</td>\n",
       "      <td>0.0</td>\n",
       "      <td>0.0</td>\n",
       "      <td>0.0</td>\n",
       "      <td>0.0</td>\n",
       "    </tr>\n",
       "  </tbody>\n",
       "</table>\n",
       "<p>5 rows × 112 columns</p>\n",
       "</div>"
      ],
      "text/plain": [
       "  chemical_id  disease_id  dwpc_CbGaD  dwpc_CrCtD  dwpc_CtDrD  dwpc_CbGbCtD  \\\n",
       "0     DB01595  DOID:11615         0.0         0.0         0.0      0.000000   \n",
       "1     DB01595  DOID:13241         0.0         0.0         0.0      0.000000   \n",
       "2     DB01595  DOID:12365         0.0         0.0         0.0      0.010235   \n",
       "3     DB01595    DOID:363         0.0         0.0         0.0      0.001738   \n",
       "4     DB01595   DOID:1319         0.0         0.0         0.0      0.001541   \n",
       "\n",
       "   dwpc_CbGeAlD  dwpc_CbGiGaD  dwpc_CbGuAlD  dwpc_CbGuDrD       ...        \\\n",
       "0      0.000498      0.000000      0.000499      0.000000       ...         \n",
       "1      0.005107      0.000000      0.003280      0.000000       ...         \n",
       "2      0.001718      0.000093      0.001860      0.000000       ...         \n",
       "3      0.001612      0.000329      0.001160      0.001119       ...         \n",
       "4      0.006177      0.000121      0.005345      0.000000       ...         \n",
       "\n",
       "   dwpc_CtDrDtCtD  dwpc_CtDtCrCtD  dwpc_CuGaDuGaD  dwpc_CuGbCtDrD  \\\n",
       "0             0.0             0.0             0.0             0.0   \n",
       "1             0.0             0.0             0.0             0.0   \n",
       "2             0.0             0.0             0.0             0.0   \n",
       "3             0.0             0.0             0.0             0.0   \n",
       "4             0.0             0.0             0.0             0.0   \n",
       "\n",
       "   dwpc_CuGcGiGaD  dwpc_CuGdDpSpD  dwpc_CuGuCbGaD  dwpc_CuGuCrCtD  \\\n",
       "0             0.0             0.0             0.0             0.0   \n",
       "1             0.0             0.0             0.0             0.0   \n",
       "2             0.0             0.0             0.0             0.0   \n",
       "3             0.0             0.0             0.0             0.0   \n",
       "4             0.0             0.0             0.0             0.0   \n",
       "\n",
       "   dwpc_CuGuCtDrD  dwpc_CuGuCuGaD  \n",
       "0             0.0             0.0  \n",
       "1             0.0             0.0  \n",
       "2             0.0             0.0  \n",
       "3             0.0             0.0  \n",
       "4             0.0             0.0  \n",
       "\n",
       "[5 rows x 112 columns]"
      ]
     },
     "execution_count": 9,
     "metadata": {},
     "output_type": "execute_result"
    }
   ],
   "source": [
    "dwpcs.head()"
   ]
  },
  {
   "cell_type": "markdown",
   "metadata": {},
   "source": [
    "---"
   ]
  },
  {
   "cell_type": "markdown",
   "metadata": {},
   "source": [
    "## Subset DWPCs"
   ]
  },
  {
   "cell_type": "code",
   "execution_count": 10,
   "metadata": {
    "collapsed": true
   },
   "outputs": [],
   "source": [
    "pairs = pd.read_table(\"features/compound-disease-pairs.tsv.bz2\")"
   ]
  },
  {
   "cell_type": "code",
   "execution_count": 11,
   "metadata": {
    "collapsed": false
   },
   "outputs": [
    {
     "data": {
      "text/plain": [
       "(55768, 7)"
      ]
     },
     "execution_count": 11,
     "metadata": {},
     "output_type": "execute_result"
    }
   ],
   "source": [
    "pairs.shape"
   ]
  },
  {
   "cell_type": "code",
   "execution_count": 12,
   "metadata": {
    "collapsed": false
   },
   "outputs": [
    {
     "data": {
      "text/html": [
       "<div>\n",
       "<style>\n",
       "    .dataframe thead tr:only-child th {\n",
       "        text-align: right;\n",
       "    }\n",
       "\n",
       "    .dataframe thead th {\n",
       "        text-align: left;\n",
       "    }\n",
       "\n",
       "    .dataframe tbody tr th {\n",
       "        vertical-align: top;\n",
       "    }\n",
       "</style>\n",
       "<table border=\"1\" class=\"dataframe\">\n",
       "  <thead>\n",
       "    <tr style=\"text-align: right;\">\n",
       "      <th></th>\n",
       "      <th>chemical_id</th>\n",
       "      <th>chemical_name</th>\n",
       "      <th>disease_id</th>\n",
       "      <th>disease_name</th>\n",
       "      <th>category</th>\n",
       "      <th>origin</th>\n",
       "      <th>status</th>\n",
       "    </tr>\n",
       "  </thead>\n",
       "  <tbody>\n",
       "    <tr>\n",
       "      <th>0</th>\n",
       "      <td>DB00014</td>\n",
       "      <td>NaN</td>\n",
       "      <td>DOID:0050742</td>\n",
       "      <td>NaN</td>\n",
       "      <td>NaN</td>\n",
       "      <td>train</td>\n",
       "      <td>0</td>\n",
       "    </tr>\n",
       "    <tr>\n",
       "      <th>1</th>\n",
       "      <td>DB00014</td>\n",
       "      <td>NaN</td>\n",
       "      <td>DOID:0060073</td>\n",
       "      <td>NaN</td>\n",
       "      <td>NaN</td>\n",
       "      <td>train</td>\n",
       "      <td>0</td>\n",
       "    </tr>\n",
       "  </tbody>\n",
       "</table>\n",
       "</div>"
      ],
      "text/plain": [
       "  chemical_id chemical_name    disease_id disease_name category origin  status\n",
       "0     DB00014           NaN  DOID:0050742          NaN      NaN  train       0\n",
       "1     DB00014           NaN  DOID:0060073          NaN      NaN  train       0"
      ]
     },
     "execution_count": 12,
     "metadata": {},
     "output_type": "execute_result"
    }
   ],
   "source": [
    "pairs.head(2)"
   ]
  },
  {
   "cell_type": "code",
   "execution_count": 13,
   "metadata": {
    "collapsed": true
   },
   "outputs": [],
   "source": [
    "dwpcs = dwpcs.merge(\n",
    "    pairs[[\"chemical_id\", \"disease_id\"]].drop_duplicates(),\n",
    "    how=\"right\", on=[\"chemical_id\", \"disease_id\"]\n",
    ")"
   ]
  },
  {
   "cell_type": "code",
   "execution_count": 14,
   "metadata": {
    "collapsed": false
   },
   "outputs": [
    {
     "data": {
      "text/plain": [
       "(55305, 112)"
      ]
     },
     "execution_count": 14,
     "metadata": {},
     "output_type": "execute_result"
    }
   ],
   "source": [
    "dwpcs.shape"
   ]
  },
  {
   "cell_type": "code",
   "execution_count": 15,
   "metadata": {
    "collapsed": false
   },
   "outputs": [
    {
     "data": {
      "text/html": [
       "<div>\n",
       "<style>\n",
       "    .dataframe thead tr:only-child th {\n",
       "        text-align: right;\n",
       "    }\n",
       "\n",
       "    .dataframe thead th {\n",
       "        text-align: left;\n",
       "    }\n",
       "\n",
       "    .dataframe tbody tr th {\n",
       "        vertical-align: top;\n",
       "    }\n",
       "</style>\n",
       "<table border=\"1\" class=\"dataframe\">\n",
       "  <thead>\n",
       "    <tr style=\"text-align: right;\">\n",
       "      <th></th>\n",
       "      <th>chemical_id</th>\n",
       "      <th>disease_id</th>\n",
       "      <th>dwpc_CbGaD</th>\n",
       "      <th>dwpc_CrCtD</th>\n",
       "      <th>dwpc_CtDrD</th>\n",
       "      <th>dwpc_CbGbCtD</th>\n",
       "      <th>dwpc_CbGeAlD</th>\n",
       "      <th>dwpc_CbGiGaD</th>\n",
       "      <th>dwpc_CbGuAlD</th>\n",
       "      <th>dwpc_CbGuDrD</th>\n",
       "      <th>...</th>\n",
       "      <th>dwpc_CtDrDtCtD</th>\n",
       "      <th>dwpc_CtDtCrCtD</th>\n",
       "      <th>dwpc_CuGaDuGaD</th>\n",
       "      <th>dwpc_CuGbCtDrD</th>\n",
       "      <th>dwpc_CuGcGiGaD</th>\n",
       "      <th>dwpc_CuGdDpSpD</th>\n",
       "      <th>dwpc_CuGuCbGaD</th>\n",
       "      <th>dwpc_CuGuCrCtD</th>\n",
       "      <th>dwpc_CuGuCtDrD</th>\n",
       "      <th>dwpc_CuGuCuGaD</th>\n",
       "    </tr>\n",
       "  </thead>\n",
       "  <tbody>\n",
       "    <tr>\n",
       "      <th>0</th>\n",
       "      <td>DB00441</td>\n",
       "      <td>DOID:12365</td>\n",
       "      <td>0.000000</td>\n",
       "      <td>0.0</td>\n",
       "      <td>0.0</td>\n",
       "      <td>0.000881</td>\n",
       "      <td>0.011484</td>\n",
       "      <td>0.000517</td>\n",
       "      <td>0.008128</td>\n",
       "      <td>0.000000</td>\n",
       "      <td>...</td>\n",
       "      <td>0.000000</td>\n",
       "      <td>0.000000</td>\n",
       "      <td>0.004917</td>\n",
       "      <td>0.000000</td>\n",
       "      <td>0.002366</td>\n",
       "      <td>0.025473</td>\n",
       "      <td>0.002792</td>\n",
       "      <td>0.005475</td>\n",
       "      <td>0.000000</td>\n",
       "      <td>0.029277</td>\n",
       "    </tr>\n",
       "    <tr>\n",
       "      <th>1</th>\n",
       "      <td>DB00441</td>\n",
       "      <td>DOID:363</td>\n",
       "      <td>0.059557</td>\n",
       "      <td>0.0</td>\n",
       "      <td>0.0</td>\n",
       "      <td>0.003035</td>\n",
       "      <td>0.013855</td>\n",
       "      <td>0.002760</td>\n",
       "      <td>0.007495</td>\n",
       "      <td>0.000000</td>\n",
       "      <td>...</td>\n",
       "      <td>0.041666</td>\n",
       "      <td>0.020541</td>\n",
       "      <td>0.010085</td>\n",
       "      <td>0.001845</td>\n",
       "      <td>0.008141</td>\n",
       "      <td>0.027562</td>\n",
       "      <td>0.022479</td>\n",
       "      <td>0.030058</td>\n",
       "      <td>0.019431</td>\n",
       "      <td>0.034918</td>\n",
       "    </tr>\n",
       "    <tr>\n",
       "      <th>2</th>\n",
       "      <td>DB00441</td>\n",
       "      <td>DOID:1319</td>\n",
       "      <td>0.000000</td>\n",
       "      <td>0.0</td>\n",
       "      <td>0.0</td>\n",
       "      <td>0.039331</td>\n",
       "      <td>0.005640</td>\n",
       "      <td>0.005431</td>\n",
       "      <td>0.001280</td>\n",
       "      <td>0.000000</td>\n",
       "      <td>...</td>\n",
       "      <td>0.015310</td>\n",
       "      <td>0.007470</td>\n",
       "      <td>0.007558</td>\n",
       "      <td>0.001579</td>\n",
       "      <td>0.012385</td>\n",
       "      <td>0.023547</td>\n",
       "      <td>0.015886</td>\n",
       "      <td>0.031982</td>\n",
       "      <td>0.016532</td>\n",
       "      <td>0.028792</td>\n",
       "    </tr>\n",
       "    <tr>\n",
       "      <th>3</th>\n",
       "      <td>DB00441</td>\n",
       "      <td>DOID:13189</td>\n",
       "      <td>0.000000</td>\n",
       "      <td>0.0</td>\n",
       "      <td>0.0</td>\n",
       "      <td>0.002867</td>\n",
       "      <td>0.001202</td>\n",
       "      <td>0.000000</td>\n",
       "      <td>0.000000</td>\n",
       "      <td>0.003657</td>\n",
       "      <td>...</td>\n",
       "      <td>0.001307</td>\n",
       "      <td>0.000000</td>\n",
       "      <td>0.003428</td>\n",
       "      <td>0.000701</td>\n",
       "      <td>0.001017</td>\n",
       "      <td>0.015974</td>\n",
       "      <td>0.018489</td>\n",
       "      <td>0.013264</td>\n",
       "      <td>0.012554</td>\n",
       "      <td>0.006245</td>\n",
       "    </tr>\n",
       "    <tr>\n",
       "      <th>4</th>\n",
       "      <td>DB00441</td>\n",
       "      <td>DOID:12361</td>\n",
       "      <td>0.000000</td>\n",
       "      <td>0.0</td>\n",
       "      <td>0.0</td>\n",
       "      <td>0.000000</td>\n",
       "      <td>0.005509</td>\n",
       "      <td>0.000598</td>\n",
       "      <td>0.002326</td>\n",
       "      <td>0.000000</td>\n",
       "      <td>...</td>\n",
       "      <td>0.000000</td>\n",
       "      <td>0.000000</td>\n",
       "      <td>0.005013</td>\n",
       "      <td>0.003219</td>\n",
       "      <td>0.001689</td>\n",
       "      <td>0.020047</td>\n",
       "      <td>0.001863</td>\n",
       "      <td>0.000000</td>\n",
       "      <td>0.007813</td>\n",
       "      <td>0.026349</td>\n",
       "    </tr>\n",
       "  </tbody>\n",
       "</table>\n",
       "<p>5 rows × 112 columns</p>\n",
       "</div>"
      ],
      "text/plain": [
       "  chemical_id  disease_id  dwpc_CbGaD  dwpc_CrCtD  dwpc_CtDrD  dwpc_CbGbCtD  \\\n",
       "0     DB00441  DOID:12365    0.000000         0.0         0.0      0.000881   \n",
       "1     DB00441    DOID:363    0.059557         0.0         0.0      0.003035   \n",
       "2     DB00441   DOID:1319    0.000000         0.0         0.0      0.039331   \n",
       "3     DB00441  DOID:13189    0.000000         0.0         0.0      0.002867   \n",
       "4     DB00441  DOID:12361    0.000000         0.0         0.0      0.000000   \n",
       "\n",
       "   dwpc_CbGeAlD  dwpc_CbGiGaD  dwpc_CbGuAlD  dwpc_CbGuDrD       ...        \\\n",
       "0      0.011484      0.000517      0.008128      0.000000       ...         \n",
       "1      0.013855      0.002760      0.007495      0.000000       ...         \n",
       "2      0.005640      0.005431      0.001280      0.000000       ...         \n",
       "3      0.001202      0.000000      0.000000      0.003657       ...         \n",
       "4      0.005509      0.000598      0.002326      0.000000       ...         \n",
       "\n",
       "   dwpc_CtDrDtCtD  dwpc_CtDtCrCtD  dwpc_CuGaDuGaD  dwpc_CuGbCtDrD  \\\n",
       "0        0.000000        0.000000        0.004917        0.000000   \n",
       "1        0.041666        0.020541        0.010085        0.001845   \n",
       "2        0.015310        0.007470        0.007558        0.001579   \n",
       "3        0.001307        0.000000        0.003428        0.000701   \n",
       "4        0.000000        0.000000        0.005013        0.003219   \n",
       "\n",
       "   dwpc_CuGcGiGaD  dwpc_CuGdDpSpD  dwpc_CuGuCbGaD  dwpc_CuGuCrCtD  \\\n",
       "0        0.002366        0.025473        0.002792        0.005475   \n",
       "1        0.008141        0.027562        0.022479        0.030058   \n",
       "2        0.012385        0.023547        0.015886        0.031982   \n",
       "3        0.001017        0.015974        0.018489        0.013264   \n",
       "4        0.001689        0.020047        0.001863        0.000000   \n",
       "\n",
       "   dwpc_CuGuCtDrD  dwpc_CuGuCuGaD  \n",
       "0        0.000000        0.029277  \n",
       "1        0.019431        0.034918  \n",
       "2        0.016532        0.028792  \n",
       "3        0.012554        0.006245  \n",
       "4        0.007813        0.026349  \n",
       "\n",
       "[5 rows x 112 columns]"
      ]
     },
     "execution_count": 15,
     "metadata": {},
     "output_type": "execute_result"
    }
   ],
   "source": [
    "dwpcs.head()"
   ]
  },
  {
   "cell_type": "markdown",
   "metadata": {},
   "source": [
    "---"
   ]
  },
  {
   "cell_type": "code",
   "execution_count": 16,
   "metadata": {
    "collapsed": false
   },
   "outputs": [
    {
     "data": {
      "text/html": [
       "<div>\n",
       "<style>\n",
       "    .dataframe thead tr:only-child th {\n",
       "        text-align: right;\n",
       "    }\n",
       "\n",
       "    .dataframe thead th {\n",
       "        text-align: left;\n",
       "    }\n",
       "\n",
       "    .dataframe tbody tr th {\n",
       "        vertical-align: top;\n",
       "    }\n",
       "</style>\n",
       "<table border=\"1\" class=\"dataframe\">\n",
       "  <thead>\n",
       "    <tr style=\"text-align: right;\">\n",
       "      <th></th>\n",
       "      <th>chemical_id</th>\n",
       "      <th>disease_id</th>\n",
       "      <th>prior_prob</th>\n",
       "    </tr>\n",
       "  </thead>\n",
       "  <tbody>\n",
       "    <tr>\n",
       "      <th>209166</th>\n",
       "      <td>DB01624</td>\n",
       "      <td>DOID:12306</td>\n",
       "      <td>0.0</td>\n",
       "    </tr>\n",
       "    <tr>\n",
       "      <th>209167</th>\n",
       "      <td>DB01624</td>\n",
       "      <td>DOID:1245</td>\n",
       "      <td>0.0</td>\n",
       "    </tr>\n",
       "  </tbody>\n",
       "</table>\n",
       "</div>"
      ],
      "text/plain": [
       "       chemical_id  disease_id  prior_prob\n",
       "209166     DB01624  DOID:12306         0.0\n",
       "209167     DB01624   DOID:1245         0.0"
      ]
     },
     "execution_count": 16,
     "metadata": {},
     "output_type": "execute_result"
    }
   ],
   "source": [
    "prior_df = pd.read_table('../all-features/data/matrix/prior.tsv')\n",
    "prior_df.tail(2)"
   ]
  },
  {
   "cell_type": "code",
   "execution_count": 17,
   "metadata": {
    "collapsed": false
   },
   "outputs": [
    {
     "data": {
      "text/html": [
       "<div>\n",
       "<style>\n",
       "    .dataframe thead tr:only-child th {\n",
       "        text-align: right;\n",
       "    }\n",
       "\n",
       "    .dataframe thead th {\n",
       "        text-align: left;\n",
       "    }\n",
       "\n",
       "    .dataframe tbody tr th {\n",
       "        vertical-align: top;\n",
       "    }\n",
       "</style>\n",
       "<table border=\"1\" class=\"dataframe\">\n",
       "  <thead>\n",
       "    <tr style=\"text-align: right;\">\n",
       "      <th></th>\n",
       "      <th>disease_id</th>\n",
       "      <th>degree_DaG</th>\n",
       "      <th>degree_DdG</th>\n",
       "      <th>degree_DlA</th>\n",
       "      <th>degree_DpS</th>\n",
       "      <th>degree_DrD</th>\n",
       "      <th>degree_DtC</th>\n",
       "      <th>degree_DuG</th>\n",
       "    </tr>\n",
       "  </thead>\n",
       "  <tbody>\n",
       "    <tr>\n",
       "      <th>0</th>\n",
       "      <td>DOID:0050156</td>\n",
       "      <td>18</td>\n",
       "      <td>250</td>\n",
       "      <td>4</td>\n",
       "      <td>8</td>\n",
       "      <td>2</td>\n",
       "      <td>0</td>\n",
       "      <td>250</td>\n",
       "    </tr>\n",
       "    <tr>\n",
       "      <th>1</th>\n",
       "      <td>DOID:0050425</td>\n",
       "      <td>12</td>\n",
       "      <td>0</td>\n",
       "      <td>16</td>\n",
       "      <td>21</td>\n",
       "      <td>6</td>\n",
       "      <td>0</td>\n",
       "      <td>0</td>\n",
       "    </tr>\n",
       "  </tbody>\n",
       "</table>\n",
       "</div>"
      ],
      "text/plain": [
       "     disease_id  degree_DaG  degree_DdG  degree_DlA  degree_DpS  degree_DrD  \\\n",
       "0  DOID:0050156          18         250           4           8           2   \n",
       "1  DOID:0050425          12           0          16          21           6   \n",
       "\n",
       "   degree_DtC  degree_DuG  \n",
       "0           0         250  \n",
       "1           0           0  "
      ]
     },
     "execution_count": 17,
     "metadata": {},
     "output_type": "execute_result"
    }
   ],
   "source": [
    "compound_degree_df = pd.read_table('../all-features/data/matrix/compound_degree.tsv')\n",
    "disease_degree_df = pd.read_table('../all-features/data/matrix/disease_degree.tsv')\n",
    "\n",
    "for df in compound_degree_df, disease_degree_df:\n",
    "    df.rename(columns={k: 'degree_' + k for k in df.columns[1:]}, inplace=True)\n",
    "\n",
    "disease_degree_df.head(2)"
   ]
  },
  {
   "cell_type": "markdown",
   "metadata": {},
   "source": [
    "---"
   ]
  },
  {
   "cell_type": "code",
   "execution_count": 18,
   "metadata": {
    "collapsed": false
   },
   "outputs": [],
   "source": [
    "feature_mat_df = (pairs\n",
    "    .merge(prior_df)\n",
    "    .merge(compound_degree_df)\n",
    "    .merge(disease_degree_df)\n",
    "    .merge(dwpcs)\n",
    ")"
   ]
  },
  {
   "cell_type": "code",
   "execution_count": 19,
   "metadata": {
    "collapsed": false
   },
   "outputs": [
    {
     "data": {
      "text/plain": [
       "(55768, 132)"
      ]
     },
     "execution_count": 19,
     "metadata": {},
     "output_type": "execute_result"
    }
   ],
   "source": [
    "feature_mat_df.shape"
   ]
  },
  {
   "cell_type": "code",
   "execution_count": 20,
   "metadata": {
    "collapsed": false
   },
   "outputs": [
    {
     "data": {
      "text/plain": [
       "train      38982\n",
       "holdout    16786\n",
       "Name: origin, dtype: int64"
      ]
     },
     "execution_count": 20,
     "metadata": {},
     "output_type": "execute_result"
    }
   ],
   "source": [
    "feature_mat_df[\"origin\"].value_counts()"
   ]
  },
  {
   "cell_type": "code",
   "execution_count": 21,
   "metadata": {
    "collapsed": true
   },
   "outputs": [],
   "source": [
    "with bz2.open('features/features.tsv.bz2', 'wt') as write_file:\n",
    "    feature_mat_df.to_csv(write_file, sep='\\t', index=False, float_format='%.4g')"
   ]
  },
  {
   "cell_type": "markdown",
   "metadata": {},
   "source": [
    "---"
   ]
  },
  {
   "cell_type": "code",
   "execution_count": 22,
   "metadata": {
    "collapsed": false
   },
   "outputs": [
    {
     "data": {
      "text/html": [
       "<div>\n",
       "<style>\n",
       "    .dataframe thead tr:only-child th {\n",
       "        text-align: right;\n",
       "    }\n",
       "\n",
       "    .dataframe thead th {\n",
       "        text-align: left;\n",
       "    }\n",
       "\n",
       "    .dataframe tbody tr th {\n",
       "        vertical-align: top;\n",
       "    }\n",
       "</style>\n",
       "<table border=\"1\" class=\"dataframe\">\n",
       "  <thead>\n",
       "    <tr style=\"text-align: right;\">\n",
       "      <th></th>\n",
       "      <th>chemical_id</th>\n",
       "      <th>chemical_name</th>\n",
       "      <th>disease_id</th>\n",
       "      <th>disease_name</th>\n",
       "      <th>category</th>\n",
       "      <th>origin</th>\n",
       "      <th>status</th>\n",
       "      <th>prior_logit</th>\n",
       "      <th>prior_prob</th>\n",
       "      <th>degree_CbG</th>\n",
       "      <th>...</th>\n",
       "      <th>dwpc_CtDrDtCtD</th>\n",
       "      <th>dwpc_CtDtCrCtD</th>\n",
       "      <th>dwpc_CuGaDuGaD</th>\n",
       "      <th>dwpc_CuGbCtDrD</th>\n",
       "      <th>dwpc_CuGcGiGaD</th>\n",
       "      <th>dwpc_CuGdDpSpD</th>\n",
       "      <th>dwpc_CuGuCbGaD</th>\n",
       "      <th>dwpc_CuGuCrCtD</th>\n",
       "      <th>dwpc_CuGuCtDrD</th>\n",
       "      <th>dwpc_CuGuCuGaD</th>\n",
       "    </tr>\n",
       "  </thead>\n",
       "  <tbody>\n",
       "    <tr>\n",
       "      <th>0</th>\n",
       "      <td>DB00014</td>\n",
       "      <td>NaN</td>\n",
       "      <td>DOID:0050742</td>\n",
       "      <td>NaN</td>\n",
       "      <td>NaN</td>\n",
       "      <td>train</td>\n",
       "      <td>0</td>\n",
       "      <td>-6.489370</td>\n",
       "      <td>0.001517</td>\n",
       "      <td>-1.393900</td>\n",
       "      <td>...</td>\n",
       "      <td>-0.327949</td>\n",
       "      <td>-0.325709</td>\n",
       "      <td>-0.639979</td>\n",
       "      <td>-0.345238</td>\n",
       "      <td>-0.582593</td>\n",
       "      <td>-0.625693</td>\n",
       "      <td>-0.383295</td>\n",
       "      <td>-0.510571</td>\n",
       "      <td>0.020766</td>\n",
       "      <td>-0.652319</td>\n",
       "    </tr>\n",
       "    <tr>\n",
       "      <th>1</th>\n",
       "      <td>DB00091</td>\n",
       "      <td>NaN</td>\n",
       "      <td>DOID:0050742</td>\n",
       "      <td>NaN</td>\n",
       "      <td>NaN</td>\n",
       "      <td>train</td>\n",
       "      <td>0</td>\n",
       "      <td>-5.315024</td>\n",
       "      <td>0.004893</td>\n",
       "      <td>1.518152</td>\n",
       "      <td>...</td>\n",
       "      <td>-0.327949</td>\n",
       "      <td>-0.325709</td>\n",
       "      <td>-0.128367</td>\n",
       "      <td>-0.345238</td>\n",
       "      <td>1.670098</td>\n",
       "      <td>2.001330</td>\n",
       "      <td>1.315657</td>\n",
       "      <td>-0.510571</td>\n",
       "      <td>1.325222</td>\n",
       "      <td>-0.049884</td>\n",
       "    </tr>\n",
       "    <tr>\n",
       "      <th>2</th>\n",
       "      <td>DB00104</td>\n",
       "      <td>NaN</td>\n",
       "      <td>DOID:0050742</td>\n",
       "      <td>NaN</td>\n",
       "      <td>NaN</td>\n",
       "      <td>train</td>\n",
       "      <td>0</td>\n",
       "      <td>-6.489370</td>\n",
       "      <td>0.001517</td>\n",
       "      <td>-0.242536</td>\n",
       "      <td>...</td>\n",
       "      <td>-0.327949</td>\n",
       "      <td>-0.325709</td>\n",
       "      <td>-0.639979</td>\n",
       "      <td>-0.345238</td>\n",
       "      <td>-0.582593</td>\n",
       "      <td>-0.625693</td>\n",
       "      <td>-0.721822</td>\n",
       "      <td>-0.510571</td>\n",
       "      <td>-0.643848</td>\n",
       "      <td>-0.678037</td>\n",
       "    </tr>\n",
       "  </tbody>\n",
       "</table>\n",
       "<p>3 rows × 133 columns</p>\n",
       "</div>"
      ],
      "text/plain": [
       "  chemical_id chemical_name    disease_id disease_name category origin  \\\n",
       "0     DB00014           NaN  DOID:0050742          NaN      NaN  train   \n",
       "1     DB00091           NaN  DOID:0050742          NaN      NaN  train   \n",
       "2     DB00104           NaN  DOID:0050742          NaN      NaN  train   \n",
       "\n",
       "   status  prior_logit  prior_prob  degree_CbG       ...        \\\n",
       "0       0    -6.489370    0.001517   -1.393900       ...         \n",
       "1       0    -5.315024    0.004893    1.518152       ...         \n",
       "2       0    -6.489370    0.001517   -0.242536       ...         \n",
       "\n",
       "   dwpc_CtDrDtCtD  dwpc_CtDtCrCtD  dwpc_CuGaDuGaD  dwpc_CuGbCtDrD  \\\n",
       "0       -0.327949       -0.325709       -0.639979       -0.345238   \n",
       "1       -0.327949       -0.325709       -0.128367       -0.345238   \n",
       "2       -0.327949       -0.325709       -0.639979       -0.345238   \n",
       "\n",
       "   dwpc_CuGcGiGaD  dwpc_CuGdDpSpD  dwpc_CuGuCbGaD  dwpc_CuGuCrCtD  \\\n",
       "0       -0.582593       -0.625693       -0.383295       -0.510571   \n",
       "1        1.670098        2.001330        1.315657       -0.510571   \n",
       "2       -0.582593       -0.625693       -0.721822       -0.510571   \n",
       "\n",
       "   dwpc_CuGuCtDrD  dwpc_CuGuCuGaD  \n",
       "0        0.020766       -0.652319  \n",
       "1        1.325222       -0.049884  \n",
       "2       -0.643848       -0.678037  \n",
       "\n",
       "[3 rows x 133 columns]"
      ]
     },
     "execution_count": 22,
     "metadata": {},
     "output_type": "execute_result"
    }
   ],
   "source": [
    "trans_df = feature_mat_df.copy()\n",
    "degree_features = list(trans_df.columns[trans_df.columns.str.startswith('degree_')])\n",
    "dwpc_features = list(trans_df.columns[trans_df.columns.str.startswith('dwpc_')])\n",
    "\n",
    "# Transform prior\n",
    "trans_df.insert(7, 'prior_logit', logit(trans_df.prior_prob))\n",
    "\n",
    "# Transform degree features\n",
    "for feature in degree_features:\n",
    "    trans_df[feature] = numpy.arcsinh(trans_df[feature])\n",
    "\n",
    "# Transform DWPC features\n",
    "for feature in dwpc_features:\n",
    "    x = trans_df[feature]\n",
    "    trans_df[feature] = numpy.arcsinh(x / x.mean())\n",
    "\n",
    "# Standardize all features besides the prior\n",
    "for feature in degree_features + dwpc_features:\n",
    "    x = trans_df[feature]\n",
    "    trans_df[feature] = (x - x.mean()) / x.std()\n",
    "\n",
    "trans_df.head(3)"
   ]
  },
  {
   "cell_type": "code",
   "execution_count": 23,
   "metadata": {
    "collapsed": true
   },
   "outputs": [],
   "source": [
    "with bz2.open('features/transformed-features.tsv.bz2', 'wt') as write_file:\n",
    "    trans_df.to_csv(write_file, sep='\\t', index=False, float_format='%.4g')"
   ]
  }
 ],
 "metadata": {
  "kernelspec": {
   "display_name": "Python 3",
   "language": "python",
   "name": "python3"
  },
  "language_info": {
   "codemirror_mode": {
    "name": "ipython",
    "version": 3
   },
   "file_extension": ".py",
   "mimetype": "text/x-python",
   "name": "python",
   "nbconvert_exporter": "python",
   "pygments_lexer": "ipython3",
   "version": "3.5.2"
  }
 },
 "nbformat": 4,
 "nbformat_minor": 2
}
