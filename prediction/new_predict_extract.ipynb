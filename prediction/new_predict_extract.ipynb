{
 "cells": [
  {
   "cell_type": "markdown",
   "metadata": {},
   "source": [
    "# New extraction step for prediction generation"
   ]
  },
  {
   "cell_type": "code",
   "execution_count": 1,
   "metadata": {
    "collapsed": false
   },
   "outputs": [],
   "source": [
    "import pandas as pd\n",
    "import multiprocessing as mp\n",
    "import json\n",
    "\n",
    "import bz2\n",
    "import numpy\n",
    "from scipy.special import logit\n",
    "\n",
    "import sys\n",
    "\n",
    "sys.path.append(\"..\")"
   ]
  },
  {
   "cell_type": "code",
   "execution_count": 2,
   "metadata": {
    "collapsed": true
   },
   "outputs": [],
   "source": [
    "from src.extractor import MatrixFormattedGraph"
   ]
  },
  {
   "cell_type": "markdown",
   "metadata": {},
   "source": [
    "---"
   ]
  },
  {
   "cell_type": "markdown",
   "metadata": {},
   "source": [
    "## Calculate DWPCs for informative features"
   ]
  },
  {
   "cell_type": "code",
   "execution_count": 3,
   "metadata": {
    "collapsed": true
   },
   "outputs": [],
   "source": [
    "with open(\"features/metapaths.json\", \"r\") as fin:\n",
    "    metapaths = json.load(fin)\n",
    "\n",
    "paths = [val[\"abbreviation\"] for val in metapaths]"
   ]
  },
  {
   "cell_type": "code",
   "execution_count": 4,
   "metadata": {
    "collapsed": false
   },
   "outputs": [
    {
     "data": {
      "text/plain": [
       "['CbGaD', 'CbGbCtD', 'CtDtCtD', 'CbGaDaGaD', 'CbGaDtCtD', 'CbGbCbGaD']"
      ]
     },
     "execution_count": 4,
     "metadata": {},
     "output_type": "execute_result"
    }
   ],
   "source": [
    "paths"
   ]
  },
  {
   "cell_type": "markdown",
   "metadata": {},
   "source": [
    "---"
   ]
  },
  {
   "cell_type": "code",
   "execution_count": 5,
   "metadata": {
    "collapsed": false
   },
   "outputs": [
    {
     "name": "stdout",
     "output_type": "stream",
     "text": [
      "Reading file information...\n",
      "Initializing metagraph...\n",
      "Generating adjcency matrices...\n"
     ]
    },
    {
     "name": "stderr",
     "output_type": "stream",
     "text": [
      "100%|██████████| 3/3 [00:01<00:00,  1.84it/s]\n"
     ]
    },
    {
     "name": "stdout",
     "output_type": "stream",
     "text": [
      "\n",
      "Weighting matrices by degree with dampening factor 0.4...\n"
     ]
    },
    {
     "name": "stderr",
     "output_type": "stream",
     "text": [
      "100%|██████████| 3/3 [00:00<00:00,  4.94it/s]\n"
     ]
    }
   ],
   "source": [
    "mg = MatrixFormattedGraph(\n",
    "    \"../../integrate/data/import_csvs/hetnet_nodes.csv\",\n",
    "    \"../../integrate/data/import_csvs/hetnet_edges.csv\",\n",
    "    start_kind=\"Compound\", end_kind=\"Disease\",\n",
    "    max_length=4\n",
    ")"
   ]
  },
  {
   "cell_type": "code",
   "execution_count": 6,
   "metadata": {
    "collapsed": false
   },
   "outputs": [
    {
     "name": "stdout",
     "output_type": "stream",
     "text": [
      "Calculating DWPCs...\n"
     ]
    },
    {
     "name": "stderr",
     "output_type": "stream",
     "text": [
      "100%|██████████| 6/6 [00:00<00:00,  7.55it/s]\n"
     ]
    },
    {
     "name": "stdout",
     "output_type": "stream",
     "text": [
      "\n",
      "Reformating results...\n"
     ]
    },
    {
     "name": "stderr",
     "output_type": "stream",
     "text": [
      "100%|██████████| 6/6 [00:23<00:00,  3.71s/it]\n"
     ]
    }
   ],
   "source": [
    "dwpcs = mg.extract_dwpc(\n",
    "    metapaths=paths,\n",
    "    start_nodes=\"Compound\", end_nodes=\"Disease\",\n",
    "    n_jobs=mp.cpu_count()\n",
    ")"
   ]
  },
  {
   "cell_type": "code",
   "execution_count": 7,
   "metadata": {
    "collapsed": true
   },
   "outputs": [],
   "source": [
    "dwpcs.columns = 'dwpc_' + dwpcs.columns\n",
    "\n",
    "dwpcs = dwpcs.rename(columns={\n",
    "    \"dwpc_compound_id\": \"chemical_id\",\n",
    "    \"dwpc_disease_id\": \"disease_id\"\n",
    "})"
   ]
  },
  {
   "cell_type": "code",
   "execution_count": 8,
   "metadata": {
    "collapsed": false
   },
   "outputs": [
    {
     "data": {
      "text/plain": [
       "(212624, 8)"
      ]
     },
     "execution_count": 8,
     "metadata": {},
     "output_type": "execute_result"
    }
   ],
   "source": [
    "dwpcs.shape"
   ]
  },
  {
   "cell_type": "code",
   "execution_count": 9,
   "metadata": {
    "collapsed": false
   },
   "outputs": [
    {
     "data": {
      "text/html": [
       "<div>\n",
       "<style>\n",
       "    .dataframe thead tr:only-child th {\n",
       "        text-align: right;\n",
       "    }\n",
       "\n",
       "    .dataframe thead th {\n",
       "        text-align: left;\n",
       "    }\n",
       "\n",
       "    .dataframe tbody tr th {\n",
       "        vertical-align: top;\n",
       "    }\n",
       "</style>\n",
       "<table border=\"1\" class=\"dataframe\">\n",
       "  <thead>\n",
       "    <tr style=\"text-align: right;\">\n",
       "      <th></th>\n",
       "      <th>chemical_id</th>\n",
       "      <th>disease_id</th>\n",
       "      <th>dwpc_CbGaD</th>\n",
       "      <th>dwpc_CbGbCtD</th>\n",
       "      <th>dwpc_CtDtCtD</th>\n",
       "      <th>dwpc_CbGaDaGaD</th>\n",
       "      <th>dwpc_CbGaDtCtD</th>\n",
       "      <th>dwpc_CbGbCbGaD</th>\n",
       "    </tr>\n",
       "  </thead>\n",
       "  <tbody>\n",
       "    <tr>\n",
       "      <th>0</th>\n",
       "      <td>DB00465</td>\n",
       "      <td>DOID:7148</td>\n",
       "      <td>0.003429</td>\n",
       "      <td>0.008544</td>\n",
       "      <td>0.0</td>\n",
       "      <td>0.010193</td>\n",
       "      <td>0.004000</td>\n",
       "      <td>0.006288</td>\n",
       "    </tr>\n",
       "    <tr>\n",
       "      <th>1</th>\n",
       "      <td>DB00465</td>\n",
       "      <td>DOID:14330</td>\n",
       "      <td>0.000000</td>\n",
       "      <td>0.000000</td>\n",
       "      <td>0.0</td>\n",
       "      <td>0.006266</td>\n",
       "      <td>0.000000</td>\n",
       "      <td>0.002362</td>\n",
       "    </tr>\n",
       "    <tr>\n",
       "      <th>2</th>\n",
       "      <td>DB00465</td>\n",
       "      <td>DOID:8577</td>\n",
       "      <td>0.012938</td>\n",
       "      <td>0.021249</td>\n",
       "      <td>0.0</td>\n",
       "      <td>0.006230</td>\n",
       "      <td>0.002391</td>\n",
       "      <td>0.011538</td>\n",
       "    </tr>\n",
       "    <tr>\n",
       "      <th>3</th>\n",
       "      <td>DB00465</td>\n",
       "      <td>DOID:10763</td>\n",
       "      <td>0.007359</td>\n",
       "      <td>0.009657</td>\n",
       "      <td>0.0</td>\n",
       "      <td>0.014443</td>\n",
       "      <td>0.001433</td>\n",
       "      <td>0.016377</td>\n",
       "    </tr>\n",
       "    <tr>\n",
       "      <th>4</th>\n",
       "      <td>DB00465</td>\n",
       "      <td>DOID:1312</td>\n",
       "      <td>0.000000</td>\n",
       "      <td>0.000000</td>\n",
       "      <td>0.0</td>\n",
       "      <td>0.004861</td>\n",
       "      <td>0.000527</td>\n",
       "      <td>0.001592</td>\n",
       "    </tr>\n",
       "  </tbody>\n",
       "</table>\n",
       "</div>"
      ],
      "text/plain": [
       "  chemical_id  disease_id  dwpc_CbGaD  dwpc_CbGbCtD  dwpc_CtDtCtD  \\\n",
       "0     DB00465   DOID:7148    0.003429      0.008544           0.0   \n",
       "1     DB00465  DOID:14330    0.000000      0.000000           0.0   \n",
       "2     DB00465   DOID:8577    0.012938      0.021249           0.0   \n",
       "3     DB00465  DOID:10763    0.007359      0.009657           0.0   \n",
       "4     DB00465   DOID:1312    0.000000      0.000000           0.0   \n",
       "\n",
       "   dwpc_CbGaDaGaD  dwpc_CbGaDtCtD  dwpc_CbGbCbGaD  \n",
       "0        0.010193        0.004000        0.006288  \n",
       "1        0.006266        0.000000        0.002362  \n",
       "2        0.006230        0.002391        0.011538  \n",
       "3        0.014443        0.001433        0.016377  \n",
       "4        0.004861        0.000527        0.001592  "
      ]
     },
     "execution_count": 9,
     "metadata": {},
     "output_type": "execute_result"
    }
   ],
   "source": [
    "dwpcs.head()"
   ]
  },
  {
   "cell_type": "markdown",
   "metadata": {},
   "source": [
    "---"
   ]
  },
  {
   "cell_type": "markdown",
   "metadata": {},
   "source": [
    "## Subset DWPCs"
   ]
  },
  {
   "cell_type": "code",
   "execution_count": 10,
   "metadata": {
    "collapsed": true
   },
   "outputs": [],
   "source": [
    "pairs = pd.read_table(\"features/compound-disease-pairs.tsv.bz2\")"
   ]
  },
  {
   "cell_type": "code",
   "execution_count": 11,
   "metadata": {
    "collapsed": false
   },
   "outputs": [
    {
     "data": {
      "text/plain": [
       "(55768, 7)"
      ]
     },
     "execution_count": 11,
     "metadata": {},
     "output_type": "execute_result"
    }
   ],
   "source": [
    "pairs.shape"
   ]
  },
  {
   "cell_type": "code",
   "execution_count": 12,
   "metadata": {
    "collapsed": false
   },
   "outputs": [
    {
     "data": {
      "text/html": [
       "<div>\n",
       "<style>\n",
       "    .dataframe thead tr:only-child th {\n",
       "        text-align: right;\n",
       "    }\n",
       "\n",
       "    .dataframe thead th {\n",
       "        text-align: left;\n",
       "    }\n",
       "\n",
       "    .dataframe tbody tr th {\n",
       "        vertical-align: top;\n",
       "    }\n",
       "</style>\n",
       "<table border=\"1\" class=\"dataframe\">\n",
       "  <thead>\n",
       "    <tr style=\"text-align: right;\">\n",
       "      <th></th>\n",
       "      <th>chemical_id</th>\n",
       "      <th>chemical_name</th>\n",
       "      <th>disease_id</th>\n",
       "      <th>disease_name</th>\n",
       "      <th>category</th>\n",
       "      <th>origin</th>\n",
       "      <th>status</th>\n",
       "    </tr>\n",
       "  </thead>\n",
       "  <tbody>\n",
       "    <tr>\n",
       "      <th>0</th>\n",
       "      <td>DB00014</td>\n",
       "      <td>NaN</td>\n",
       "      <td>DOID:0050742</td>\n",
       "      <td>NaN</td>\n",
       "      <td>NaN</td>\n",
       "      <td>train</td>\n",
       "      <td>0</td>\n",
       "    </tr>\n",
       "    <tr>\n",
       "      <th>1</th>\n",
       "      <td>DB00014</td>\n",
       "      <td>NaN</td>\n",
       "      <td>DOID:0060073</td>\n",
       "      <td>NaN</td>\n",
       "      <td>NaN</td>\n",
       "      <td>train</td>\n",
       "      <td>0</td>\n",
       "    </tr>\n",
       "  </tbody>\n",
       "</table>\n",
       "</div>"
      ],
      "text/plain": [
       "  chemical_id chemical_name    disease_id disease_name category origin  status\n",
       "0     DB00014           NaN  DOID:0050742          NaN      NaN  train       0\n",
       "1     DB00014           NaN  DOID:0060073          NaN      NaN  train       0"
      ]
     },
     "execution_count": 12,
     "metadata": {},
     "output_type": "execute_result"
    }
   ],
   "source": [
    "pairs.head(2)"
   ]
  },
  {
   "cell_type": "code",
   "execution_count": 13,
   "metadata": {
    "collapsed": true
   },
   "outputs": [],
   "source": [
    "dwpcs = dwpcs.merge(\n",
    "    pairs[[\"chemical_id\", \"disease_id\"]].drop_duplicates(),\n",
    "    how=\"right\", on=[\"chemical_id\", \"disease_id\"]\n",
    ")"
   ]
  },
  {
   "cell_type": "code",
   "execution_count": 14,
   "metadata": {
    "collapsed": false
   },
   "outputs": [
    {
     "data": {
      "text/plain": [
       "(55305, 8)"
      ]
     },
     "execution_count": 14,
     "metadata": {},
     "output_type": "execute_result"
    }
   ],
   "source": [
    "dwpcs.shape"
   ]
  },
  {
   "cell_type": "code",
   "execution_count": 15,
   "metadata": {
    "collapsed": false
   },
   "outputs": [
    {
     "data": {
      "text/html": [
       "<div>\n",
       "<style>\n",
       "    .dataframe thead tr:only-child th {\n",
       "        text-align: right;\n",
       "    }\n",
       "\n",
       "    .dataframe thead th {\n",
       "        text-align: left;\n",
       "    }\n",
       "\n",
       "    .dataframe tbody tr th {\n",
       "        vertical-align: top;\n",
       "    }\n",
       "</style>\n",
       "<table border=\"1\" class=\"dataframe\">\n",
       "  <thead>\n",
       "    <tr style=\"text-align: right;\">\n",
       "      <th></th>\n",
       "      <th>chemical_id</th>\n",
       "      <th>disease_id</th>\n",
       "      <th>dwpc_CbGaD</th>\n",
       "      <th>dwpc_CbGbCtD</th>\n",
       "      <th>dwpc_CtDtCtD</th>\n",
       "      <th>dwpc_CbGaDaGaD</th>\n",
       "      <th>dwpc_CbGaDtCtD</th>\n",
       "      <th>dwpc_CbGbCbGaD</th>\n",
       "    </tr>\n",
       "  </thead>\n",
       "  <tbody>\n",
       "    <tr>\n",
       "      <th>0</th>\n",
       "      <td>DB01577</td>\n",
       "      <td>DOID:7148</td>\n",
       "      <td>0.000000</td>\n",
       "      <td>0.000359</td>\n",
       "      <td>0.0</td>\n",
       "      <td>0.009033</td>\n",
       "      <td>0.001288</td>\n",
       "      <td>0.004466</td>\n",
       "    </tr>\n",
       "    <tr>\n",
       "      <th>1</th>\n",
       "      <td>DB01577</td>\n",
       "      <td>DOID:14330</td>\n",
       "      <td>0.030913</td>\n",
       "      <td>0.000000</td>\n",
       "      <td>0.0</td>\n",
       "      <td>0.016834</td>\n",
       "      <td>0.000000</td>\n",
       "      <td>0.041583</td>\n",
       "    </tr>\n",
       "    <tr>\n",
       "      <th>2</th>\n",
       "      <td>DB01577</td>\n",
       "      <td>DOID:8577</td>\n",
       "      <td>0.006942</td>\n",
       "      <td>0.000440</td>\n",
       "      <td>0.0</td>\n",
       "      <td>0.005156</td>\n",
       "      <td>0.001588</td>\n",
       "      <td>0.010714</td>\n",
       "    </tr>\n",
       "    <tr>\n",
       "      <th>3</th>\n",
       "      <td>DB01577</td>\n",
       "      <td>DOID:10763</td>\n",
       "      <td>0.019299</td>\n",
       "      <td>0.045888</td>\n",
       "      <td>0.0</td>\n",
       "      <td>0.018277</td>\n",
       "      <td>0.004652</td>\n",
       "      <td>0.047164</td>\n",
       "    </tr>\n",
       "    <tr>\n",
       "      <th>4</th>\n",
       "      <td>DB01577</td>\n",
       "      <td>DOID:1312</td>\n",
       "      <td>0.000000</td>\n",
       "      <td>0.000611</td>\n",
       "      <td>0.0</td>\n",
       "      <td>0.003409</td>\n",
       "      <td>0.000000</td>\n",
       "      <td>0.001127</td>\n",
       "    </tr>\n",
       "  </tbody>\n",
       "</table>\n",
       "</div>"
      ],
      "text/plain": [
       "  chemical_id  disease_id  dwpc_CbGaD  dwpc_CbGbCtD  dwpc_CtDtCtD  \\\n",
       "0     DB01577   DOID:7148    0.000000      0.000359           0.0   \n",
       "1     DB01577  DOID:14330    0.030913      0.000000           0.0   \n",
       "2     DB01577   DOID:8577    0.006942      0.000440           0.0   \n",
       "3     DB01577  DOID:10763    0.019299      0.045888           0.0   \n",
       "4     DB01577   DOID:1312    0.000000      0.000611           0.0   \n",
       "\n",
       "   dwpc_CbGaDaGaD  dwpc_CbGaDtCtD  dwpc_CbGbCbGaD  \n",
       "0        0.009033        0.001288        0.004466  \n",
       "1        0.016834        0.000000        0.041583  \n",
       "2        0.005156        0.001588        0.010714  \n",
       "3        0.018277        0.004652        0.047164  \n",
       "4        0.003409        0.000000        0.001127  "
      ]
     },
     "execution_count": 15,
     "metadata": {},
     "output_type": "execute_result"
    }
   ],
   "source": [
    "dwpcs.head()"
   ]
  },
  {
   "cell_type": "markdown",
   "metadata": {},
   "source": [
    "---"
   ]
  },
  {
   "cell_type": "code",
   "execution_count": 16,
   "metadata": {
    "collapsed": false
   },
   "outputs": [
    {
     "data": {
      "text/html": [
       "<div>\n",
       "<style>\n",
       "    .dataframe thead tr:only-child th {\n",
       "        text-align: right;\n",
       "    }\n",
       "\n",
       "    .dataframe thead th {\n",
       "        text-align: left;\n",
       "    }\n",
       "\n",
       "    .dataframe tbody tr th {\n",
       "        vertical-align: top;\n",
       "    }\n",
       "</style>\n",
       "<table border=\"1\" class=\"dataframe\">\n",
       "  <thead>\n",
       "    <tr style=\"text-align: right;\">\n",
       "      <th></th>\n",
       "      <th>chemical_id</th>\n",
       "      <th>disease_id</th>\n",
       "      <th>prior_prob</th>\n",
       "    </tr>\n",
       "  </thead>\n",
       "  <tbody>\n",
       "    <tr>\n",
       "      <th>186660</th>\n",
       "      <td>DB01624</td>\n",
       "      <td>DOID:12306</td>\n",
       "      <td>0.0</td>\n",
       "    </tr>\n",
       "    <tr>\n",
       "      <th>186661</th>\n",
       "      <td>DB01624</td>\n",
       "      <td>DOID:1245</td>\n",
       "      <td>0.0</td>\n",
       "    </tr>\n",
       "  </tbody>\n",
       "</table>\n",
       "</div>"
      ],
      "text/plain": [
       "       chemical_id  disease_id  prior_prob\n",
       "186660     DB01624  DOID:12306         0.0\n",
       "186661     DB01624   DOID:1245         0.0"
      ]
     },
     "execution_count": 16,
     "metadata": {},
     "output_type": "execute_result"
    }
   ],
   "source": [
    "prior_df = pd.read_table('../all-features/data/matrix/prior.tsv')\n",
    "prior_df.tail(2)"
   ]
  },
  {
   "cell_type": "code",
   "execution_count": 17,
   "metadata": {
    "collapsed": false
   },
   "outputs": [
    {
     "data": {
      "text/html": [
       "<div>\n",
       "<style>\n",
       "    .dataframe thead tr:only-child th {\n",
       "        text-align: right;\n",
       "    }\n",
       "\n",
       "    .dataframe thead th {\n",
       "        text-align: left;\n",
       "    }\n",
       "\n",
       "    .dataframe tbody tr th {\n",
       "        vertical-align: top;\n",
       "    }\n",
       "</style>\n",
       "<table border=\"1\" class=\"dataframe\">\n",
       "  <thead>\n",
       "    <tr style=\"text-align: right;\">\n",
       "      <th></th>\n",
       "      <th>disease_id</th>\n",
       "      <th>degree_DaG</th>\n",
       "      <th>degree_DtC</th>\n",
       "    </tr>\n",
       "  </thead>\n",
       "  <tbody>\n",
       "    <tr>\n",
       "      <th>0</th>\n",
       "      <td>DOID:0050156</td>\n",
       "      <td>18</td>\n",
       "      <td>0</td>\n",
       "    </tr>\n",
       "    <tr>\n",
       "      <th>1</th>\n",
       "      <td>DOID:0050425</td>\n",
       "      <td>12</td>\n",
       "      <td>0</td>\n",
       "    </tr>\n",
       "  </tbody>\n",
       "</table>\n",
       "</div>"
      ],
      "text/plain": [
       "     disease_id  degree_DaG  degree_DtC\n",
       "0  DOID:0050156          18           0\n",
       "1  DOID:0050425          12           0"
      ]
     },
     "execution_count": 17,
     "metadata": {},
     "output_type": "execute_result"
    }
   ],
   "source": [
    "compound_degree_df = pd.read_table('../all-features/data/matrix/compound_degree.tsv')\n",
    "disease_degree_df = pd.read_table('../all-features/data/matrix/disease_degree.tsv')\n",
    "\n",
    "for df in compound_degree_df, disease_degree_df:\n",
    "    df.rename(columns={k: 'degree_' + k for k in df.columns[1:]}, inplace=True)\n",
    "\n",
    "disease_degree_df.head(2)"
   ]
  },
  {
   "cell_type": "markdown",
   "metadata": {},
   "source": [
    "---"
   ]
  },
  {
   "cell_type": "code",
   "execution_count": 18,
   "metadata": {
    "collapsed": false
   },
   "outputs": [],
   "source": [
    "feature_mat_df = (pairs\n",
    "    .merge(prior_df)\n",
    "    .merge(compound_degree_df)\n",
    "    .merge(disease_degree_df)\n",
    "    .merge(dwpcs)\n",
    ")"
   ]
  },
  {
   "cell_type": "code",
   "execution_count": 19,
   "metadata": {
    "collapsed": false
   },
   "outputs": [
    {
     "data": {
      "text/plain": [
       "(55598, 18)"
      ]
     },
     "execution_count": 19,
     "metadata": {},
     "output_type": "execute_result"
    }
   ],
   "source": [
    "feature_mat_df.shape"
   ]
  },
  {
   "cell_type": "code",
   "execution_count": 20,
   "metadata": {
    "collapsed": false
   },
   "outputs": [
    {
     "data": {
      "text/plain": [
       "train      38889\n",
       "holdout    16709\n",
       "Name: origin, dtype: int64"
      ]
     },
     "execution_count": 20,
     "metadata": {},
     "output_type": "execute_result"
    }
   ],
   "source": [
    "feature_mat_df[\"origin\"].value_counts()"
   ]
  },
  {
   "cell_type": "code",
   "execution_count": 21,
   "metadata": {
    "collapsed": true
   },
   "outputs": [],
   "source": [
    "with bz2.open('features/features.tsv.bz2', 'wt') as write_file:\n",
    "    feature_mat_df.to_csv(write_file, sep='\\t', index=False, float_format='%.4g')"
   ]
  },
  {
   "cell_type": "markdown",
   "metadata": {},
   "source": [
    "---"
   ]
  },
  {
   "cell_type": "code",
   "execution_count": 22,
   "metadata": {
    "collapsed": false
   },
   "outputs": [
    {
     "data": {
      "text/html": [
       "<div>\n",
       "<style>\n",
       "    .dataframe thead tr:only-child th {\n",
       "        text-align: right;\n",
       "    }\n",
       "\n",
       "    .dataframe thead th {\n",
       "        text-align: left;\n",
       "    }\n",
       "\n",
       "    .dataframe tbody tr th {\n",
       "        vertical-align: top;\n",
       "    }\n",
       "</style>\n",
       "<table border=\"1\" class=\"dataframe\">\n",
       "  <thead>\n",
       "    <tr style=\"text-align: right;\">\n",
       "      <th></th>\n",
       "      <th>chemical_id</th>\n",
       "      <th>chemical_name</th>\n",
       "      <th>disease_id</th>\n",
       "      <th>disease_name</th>\n",
       "      <th>category</th>\n",
       "      <th>origin</th>\n",
       "      <th>status</th>\n",
       "      <th>prior_logit</th>\n",
       "      <th>prior_prob</th>\n",
       "      <th>degree_CbG</th>\n",
       "      <th>degree_CtD</th>\n",
       "      <th>degree_DaG</th>\n",
       "      <th>degree_DtC</th>\n",
       "      <th>dwpc_CbGaD</th>\n",
       "      <th>dwpc_CbGbCtD</th>\n",
       "      <th>dwpc_CtDtCtD</th>\n",
       "      <th>dwpc_CbGaDaGaD</th>\n",
       "      <th>dwpc_CbGaDtCtD</th>\n",
       "      <th>dwpc_CbGbCbGaD</th>\n",
       "    </tr>\n",
       "  </thead>\n",
       "  <tbody>\n",
       "    <tr>\n",
       "      <th>0</th>\n",
       "      <td>DB00014</td>\n",
       "      <td>NaN</td>\n",
       "      <td>DOID:0050742</td>\n",
       "      <td>NaN</td>\n",
       "      <td>NaN</td>\n",
       "      <td>train</td>\n",
       "      <td>0</td>\n",
       "      <td>-6.489370</td>\n",
       "      <td>0.001517</td>\n",
       "      <td>-1.420283</td>\n",
       "      <td>0.303021</td>\n",
       "      <td>-1.356887</td>\n",
       "      <td>-0.730715</td>\n",
       "      <td>-0.51409</td>\n",
       "      <td>-0.702052</td>\n",
       "      <td>-0.29475</td>\n",
       "      <td>-1.329850</td>\n",
       "      <td>-0.731192</td>\n",
       "      <td>-1.008686</td>\n",
       "    </tr>\n",
       "    <tr>\n",
       "      <th>1</th>\n",
       "      <td>DB00091</td>\n",
       "      <td>NaN</td>\n",
       "      <td>DOID:0050742</td>\n",
       "      <td>NaN</td>\n",
       "      <td>NaN</td>\n",
       "      <td>train</td>\n",
       "      <td>0</td>\n",
       "      <td>-5.315024</td>\n",
       "      <td>0.004893</td>\n",
       "      <td>1.527618</td>\n",
       "      <td>1.597490</td>\n",
       "      <td>-1.356887</td>\n",
       "      <td>-0.730715</td>\n",
       "      <td>-0.51409</td>\n",
       "      <td>-0.702052</td>\n",
       "      <td>-0.29475</td>\n",
       "      <td>-0.628026</td>\n",
       "      <td>-0.731192</td>\n",
       "      <td>0.455704</td>\n",
       "    </tr>\n",
       "    <tr>\n",
       "      <th>2</th>\n",
       "      <td>DB00104</td>\n",
       "      <td>NaN</td>\n",
       "      <td>DOID:0050742</td>\n",
       "      <td>NaN</td>\n",
       "      <td>NaN</td>\n",
       "      <td>train</td>\n",
       "      <td>0</td>\n",
       "      <td>-6.489370</td>\n",
       "      <td>0.001517</td>\n",
       "      <td>-0.254745</td>\n",
       "      <td>0.303021</td>\n",
       "      <td>-1.356887</td>\n",
       "      <td>-0.730715</td>\n",
       "      <td>-0.51409</td>\n",
       "      <td>-0.702052</td>\n",
       "      <td>-0.29475</td>\n",
       "      <td>-0.331944</td>\n",
       "      <td>-0.731192</td>\n",
       "      <td>-1.008686</td>\n",
       "    </tr>\n",
       "  </tbody>\n",
       "</table>\n",
       "</div>"
      ],
      "text/plain": [
       "  chemical_id chemical_name    disease_id disease_name category origin  \\\n",
       "0     DB00014           NaN  DOID:0050742          NaN      NaN  train   \n",
       "1     DB00091           NaN  DOID:0050742          NaN      NaN  train   \n",
       "2     DB00104           NaN  DOID:0050742          NaN      NaN  train   \n",
       "\n",
       "   status  prior_logit  prior_prob  degree_CbG  degree_CtD  degree_DaG  \\\n",
       "0       0    -6.489370    0.001517   -1.420283    0.303021   -1.356887   \n",
       "1       0    -5.315024    0.004893    1.527618    1.597490   -1.356887   \n",
       "2       0    -6.489370    0.001517   -0.254745    0.303021   -1.356887   \n",
       "\n",
       "   degree_DtC  dwpc_CbGaD  dwpc_CbGbCtD  dwpc_CtDtCtD  dwpc_CbGaDaGaD  \\\n",
       "0   -0.730715    -0.51409     -0.702052      -0.29475       -1.329850   \n",
       "1   -0.730715    -0.51409     -0.702052      -0.29475       -0.628026   \n",
       "2   -0.730715    -0.51409     -0.702052      -0.29475       -0.331944   \n",
       "\n",
       "   dwpc_CbGaDtCtD  dwpc_CbGbCbGaD  \n",
       "0       -0.731192       -1.008686  \n",
       "1       -0.731192        0.455704  \n",
       "2       -0.731192       -1.008686  "
      ]
     },
     "execution_count": 22,
     "metadata": {},
     "output_type": "execute_result"
    }
   ],
   "source": [
    "trans_df = feature_mat_df.copy()\n",
    "degree_features = list(trans_df.columns[trans_df.columns.str.startswith('degree_')])\n",
    "dwpc_features = list(trans_df.columns[trans_df.columns.str.startswith('dwpc_')])\n",
    "\n",
    "# Transform prior\n",
    "trans_df.insert(7, 'prior_logit', logit(trans_df.prior_prob))\n",
    "\n",
    "# Transform degree features\n",
    "for feature in degree_features:\n",
    "    trans_df[feature] = numpy.arcsinh(trans_df[feature])\n",
    "\n",
    "# Transform DWPC features\n",
    "for feature in dwpc_features:\n",
    "    x = trans_df[feature]\n",
    "    trans_df[feature] = numpy.arcsinh(x / x.mean())\n",
    "\n",
    "# Standardize all features besides the prior\n",
    "for feature in degree_features + dwpc_features:\n",
    "    x = trans_df[feature]\n",
    "    trans_df[feature] = (x - x.mean()) / x.std()\n",
    "\n",
    "trans_df.head(3)"
   ]
  },
  {
   "cell_type": "code",
   "execution_count": 23,
   "metadata": {
    "collapsed": true
   },
   "outputs": [],
   "source": [
    "with bz2.open('features/transformed-features.tsv.bz2', 'wt') as write_file:\n",
    "    trans_df.to_csv(write_file, sep='\\t', index=False, float_format='%.4g')"
   ]
  }
 ],
 "metadata": {
  "kernelspec": {
   "display_name": "Python 3",
   "language": "python",
   "name": "python3"
  },
  "language_info": {
   "codemirror_mode": {
    "name": "ipython",
    "version": 3
   },
   "file_extension": ".py",
   "mimetype": "text/x-python",
   "name": "python",
   "nbconvert_exporter": "python",
   "pygments_lexer": "ipython3",
   "version": "3.5.2"
  }
 },
 "nbformat": 4,
 "nbformat_minor": 2
}
