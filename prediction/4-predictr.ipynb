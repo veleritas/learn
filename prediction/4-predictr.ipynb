{
 "cells": [
  {
   "cell_type": "markdown",
   "metadata": {},
   "source": [
    "# Fit the final model and make predictions"
   ]
  },
  {
   "cell_type": "code",
   "execution_count": 1,
   "metadata": {
    "collapsed": true
   },
   "outputs": [],
   "source": [
    "library(magrittr)\n",
    "library(boot)"
   ]
  },
  {
   "cell_type": "markdown",
   "metadata": {},
   "source": [
    "## Prepare datasets"
   ]
  },
  {
   "cell_type": "markdown",
   "metadata": {},
   "source": [
    "## Take all features which aren't part of an arbitrary blacklist?"
   ]
  },
  {
   "cell_type": "code",
   "execution_count": 2,
   "metadata": {
    "collapsed": false
   },
   "outputs": [
    {
     "name": "stderr",
     "output_type": "stream",
     "text": [
      "Parsed with column specification:\n",
      "cols(\n",
      "  feature = col_character()\n",
      ")\n"
     ]
    }
   ],
   "source": [
    "blacklist = readr::read_tsv('features/blacklist.tsv')$feature"
   ]
  },
  {
   "cell_type": "code",
   "execution_count": 3,
   "metadata": {
    "collapsed": false
   },
   "outputs": [
    {
     "name": "stderr",
     "output_type": "stream",
     "text": [
      "Warning message in dplyr::one_of(blacklist):\n",
      "“Unknown variables: `dwpc_CtDtCrCtD`, `dwpc_CtDrDtCtD`, `dwpc_CcSEcCrCtD`, `dwpc_CrCtDlAlD`, `dwpc_CrCtDaGaD`, `dwpc_CrCdGdCtD`, `dwpc_CrCtDpSpD`, `dwpc_CrCuGuCtD`, `dwpc_CrCtDuGaD`, `dwpc_CrCtDdGaD`, `dwpc_CrCcSEcCtD`, `dwpc_CrCrCtDrD`, `dwpc_CdGdCrCtD`, `dwpc_CpDpCrCtD`, `dwpc_CrCtDrDrD`, `dwpc_CuGuCrCtD`, `dwpc_CrCtDdGdD`, `dwpc_CrCtDrD`”"
     ]
    }
   ],
   "source": [
    "feature_df = readr::read_tsv('features/transformed-features.tsv.bz2',\n",
    "    col_types = readr::cols(\n",
    "        prior_logit = 'd',\n",
    "        prior_prob = 'd',\n",
    "        .default = readr::col_guess()\n",
    "    )) %>%\n",
    "  dplyr::select(-dplyr::one_of(blacklist))"
   ]
  },
  {
   "cell_type": "code",
   "execution_count": null,
   "metadata": {
    "collapsed": true
   },
   "outputs": [],
   "source": [
    "feature_df <- Filter(function(x)!all(is.na(x)), feature_df)"
   ]
  },
  {
   "cell_type": "code",
   "execution_count": 3,
   "metadata": {
    "collapsed": false
   },
   "outputs": [
    {
     "data": {
      "text/html": [
       "<ol class=list-inline>\n",
       "\t<li>55598</li>\n",
       "\t<li>16</li>\n",
       "</ol>\n"
      ],
      "text/latex": [
       "\\begin{enumerate*}\n",
       "\\item 55598\n",
       "\\item 16\n",
       "\\end{enumerate*}\n"
      ],
      "text/markdown": [
       "1. 55598\n",
       "2. 16\n",
       "\n",
       "\n"
      ],
      "text/plain": [
       "[1] 55598    16"
      ]
     },
     "metadata": {},
     "output_type": "display_data"
    }
   ],
   "source": [
    "dim(feature_df)"
   ]
  },
  {
   "cell_type": "code",
   "execution_count": 4,
   "metadata": {
    "collapsed": false
   },
   "outputs": [
    {
     "data": {
      "text/html": [
       "<table>\n",
       "<thead><tr><th scope=col>compound_id</th><th scope=col>compound_name</th><th scope=col>disease_id</th><th scope=col>disease_name</th><th scope=col>category</th><th scope=col>origin</th><th scope=col>status</th><th scope=col>prior_logit</th><th scope=col>prior_prob</th><th scope=col>degree_CbG</th><th scope=col>degree_DaG</th><th scope=col>dwpc_CbGaD</th><th scope=col>dwpc_CbGaDaGaD</th><th scope=col>dwpc_CbGbCbGaD</th><th scope=col>dwpc_CbGbCtD</th><th scope=col>dwpc_CtDtCtD</th></tr></thead>\n",
       "<tbody>\n",
       "\t<tr><td>DB00014     </td><td>NA          </td><td>DOID:0050742</td><td>NA          </td><td>NA          </td><td>train       </td><td>0           </td><td>-6.489      </td><td>0.001517    </td><td>-1.420      </td><td>-1.357      </td><td>-0.5141     </td><td>-1.3330     </td><td>-1.0140     </td><td>-0.7021     </td><td>-0.2954     </td></tr>\n",
       "\t<tr><td>DB00091     </td><td>NA          </td><td>DOID:0050742</td><td>NA          </td><td>NA          </td><td>train       </td><td>0           </td><td>-5.315      </td><td>0.004893    </td><td> 1.528      </td><td>-1.357      </td><td>-0.5141     </td><td>-0.6278     </td><td> 0.4744     </td><td>-0.7021     </td><td>-0.2954     </td></tr>\n",
       "</tbody>\n",
       "</table>\n"
      ],
      "text/latex": [
       "\\begin{tabular}{r|llllllllllllllll}\n",
       " compound\\_id & compound\\_name & disease\\_id & disease\\_name & category & origin & status & prior\\_logit & prior\\_prob & degree\\_CbG & degree\\_DaG & dwpc\\_CbGaD & dwpc\\_CbGaDaGaD & dwpc\\_CbGbCbGaD & dwpc\\_CbGbCtD & dwpc\\_CtDtCtD\\\\\n",
       "\\hline\n",
       "\t DB00014      & NA           & DOID:0050742 & NA           & NA           & train        & 0            & -6.489       & 0.001517     & -1.420       & -1.357       & -0.5141      & -1.3330      & -1.0140      & -0.7021      & -0.2954     \\\\\n",
       "\t DB00091      & NA           & DOID:0050742 & NA           & NA           & train        & 0            & -5.315       & 0.004893     &  1.528       & -1.357       & -0.5141      & -0.6278      &  0.4744      & -0.7021      & -0.2954     \\\\\n",
       "\\end{tabular}\n"
      ],
      "text/plain": [
       "  compound_id compound_name disease_id   disease_name category origin status\n",
       "1 DB00014     NA            DOID:0050742 NA           NA       train  0     \n",
       "2 DB00091     NA            DOID:0050742 NA           NA       train  0     \n",
       "  prior_logit prior_prob degree_CbG degree_DaG dwpc_CbGaD dwpc_CbGaDaGaD\n",
       "1 -6.489      0.001517   -1.420     -1.357     -0.5141    -1.3330       \n",
       "2 -5.315      0.004893    1.528     -1.357     -0.5141    -0.6278       \n",
       "  dwpc_CbGbCbGaD dwpc_CbGbCtD dwpc_CtDtCtD\n",
       "1 -1.0140        -0.7021      -0.2954     \n",
       "2  0.4744        -0.7021      -0.2954     "
      ]
     },
     "metadata": {},
     "output_type": "display_data"
    }
   ],
   "source": [
    "head(feature_df, 2)"
   ]
  },
  {
   "cell_type": "markdown",
   "metadata": {},
   "source": [
    "## Split training and holdout sets"
   ]
  },
  {
   "cell_type": "code",
   "execution_count": 5,
   "metadata": {
    "collapsed": true
   },
   "outputs": [],
   "source": [
    "train_df = subset(feature_df, origin == 'train')"
   ]
  },
  {
   "cell_type": "code",
   "execution_count": 6,
   "metadata": {
    "collapsed": false
   },
   "outputs": [
    {
     "data": {
      "text/html": [
       "<ol class=list-inline>\n",
       "\t<li>38889</li>\n",
       "\t<li>16</li>\n",
       "</ol>\n"
      ],
      "text/latex": [
       "\\begin{enumerate*}\n",
       "\\item 38889\n",
       "\\item 16\n",
       "\\end{enumerate*}\n"
      ],
      "text/markdown": [
       "1. 38889\n",
       "2. 16\n",
       "\n",
       "\n"
      ],
      "text/plain": [
       "[1] 38889    16"
      ]
     },
     "metadata": {},
     "output_type": "display_data"
    }
   ],
   "source": [
    "dim(train_df)"
   ]
  },
  {
   "cell_type": "code",
   "execution_count": 7,
   "metadata": {
    "collapsed": false
   },
   "outputs": [
    {
     "data": {
      "text/html": [
       "<table>\n",
       "<thead><tr><th scope=col>compound_id</th><th scope=col>compound_name</th><th scope=col>disease_id</th><th scope=col>disease_name</th><th scope=col>category</th><th scope=col>origin</th><th scope=col>status</th><th scope=col>prior_logit</th><th scope=col>prior_prob</th><th scope=col>degree_CbG</th><th scope=col>degree_DaG</th><th scope=col>dwpc_CbGaD</th><th scope=col>dwpc_CbGaDaGaD</th><th scope=col>dwpc_CbGbCbGaD</th><th scope=col>dwpc_CbGbCtD</th><th scope=col>dwpc_CtDtCtD</th></tr></thead>\n",
       "<tbody>\n",
       "\t<tr><td>DB00014     </td><td>NA          </td><td>DOID:0050742</td><td>NA          </td><td>NA          </td><td>train       </td><td>0           </td><td>-6.489      </td><td>0.001517    </td><td>-1.4200     </td><td>-1.357      </td><td>-0.5141     </td><td>-1.3330     </td><td>-1.0140     </td><td>-0.7021     </td><td>-0.2954     </td></tr>\n",
       "\t<tr><td>DB00091     </td><td>NA          </td><td>DOID:0050742</td><td>NA          </td><td>NA          </td><td>train       </td><td>0           </td><td>-5.315      </td><td>0.004893    </td><td> 1.5280     </td><td>-1.357      </td><td>-0.5141     </td><td>-0.6278     </td><td> 0.4744     </td><td>-0.7021     </td><td>-0.2954     </td></tr>\n",
       "\t<tr><td>DB00104     </td><td>NA          </td><td>DOID:0050742</td><td>NA          </td><td>NA          </td><td>train       </td><td>0           </td><td>-6.489      </td><td>0.001517    </td><td>-0.2547     </td><td>-1.357      </td><td>-0.5141     </td><td>-0.3303     </td><td>-1.0140     </td><td>-0.7021     </td><td>-0.2954     </td></tr>\n",
       "\t<tr><td>DB00122     </td><td>NA          </td><td>DOID:0050742</td><td>NA          </td><td>NA          </td><td>train       </td><td>0           </td><td>  -Inf      </td><td>0.000000    </td><td> 1.5640     </td><td>-1.357      </td><td>-0.5141     </td><td>-0.7777     </td><td> 1.5050     </td><td>-0.7021     </td><td>-0.2954     </td></tr>\n",
       "\t<tr><td>DB00126     </td><td>NA          </td><td>DOID:0050742</td><td>NA          </td><td>NA          </td><td>train       </td><td>0           </td><td>-6.489      </td><td>0.001517    </td><td> 1.2320     </td><td>-1.357      </td><td>-0.5141     </td><td>-1.2460     </td><td>-0.9812     </td><td>-0.7021     </td><td>-0.2954     </td></tr>\n",
       "\t<tr><td>DB00136     </td><td>NA          </td><td>DOID:0050742</td><td>NA          </td><td>NA          </td><td>train       </td><td>0           </td><td>-5.758      </td><td>0.003148    </td><td>-0.6963     </td><td>-1.357      </td><td>-0.5141     </td><td>-0.7934     </td><td>-0.5424     </td><td>-0.7021     </td><td>-0.2954     </td></tr>\n",
       "</tbody>\n",
       "</table>\n"
      ],
      "text/latex": [
       "\\begin{tabular}{r|llllllllllllllll}\n",
       " compound\\_id & compound\\_name & disease\\_id & disease\\_name & category & origin & status & prior\\_logit & prior\\_prob & degree\\_CbG & degree\\_DaG & dwpc\\_CbGaD & dwpc\\_CbGaDaGaD & dwpc\\_CbGbCbGaD & dwpc\\_CbGbCtD & dwpc\\_CtDtCtD\\\\\n",
       "\\hline\n",
       "\t DB00014      & NA           & DOID:0050742 & NA           & NA           & train        & 0            & -6.489       & 0.001517     & -1.4200      & -1.357       & -0.5141      & -1.3330      & -1.0140      & -0.7021      & -0.2954     \\\\\n",
       "\t DB00091      & NA           & DOID:0050742 & NA           & NA           & train        & 0            & -5.315       & 0.004893     &  1.5280      & -1.357       & -0.5141      & -0.6278      &  0.4744      & -0.7021      & -0.2954     \\\\\n",
       "\t DB00104      & NA           & DOID:0050742 & NA           & NA           & train        & 0            & -6.489       & 0.001517     & -0.2547      & -1.357       & -0.5141      & -0.3303      & -1.0140      & -0.7021      & -0.2954     \\\\\n",
       "\t DB00122      & NA           & DOID:0050742 & NA           & NA           & train        & 0            &   -Inf       & 0.000000     &  1.5640      & -1.357       & -0.5141      & -0.7777      &  1.5050      & -0.7021      & -0.2954     \\\\\n",
       "\t DB00126      & NA           & DOID:0050742 & NA           & NA           & train        & 0            & -6.489       & 0.001517     &  1.2320      & -1.357       & -0.5141      & -1.2460      & -0.9812      & -0.7021      & -0.2954     \\\\\n",
       "\t DB00136      & NA           & DOID:0050742 & NA           & NA           & train        & 0            & -5.758       & 0.003148     & -0.6963      & -1.357       & -0.5141      & -0.7934      & -0.5424      & -0.7021      & -0.2954     \\\\\n",
       "\\end{tabular}\n"
      ],
      "text/plain": [
       "  compound_id compound_name disease_id   disease_name category origin status\n",
       "1 DB00014     NA            DOID:0050742 NA           NA       train  0     \n",
       "2 DB00091     NA            DOID:0050742 NA           NA       train  0     \n",
       "3 DB00104     NA            DOID:0050742 NA           NA       train  0     \n",
       "4 DB00122     NA            DOID:0050742 NA           NA       train  0     \n",
       "5 DB00126     NA            DOID:0050742 NA           NA       train  0     \n",
       "6 DB00136     NA            DOID:0050742 NA           NA       train  0     \n",
       "  prior_logit prior_prob degree_CbG degree_DaG dwpc_CbGaD dwpc_CbGaDaGaD\n",
       "1 -6.489      0.001517   -1.4200    -1.357     -0.5141    -1.3330       \n",
       "2 -5.315      0.004893    1.5280    -1.357     -0.5141    -0.6278       \n",
       "3 -6.489      0.001517   -0.2547    -1.357     -0.5141    -0.3303       \n",
       "4   -Inf      0.000000    1.5640    -1.357     -0.5141    -0.7777       \n",
       "5 -6.489      0.001517    1.2320    -1.357     -0.5141    -1.2460       \n",
       "6 -5.758      0.003148   -0.6963    -1.357     -0.5141    -0.7934       \n",
       "  dwpc_CbGbCbGaD dwpc_CbGbCtD dwpc_CtDtCtD\n",
       "1 -1.0140        -0.7021      -0.2954     \n",
       "2  0.4744        -0.7021      -0.2954     \n",
       "3 -1.0140        -0.7021      -0.2954     \n",
       "4  1.5050        -0.7021      -0.2954     \n",
       "5 -0.9812        -0.7021      -0.2954     \n",
       "6 -0.5424        -0.7021      -0.2954     "
      ]
     },
     "metadata": {},
     "output_type": "display_data"
    }
   ],
   "source": [
    "head(train_df)"
   ]
  },
  {
   "cell_type": "code",
   "execution_count": 8,
   "metadata": {
    "collapsed": true
   },
   "outputs": [],
   "source": [
    "test_rels = subset(feature_df, origin == 'holdout')"
   ]
  },
  {
   "cell_type": "code",
   "execution_count": 9,
   "metadata": {
    "collapsed": false
   },
   "outputs": [
    {
     "data": {
      "text/html": [
       "<ol class=list-inline>\n",
       "\t<li>16709</li>\n",
       "\t<li>16</li>\n",
       "</ol>\n"
      ],
      "text/latex": [
       "\\begin{enumerate*}\n",
       "\\item 16709\n",
       "\\item 16\n",
       "\\end{enumerate*}\n"
      ],
      "text/markdown": [
       "1. 16709\n",
       "2. 16\n",
       "\n",
       "\n"
      ],
      "text/plain": [
       "[1] 16709    16"
      ]
     },
     "metadata": {},
     "output_type": "display_data"
    }
   ],
   "source": [
    "dim(test_rels)"
   ]
  },
  {
   "cell_type": "code",
   "execution_count": 10,
   "metadata": {
    "collapsed": false
   },
   "outputs": [
    {
     "data": {
      "text/html": [
       "<table>\n",
       "<thead><tr><th scope=col>compound_id</th><th scope=col>compound_name</th><th scope=col>disease_id</th><th scope=col>disease_name</th><th scope=col>category</th><th scope=col>origin</th><th scope=col>status</th><th scope=col>prior_logit</th><th scope=col>prior_prob</th><th scope=col>degree_CbG</th><th scope=col>degree_DaG</th><th scope=col>dwpc_CbGaD</th><th scope=col>dwpc_CbGaDaGaD</th><th scope=col>dwpc_CbGbCbGaD</th><th scope=col>dwpc_CbGbCtD</th><th scope=col>dwpc_CtDtCtD</th></tr></thead>\n",
       "<tbody>\n",
       "\t<tr><td>DB00014   </td><td>NA        </td><td>DOID:10283</td><td>NA        </td><td>NA        </td><td>holdout   </td><td>0         </td><td>-3.666    </td><td>0.02494   </td><td>-1.4200   </td><td>1.91      </td><td>-0.5141   </td><td>0.5407    </td><td>-0.7589   </td><td>-0.7021   </td><td>-0.2954   </td></tr>\n",
       "\t<tr><td>DB00091   </td><td>NA        </td><td>DOID:10283</td><td>NA        </td><td>NA        </td><td>holdout   </td><td>0         </td><td>-2.491    </td><td>0.07648   </td><td> 1.5280   </td><td>1.91      </td><td> 2.2390   </td><td>1.5820    </td><td> 2.5810   </td><td> 2.5800   </td><td> 0.9558   </td></tr>\n",
       "\t<tr><td>DB00136   </td><td>NA        </td><td>DOID:10283</td><td>NA        </td><td>NA        </td><td>holdout   </td><td>0         </td><td>-2.934    </td><td>0.05051   </td><td>-0.6963   </td><td>1.91      </td><td> 1.7040   </td><td>1.1920    </td><td> 0.8969   </td><td> 0.3356   </td><td> 3.7720   </td></tr>\n",
       "\t<tr><td>DB00158   </td><td>NA        </td><td>DOID:10283</td><td>NA        </td><td>NA        </td><td>holdout   </td><td>0         </td><td>  -Inf    </td><td>0.00000   </td><td> 0.5103   </td><td>1.91      </td><td> 1.1520   </td><td>1.3610    </td><td> 1.6470   </td><td> 0.5575   </td><td>-0.2954   </td></tr>\n",
       "\t<tr><td>DB00177   </td><td>NA        </td><td>DOID:10283</td><td>NA        </td><td>NA        </td><td>holdout   </td><td>0         </td><td>-2.934    </td><td>0.05051   </td><td>-0.4542   </td><td>1.91      </td><td>-0.5141   </td><td>1.1140    </td><td> 1.1050   </td><td> 1.4500   </td><td>-0.2954   </td></tr>\n",
       "\t<tr><td>DB00184   </td><td>NA        </td><td>DOID:10283</td><td>NA        </td><td>NA        </td><td>holdout   </td><td>0         </td><td>  -Inf    </td><td>0.00000   </td><td> 1.5990   </td><td>1.91      </td><td> 2.2620   </td><td>2.2190    </td><td> 2.5600   </td><td> 1.5570   </td><td>-0.2954   </td></tr>\n",
       "</tbody>\n",
       "</table>\n"
      ],
      "text/latex": [
       "\\begin{tabular}{r|llllllllllllllll}\n",
       " compound\\_id & compound\\_name & disease\\_id & disease\\_name & category & origin & status & prior\\_logit & prior\\_prob & degree\\_CbG & degree\\_DaG & dwpc\\_CbGaD & dwpc\\_CbGaDaGaD & dwpc\\_CbGbCbGaD & dwpc\\_CbGbCtD & dwpc\\_CtDtCtD\\\\\n",
       "\\hline\n",
       "\t DB00014    & NA         & DOID:10283 & NA         & NA         & holdout    & 0          & -3.666     & 0.02494    & -1.4200    & 1.91       & -0.5141    & 0.5407     & -0.7589    & -0.7021    & -0.2954   \\\\\n",
       "\t DB00091    & NA         & DOID:10283 & NA         & NA         & holdout    & 0          & -2.491     & 0.07648    &  1.5280    & 1.91       &  2.2390    & 1.5820     &  2.5810    &  2.5800    &  0.9558   \\\\\n",
       "\t DB00136    & NA         & DOID:10283 & NA         & NA         & holdout    & 0          & -2.934     & 0.05051    & -0.6963    & 1.91       &  1.7040    & 1.1920     &  0.8969    &  0.3356    &  3.7720   \\\\\n",
       "\t DB00158    & NA         & DOID:10283 & NA         & NA         & holdout    & 0          &   -Inf     & 0.00000    &  0.5103    & 1.91       &  1.1520    & 1.3610     &  1.6470    &  0.5575    & -0.2954   \\\\\n",
       "\t DB00177    & NA         & DOID:10283 & NA         & NA         & holdout    & 0          & -2.934     & 0.05051    & -0.4542    & 1.91       & -0.5141    & 1.1140     &  1.1050    &  1.4500    & -0.2954   \\\\\n",
       "\t DB00184    & NA         & DOID:10283 & NA         & NA         & holdout    & 0          &   -Inf     & 0.00000    &  1.5990    & 1.91       &  2.2620    & 2.2190     &  2.5600    &  1.5570    & -0.2954   \\\\\n",
       "\\end{tabular}\n"
      ],
      "text/plain": [
       "  compound_id compound_name disease_id disease_name category origin  status\n",
       "1 DB00014     NA            DOID:10283 NA           NA       holdout 0     \n",
       "2 DB00091     NA            DOID:10283 NA           NA       holdout 0     \n",
       "3 DB00136     NA            DOID:10283 NA           NA       holdout 0     \n",
       "4 DB00158     NA            DOID:10283 NA           NA       holdout 0     \n",
       "5 DB00177     NA            DOID:10283 NA           NA       holdout 0     \n",
       "6 DB00184     NA            DOID:10283 NA           NA       holdout 0     \n",
       "  prior_logit prior_prob degree_CbG degree_DaG dwpc_CbGaD dwpc_CbGaDaGaD\n",
       "1 -3.666      0.02494    -1.4200    1.91       -0.5141    0.5407        \n",
       "2 -2.491      0.07648     1.5280    1.91        2.2390    1.5820        \n",
       "3 -2.934      0.05051    -0.6963    1.91        1.7040    1.1920        \n",
       "4   -Inf      0.00000     0.5103    1.91        1.1520    1.3610        \n",
       "5 -2.934      0.05051    -0.4542    1.91       -0.5141    1.1140        \n",
       "6   -Inf      0.00000     1.5990    1.91        2.2620    2.2190        \n",
       "  dwpc_CbGbCbGaD dwpc_CbGbCtD dwpc_CtDtCtD\n",
       "1 -0.7589        -0.7021      -0.2954     \n",
       "2  2.5810         2.5800       0.9558     \n",
       "3  0.8969         0.3356       3.7720     \n",
       "4  1.6470         0.5575      -0.2954     \n",
       "5  1.1050         1.4500      -0.2954     \n",
       "6  2.5600         1.5570      -0.2954     "
      ]
     },
     "metadata": {},
     "output_type": "display_data"
    }
   ],
   "source": [
    "head(test_rels)"
   ]
  },
  {
   "cell_type": "markdown",
   "metadata": {
    "collapsed": true
   },
   "source": [
    "## Train regression model"
   ]
  },
  {
   "cell_type": "code",
   "execution_count": 11,
   "metadata": {
    "collapsed": true
   },
   "outputs": [],
   "source": [
    "train_df = train_df %>%\n",
    "    dplyr::filter(prior_prob > 0)"
   ]
  },
  {
   "cell_type": "code",
   "execution_count": 12,
   "metadata": {
    "collapsed": false
   },
   "outputs": [
    {
     "data": {
      "text/html": [
       "<ol class=list-inline>\n",
       "\t<li>18403</li>\n",
       "\t<li>16</li>\n",
       "</ol>\n"
      ],
      "text/latex": [
       "\\begin{enumerate*}\n",
       "\\item 18403\n",
       "\\item 16\n",
       "\\end{enumerate*}\n"
      ],
      "text/markdown": [
       "1. 18403\n",
       "2. 16\n",
       "\n",
       "\n"
      ],
      "text/plain": [
       "[1] 18403    16"
      ]
     },
     "metadata": {},
     "output_type": "display_data"
    }
   ],
   "source": [
    "dim(train_df)"
   ]
  },
  {
   "cell_type": "code",
   "execution_count": 13,
   "metadata": {
    "collapsed": false
   },
   "outputs": [],
   "source": [
    "X_train = train_df %>%\n",
    "  dplyr::select(prior_logit, dplyr::starts_with('degree_'), dplyr::starts_with('dwpc_')) %>%\n",
    "  as.matrix()\n",
    "\n",
    "y_train = train_df$status"
   ]
  },
  {
   "cell_type": "code",
   "execution_count": 14,
   "metadata": {
    "collapsed": false
   },
   "outputs": [
    {
     "data": {
      "text/html": [
       "<ol class=list-inline>\n",
       "\t<li>18403</li>\n",
       "\t<li>8</li>\n",
       "</ol>\n"
      ],
      "text/latex": [
       "\\begin{enumerate*}\n",
       "\\item 18403\n",
       "\\item 8\n",
       "\\end{enumerate*}\n"
      ],
      "text/markdown": [
       "1. 18403\n",
       "2. 8\n",
       "\n",
       "\n"
      ],
      "text/plain": [
       "[1] 18403     8"
      ]
     },
     "metadata": {},
     "output_type": "display_data"
    }
   ],
   "source": [
    "dim(X_train)"
   ]
  },
  {
   "cell_type": "code",
   "execution_count": 15,
   "metadata": {
    "collapsed": false
   },
   "outputs": [
    {
     "data": {
      "text/html": [
       "592"
      ],
      "text/latex": [
       "592"
      ],
      "text/markdown": [
       "592"
      ],
      "text/plain": [
       "[1] 592"
      ]
     },
     "metadata": {},
     "output_type": "display_data"
    }
   ],
   "source": [
    "sum(train_df$status)"
   ]
  },
  {
   "cell_type": "code",
   "execution_count": 16,
   "metadata": {
    "collapsed": false
   },
   "outputs": [
    {
     "data": {
      "text/html": [
       "<table>\n",
       "<thead><tr><th scope=col>prior_logit</th><th scope=col>degree_CbG</th><th scope=col>degree_DaG</th><th scope=col>dwpc_CbGaD</th><th scope=col>dwpc_CbGaDaGaD</th><th scope=col>dwpc_CbGbCbGaD</th><th scope=col>dwpc_CbGbCtD</th><th scope=col>dwpc_CtDtCtD</th></tr></thead>\n",
       "<tbody>\n",
       "\t<tr><td>-6.489  </td><td>-1.42000</td><td>-1.357  </td><td>-0.5141 </td><td>-1.3330 </td><td>-1.0140 </td><td>-0.7021 </td><td>-0.2954 </td></tr>\n",
       "\t<tr><td>-5.315  </td><td> 1.52800</td><td>-1.357  </td><td>-0.5141 </td><td>-0.6278 </td><td> 0.4744 </td><td>-0.7021 </td><td>-0.2954 </td></tr>\n",
       "\t<tr><td>-6.489  </td><td>-0.25470</td><td>-1.357  </td><td>-0.5141 </td><td>-0.3303 </td><td>-1.0140 </td><td>-0.7021 </td><td>-0.2954 </td></tr>\n",
       "\t<tr><td>-6.489  </td><td> 1.23200</td><td>-1.357  </td><td>-0.5141 </td><td>-1.2460 </td><td>-0.9812 </td><td>-0.7021 </td><td>-0.2954 </td></tr>\n",
       "\t<tr><td>-5.758  </td><td>-0.69630</td><td>-1.357  </td><td>-0.5141 </td><td>-0.7934 </td><td>-0.5424 </td><td>-0.7021 </td><td>-0.2954 </td></tr>\n",
       "\t<tr><td>-5.758  </td><td>-0.08534</td><td>-1.357  </td><td>-0.5141 </td><td>-1.1820 </td><td>-0.6349 </td><td>-0.7021 </td><td>-0.2954 </td></tr>\n",
       "</tbody>\n",
       "</table>\n"
      ],
      "text/latex": [
       "\\begin{tabular}{llllllll}\n",
       " prior\\_logit & degree\\_CbG & degree\\_DaG & dwpc\\_CbGaD & dwpc\\_CbGaDaGaD & dwpc\\_CbGbCbGaD & dwpc\\_CbGbCtD & dwpc\\_CtDtCtD\\\\\n",
       "\\hline\n",
       "\t -6.489   & -1.42000 & -1.357   & -0.5141  & -1.3330  & -1.0140  & -0.7021  & -0.2954 \\\\\n",
       "\t -5.315   &  1.52800 & -1.357   & -0.5141  & -0.6278  &  0.4744  & -0.7021  & -0.2954 \\\\\n",
       "\t -6.489   & -0.25470 & -1.357   & -0.5141  & -0.3303  & -1.0140  & -0.7021  & -0.2954 \\\\\n",
       "\t -6.489   &  1.23200 & -1.357   & -0.5141  & -1.2460  & -0.9812  & -0.7021  & -0.2954 \\\\\n",
       "\t -5.758   & -0.69630 & -1.357   & -0.5141  & -0.7934  & -0.5424  & -0.7021  & -0.2954 \\\\\n",
       "\t -5.758   & -0.08534 & -1.357   & -0.5141  & -1.1820  & -0.6349  & -0.7021  & -0.2954 \\\\\n",
       "\\end{tabular}\n"
      ],
      "text/markdown": [
       "1. -6.489\n",
       "2. -5.315\n",
       "3. -6.489\n",
       "4. -6.489\n",
       "5. -5.758\n",
       "6. -5.758\n",
       "7. -1.42\n",
       "8. 1.528\n",
       "9. -0.2547\n",
       "10. 1.232\n",
       "11. -0.6963\n",
       "12. -0.08534\n",
       "13. -1.357\n",
       "14. -1.357\n",
       "15. -1.357\n",
       "16. -1.357\n",
       "17. -1.357\n",
       "18. -1.357\n",
       "19. -0.5141\n",
       "20. -0.5141\n",
       "21. -0.5141\n",
       "22. -0.5141\n",
       "23. -0.5141\n",
       "24. -0.5141\n",
       "25. -1.333\n",
       "26. -0.6278\n",
       "27. -0.3303\n",
       "28. -1.246\n",
       "29. -0.7934\n",
       "30. -1.182\n",
       "31. -1.014\n",
       "32. 0.4744\n",
       "33. -1.014\n",
       "34. -0.9812\n",
       "35. -0.5424\n",
       "36. -0.6349\n",
       "37. -0.7021\n",
       "38. -0.7021\n",
       "39. -0.7021\n",
       "40. -0.7021\n",
       "41. -0.7021\n",
       "42. -0.7021\n",
       "43. -0.2954\n",
       "44. -0.2954\n",
       "45. -0.2954\n",
       "46. -0.2954\n",
       "47. -0.2954\n",
       "48. -0.2954\n",
       "\n",
       "\n"
      ],
      "text/plain": [
       "     prior_logit degree_CbG degree_DaG dwpc_CbGaD dwpc_CbGaDaGaD dwpc_CbGbCbGaD\n",
       "[1,] -6.489      -1.42000   -1.357     -0.5141    -1.3330        -1.0140       \n",
       "[2,] -5.315       1.52800   -1.357     -0.5141    -0.6278         0.4744       \n",
       "[3,] -6.489      -0.25470   -1.357     -0.5141    -0.3303        -1.0140       \n",
       "[4,] -6.489       1.23200   -1.357     -0.5141    -1.2460        -0.9812       \n",
       "[5,] -5.758      -0.69630   -1.357     -0.5141    -0.7934        -0.5424       \n",
       "[6,] -5.758      -0.08534   -1.357     -0.5141    -1.1820        -0.6349       \n",
       "     dwpc_CbGbCtD dwpc_CtDtCtD\n",
       "[1,] -0.7021      -0.2954     \n",
       "[2,] -0.7021      -0.2954     \n",
       "[3,] -0.7021      -0.2954     \n",
       "[4,] -0.7021      -0.2954     \n",
       "[5,] -0.7021      -0.2954     \n",
       "[6,] -0.7021      -0.2954     "
      ]
     },
     "metadata": {},
     "output_type": "display_data"
    }
   ],
   "source": [
    "head(X_train)"
   ]
  },
  {
   "cell_type": "markdown",
   "metadata": {},
   "source": [
    "---"
   ]
  },
  {
   "cell_type": "markdown",
   "metadata": {},
   "source": [
    "## Fit Model"
   ]
  },
  {
   "cell_type": "code",
   "execution_count": 17,
   "metadata": {
    "collapsed": true
   },
   "outputs": [],
   "source": [
    "lambda = 'lambda.1se'\n",
    "penalty = ifelse(colnames(X_train) == 'prior_logit', 0, 1)"
   ]
  },
  {
   "cell_type": "code",
   "execution_count": 18,
   "metadata": {
    "collapsed": false
   },
   "outputs": [
    {
     "name": "stderr",
     "output_type": "stream",
     "text": [
      "Loading required package: Matrix\n",
      "Loading required package: foreach\n",
      "Loaded glmnet 2.0-5\n",
      "\n"
     ]
    }
   ],
   "source": [
    "fit = hetior::glmnet_train(X = X_train, y = y_train, alpha = 0.2, s = lambda, cores = 10, seed = 0,\n",
    "  penalty.factor=penalty, lambda.min.ratio=1e-8, nlambda=150, standardize=TRUE)"
   ]
  },
  {
   "cell_type": "markdown",
   "metadata": {
    "collapsed": true
   },
   "source": [
    "---"
   ]
  },
  {
   "cell_type": "code",
   "execution_count": 19,
   "metadata": {
    "collapsed": false
   },
   "outputs": [
    {
     "data": {
      "text/html": [
       "0.0114312630339474"
      ],
      "text/latex": [
       "0.0114312630339474"
      ],
      "text/markdown": [
       "0.0114312630339474"
      ],
      "text/plain": [
       "[1] 0.01143126"
      ]
     },
     "metadata": {},
     "output_type": "display_data"
    },
    {
     "data": {
      "image/png": "[encoded data removed]",
      "text/plain": [
       "plot without title"
      ]
     },
     "metadata": {},
     "output_type": "display_data"
    }
   ],
   "source": [
    "par(mfrow = c(2,1), oma = c(5,4,0,0) + 0.1, mar = c(0,0,1,1) + 0.1)\n",
    "plot(fit$cv_model$glmnet.fit, xvar = \"lambda\", label = TRUE)\n",
    "plot(fit$cv_model)\n",
    "fit$cv_model[[lambda]]"
   ]
  },
  {
   "cell_type": "code",
   "execution_count": 20,
   "metadata": {
    "collapsed": false
   },
   "outputs": [
    {
     "data": {
      "text/html": [
       "1.03372277253821"
      ],
      "text/latex": [
       "1.03372277253821"
      ],
      "text/markdown": [
       "1.03372277253821"
      ],
      "text/plain": [
       "[1] 1.033723"
      ]
     },
     "metadata": {},
     "output_type": "display_data"
    }
   ],
   "source": [
    "# The coefficient for prior_logit should be around 1 for our approach to work well\n",
    "dplyr::filter(fit$coef_df, feature == 'prior_logit')$coef"
   ]
  },
  {
   "cell_type": "code",
   "execution_count": 21,
   "metadata": {
    "collapsed": false
   },
   "outputs": [
    {
     "data": {
      "text/plain": [
       ".\n",
       "-1  1 \n",
       " 3  4 "
      ]
     },
     "metadata": {},
     "output_type": "display_data"
    }
   ],
   "source": [
    "# Number of negative and positive coefficients\n",
    "fit$coef_df %>%\n",
    "  dplyr::filter(feature != 'intercept', zcoef != 0) %>%\n",
    "  .[['zcoef']] %>% sign %>% table"
   ]
  },
  {
   "cell_type": "code",
   "execution_count": 22,
   "metadata": {
    "collapsed": false
   },
   "outputs": [
    {
     "data": {
      "text/html": [
       "636.238619"
      ],
      "text/latex": [
       "636.238619"
      ],
      "text/markdown": [
       "636.238619"
      ],
      "text/plain": [
       "[1] 636.2386"
      ]
     },
     "metadata": {},
     "output_type": "display_data"
    },
    {
     "data": {
      "text/html": [
       "'1.06%'"
      ],
      "text/latex": [
       "'1.06\\%'"
      ],
      "text/markdown": [
       "'1.06%'"
      ],
      "text/plain": [
       "[1] \"1.06%\""
      ]
     },
     "metadata": {},
     "output_type": "display_data"
    }
   ],
   "source": [
    "# Sum of prior (should sum to the number of treatments)\n",
    "sum(feature_df$prior_prob)\n",
    "\n",
    "# Prevalence of positives as percent\n",
    "scales::percent(mean(feature_df$status))"
   ]
  },
  {
   "cell_type": "markdown",
   "metadata": {},
   "source": [
    "Prior has a larger sum than the number of positive examples we fed into the model. Wonder if this difference is significant."
   ]
  },
  {
   "cell_type": "markdown",
   "metadata": {},
   "source": [
    "## Make predictions"
   ]
  },
  {
   "cell_type": "code",
   "execution_count": 23,
   "metadata": {
    "collapsed": false
   },
   "outputs": [],
   "source": [
    "# overwrites prior_logit values...\n",
    "\n",
    "X_test = test_rels %>%\n",
    "    dplyr::mutate(prior_logit = boot::logit(mean(train_df$status))) %>%\n",
    "    dplyr::select(dplyr::one_of(colnames(X_train))) %>%\n",
    "    as.matrix()"
   ]
  },
  {
   "cell_type": "code",
   "execution_count": 24,
   "metadata": {
    "collapsed": false
   },
   "outputs": [
    {
     "data": {
      "text/html": [
       "<ol class=list-inline>\n",
       "\t<li>16709</li>\n",
       "\t<li>8</li>\n",
       "</ol>\n"
      ],
      "text/latex": [
       "\\begin{enumerate*}\n",
       "\\item 16709\n",
       "\\item 8\n",
       "\\end{enumerate*}\n"
      ],
      "text/markdown": [
       "1. 16709\n",
       "2. 8\n",
       "\n",
       "\n"
      ],
      "text/plain": [
       "[1] 16709     8"
      ]
     },
     "metadata": {},
     "output_type": "display_data"
    }
   ],
   "source": [
    "dim(X_test)"
   ]
  },
  {
   "cell_type": "code",
   "execution_count": 25,
   "metadata": {
    "collapsed": false
   },
   "outputs": [
    {
     "data": {
      "text/html": [
       "<table>\n",
       "<thead><tr><th scope=col>prior_logit</th><th scope=col>degree_CbG</th><th scope=col>degree_DaG</th><th scope=col>dwpc_CbGaD</th><th scope=col>dwpc_CbGaDaGaD</th><th scope=col>dwpc_CbGbCbGaD</th><th scope=col>dwpc_CbGbCtD</th><th scope=col>dwpc_CtDtCtD</th></tr></thead>\n",
       "<tbody>\n",
       "\t<tr><td>-3.404065</td><td>-1.4200  </td><td>1.91     </td><td>-0.5141  </td><td>0.5407   </td><td>-0.7589  </td><td>-0.7021  </td><td>-0.2954  </td></tr>\n",
       "\t<tr><td>-3.404065</td><td> 1.5280  </td><td>1.91     </td><td> 2.2390  </td><td>1.5820   </td><td> 2.5810  </td><td> 2.5800  </td><td> 0.9558  </td></tr>\n",
       "\t<tr><td>-3.404065</td><td>-0.6963  </td><td>1.91     </td><td> 1.7040  </td><td>1.1920   </td><td> 0.8969  </td><td> 0.3356  </td><td> 3.7720  </td></tr>\n",
       "\t<tr><td>-3.404065</td><td> 0.5103  </td><td>1.91     </td><td> 1.1520  </td><td>1.3610   </td><td> 1.6470  </td><td> 0.5575  </td><td>-0.2954  </td></tr>\n",
       "\t<tr><td>-3.404065</td><td>-0.4542  </td><td>1.91     </td><td>-0.5141  </td><td>1.1140   </td><td> 1.1050  </td><td> 1.4500  </td><td>-0.2954  </td></tr>\n",
       "\t<tr><td>-3.404065</td><td> 1.5990  </td><td>1.91     </td><td> 2.2620  </td><td>2.2190   </td><td> 2.5600  </td><td> 1.5570  </td><td>-0.2954  </td></tr>\n",
       "</tbody>\n",
       "</table>\n"
      ],
      "text/latex": [
       "\\begin{tabular}{llllllll}\n",
       " prior\\_logit & degree\\_CbG & degree\\_DaG & dwpc\\_CbGaD & dwpc\\_CbGaDaGaD & dwpc\\_CbGbCbGaD & dwpc\\_CbGbCtD & dwpc\\_CtDtCtD\\\\\n",
       "\\hline\n",
       "\t -3.404065 & -1.4200   & 1.91      & -0.5141   & 0.5407    & -0.7589   & -0.7021   & -0.2954  \\\\\n",
       "\t -3.404065 &  1.5280   & 1.91      &  2.2390   & 1.5820    &  2.5810   &  2.5800   &  0.9558  \\\\\n",
       "\t -3.404065 & -0.6963   & 1.91      &  1.7040   & 1.1920    &  0.8969   &  0.3356   &  3.7720  \\\\\n",
       "\t -3.404065 &  0.5103   & 1.91      &  1.1520   & 1.3610    &  1.6470   &  0.5575   & -0.2954  \\\\\n",
       "\t -3.404065 & -0.4542   & 1.91      & -0.5141   & 1.1140    &  1.1050   &  1.4500   & -0.2954  \\\\\n",
       "\t -3.404065 &  1.5990   & 1.91      &  2.2620   & 2.2190    &  2.5600   &  1.5570   & -0.2954  \\\\\n",
       "\\end{tabular}\n"
      ],
      "text/markdown": [
       "1. -3.40406488805478\n",
       "2. -3.40406488805478\n",
       "3. -3.40406488805478\n",
       "4. -3.40406488805478\n",
       "5. -3.40406488805478\n",
       "6. -3.40406488805478\n",
       "7. -1.42\n",
       "8. 1.528\n",
       "9. -0.6963\n",
       "10. 0.5103\n",
       "11. -0.4542\n",
       "12. 1.599\n",
       "13. 1.91\n",
       "14. 1.91\n",
       "15. 1.91\n",
       "16. 1.91\n",
       "17. 1.91\n",
       "18. 1.91\n",
       "19. -0.5141\n",
       "20. 2.239\n",
       "21. 1.704\n",
       "22. 1.152\n",
       "23. -0.5141\n",
       "24. 2.262\n",
       "25. 0.5407\n",
       "26. 1.582\n",
       "27. 1.192\n",
       "28. 1.361\n",
       "29. 1.114\n",
       "30. 2.219\n",
       "31. -0.7589\n",
       "32. 2.581\n",
       "33. 0.8969\n",
       "34. 1.647\n",
       "35. 1.105\n",
       "36. 2.56\n",
       "37. -0.7021\n",
       "38. 2.58\n",
       "39. 0.3356\n",
       "40. 0.5575\n",
       "41. 1.45\n",
       "42. 1.557\n",
       "43. -0.2954\n",
       "44. 0.9558\n",
       "45. 3.772\n",
       "46. -0.2954\n",
       "47. -0.2954\n",
       "48. -0.2954\n",
       "\n",
       "\n"
      ],
      "text/plain": [
       "     prior_logit degree_CbG degree_DaG dwpc_CbGaD dwpc_CbGaDaGaD dwpc_CbGbCbGaD\n",
       "[1,] -3.404065   -1.4200    1.91       -0.5141    0.5407         -0.7589       \n",
       "[2,] -3.404065    1.5280    1.91        2.2390    1.5820          2.5810       \n",
       "[3,] -3.404065   -0.6963    1.91        1.7040    1.1920          0.8969       \n",
       "[4,] -3.404065    0.5103    1.91        1.1520    1.3610          1.6470       \n",
       "[5,] -3.404065   -0.4542    1.91       -0.5141    1.1140          1.1050       \n",
       "[6,] -3.404065    1.5990    1.91        2.2620    2.2190          2.5600       \n",
       "     dwpc_CbGbCtD dwpc_CtDtCtD\n",
       "[1,] -0.7021      -0.2954     \n",
       "[2,]  2.5800       0.9558     \n",
       "[3,]  0.3356       3.7720     \n",
       "[4,]  0.5575      -0.2954     \n",
       "[5,]  1.4500      -0.2954     \n",
       "[6,]  1.5570      -0.2954     "
      ]
     },
     "metadata": {},
     "output_type": "display_data"
    }
   ],
   "source": [
    "head(X_test)"
   ]
  },
  {
   "cell_type": "markdown",
   "metadata": {},
   "source": [
    "---"
   ]
  },
  {
   "cell_type": "code",
   "execution_count": 26,
   "metadata": {
    "collapsed": true
   },
   "outputs": [],
   "source": [
    "y_test = hetior::glmnet_predict(fit$cv_model, X = X_test, s = lambda)"
   ]
  },
  {
   "cell_type": "code",
   "execution_count": 27,
   "metadata": {
    "collapsed": false
   },
   "outputs": [
    {
     "data": {
      "text/html": [
       "'3.27%'"
      ],
      "text/latex": [
       "'3.27\\%'"
      ],
      "text/markdown": [
       "'3.27%'"
      ],
      "text/plain": [
       "[1] \"3.27%\""
      ]
     },
     "metadata": {},
     "output_type": "display_data"
    }
   ],
   "source": [
    "y_test %>% mean() %>% scales::percent()"
   ]
  },
  {
   "cell_type": "code",
   "execution_count": 28,
   "metadata": {
    "collapsed": false
   },
   "outputs": [
    {
     "data": {
      "text/html": [
       "<ol class=list-inline>\n",
       "\t<li>16709</li>\n",
       "\t<li>16</li>\n",
       "</ol>\n"
      ],
      "text/latex": [
       "\\begin{enumerate*}\n",
       "\\item 16709\n",
       "\\item 16\n",
       "\\end{enumerate*}\n"
      ],
      "text/markdown": [
       "1. 16709\n",
       "2. 16\n",
       "\n",
       "\n"
      ],
      "text/plain": [
       "[1] 16709    16"
      ]
     },
     "metadata": {},
     "output_type": "display_data"
    }
   ],
   "source": [
    "dim(test_rels)"
   ]
  },
  {
   "cell_type": "code",
   "execution_count": 29,
   "metadata": {
    "collapsed": false
   },
   "outputs": [
    {
     "data": {
      "text/html": [
       "16709"
      ],
      "text/latex": [
       "16709"
      ],
      "text/markdown": [
       "16709"
      ],
      "text/plain": [
       "[1] 16709"
      ]
     },
     "metadata": {},
     "output_type": "display_data"
    }
   ],
   "source": [
    "length(y_test)"
   ]
  },
  {
   "cell_type": "code",
   "execution_count": 30,
   "metadata": {
    "collapsed": true
   },
   "outputs": [],
   "source": [
    "test_res = test_rels %>%\n",
    "    dplyr::bind_cols(dplyr::data_frame(predicted_value = y_test))"
   ]
  },
  {
   "cell_type": "code",
   "execution_count": 31,
   "metadata": {
    "collapsed": false
   },
   "outputs": [
    {
     "data": {
      "text/html": [
       "<ol class=list-inline>\n",
       "\t<li>16709</li>\n",
       "\t<li>17</li>\n",
       "</ol>\n"
      ],
      "text/latex": [
       "\\begin{enumerate*}\n",
       "\\item 16709\n",
       "\\item 17\n",
       "\\end{enumerate*}\n"
      ],
      "text/markdown": [
       "1. 16709\n",
       "2. 17\n",
       "\n",
       "\n"
      ],
      "text/plain": [
       "[1] 16709    17"
      ]
     },
     "metadata": {},
     "output_type": "display_data"
    }
   ],
   "source": [
    "dim(test_res)"
   ]
  },
  {
   "cell_type": "code",
   "execution_count": 32,
   "metadata": {
    "collapsed": false
   },
   "outputs": [
    {
     "data": {
      "text/html": [
       "<table>\n",
       "<thead><tr><th scope=col>compound_id</th><th scope=col>compound_name</th><th scope=col>disease_id</th><th scope=col>disease_name</th><th scope=col>category</th><th scope=col>origin</th><th scope=col>status</th><th scope=col>prior_logit</th><th scope=col>prior_prob</th><th scope=col>degree_CbG</th><th scope=col>degree_DaG</th><th scope=col>dwpc_CbGaD</th><th scope=col>dwpc_CbGaDaGaD</th><th scope=col>dwpc_CbGbCbGaD</th><th scope=col>dwpc_CbGbCtD</th><th scope=col>dwpc_CtDtCtD</th><th scope=col>predicted_value</th></tr></thead>\n",
       "<tbody>\n",
       "\t<tr><td>DB00014   </td><td>NA        </td><td>DOID:10283</td><td>NA        </td><td>NA        </td><td>holdout   </td><td>0         </td><td>-3.666    </td><td>0.02494   </td><td>-1.4200   </td><td>1.91      </td><td>-0.5141   </td><td>0.5407    </td><td>-0.7589   </td><td>-0.7021   </td><td>-0.2954   </td><td>0.01175235</td></tr>\n",
       "\t<tr><td>DB00091   </td><td>NA        </td><td>DOID:10283</td><td>NA        </td><td>NA        </td><td>holdout   </td><td>0         </td><td>-2.491    </td><td>0.07648   </td><td> 1.5280   </td><td>1.91      </td><td> 2.2390   </td><td>1.5820    </td><td> 2.5810   </td><td> 2.5800   </td><td> 0.9558   </td><td>0.10766847</td></tr>\n",
       "\t<tr><td>DB00136   </td><td>NA        </td><td>DOID:10283</td><td>NA        </td><td>NA        </td><td>holdout   </td><td>0         </td><td>-2.934    </td><td>0.05051   </td><td>-0.6963   </td><td>1.91      </td><td> 1.7040   </td><td>1.1920    </td><td> 0.8969   </td><td> 0.3356   </td><td> 3.7720   </td><td>0.07375129</td></tr>\n",
       "\t<tr><td>DB00158   </td><td>NA        </td><td>DOID:10283</td><td>NA        </td><td>NA        </td><td>holdout   </td><td>0         </td><td>  -Inf    </td><td>0.00000   </td><td> 0.5103   </td><td>1.91      </td><td> 1.1520   </td><td>1.3610    </td><td> 1.6470   </td><td> 0.5575   </td><td>-0.2954   </td><td>0.02703453</td></tr>\n",
       "\t<tr><td>DB00177   </td><td>NA        </td><td>DOID:10283</td><td>NA        </td><td>NA        </td><td>holdout   </td><td>0         </td><td>-2.934    </td><td>0.05051   </td><td>-0.4542   </td><td>1.91      </td><td>-0.5141   </td><td>1.1140    </td><td> 1.1050   </td><td> 1.4500   </td><td>-0.2954   </td><td>0.02850100</td></tr>\n",
       "\t<tr><td>DB00184   </td><td>NA        </td><td>DOID:10283</td><td>NA        </td><td>NA        </td><td>holdout   </td><td>0         </td><td>  -Inf    </td><td>0.00000   </td><td> 1.5990   </td><td>1.91      </td><td> 2.2620   </td><td>2.2190    </td><td> 2.5600   </td><td> 1.5570   </td><td>-0.2954   </td><td>0.05279343</td></tr>\n",
       "</tbody>\n",
       "</table>\n"
      ],
      "text/latex": [
       "\\begin{tabular}{r|lllllllllllllllll}\n",
       " compound\\_id & compound\\_name & disease\\_id & disease\\_name & category & origin & status & prior\\_logit & prior\\_prob & degree\\_CbG & degree\\_DaG & dwpc\\_CbGaD & dwpc\\_CbGaDaGaD & dwpc\\_CbGbCbGaD & dwpc\\_CbGbCtD & dwpc\\_CtDtCtD & predicted\\_value\\\\\n",
       "\\hline\n",
       "\t DB00014    & NA         & DOID:10283 & NA         & NA         & holdout    & 0          & -3.666     & 0.02494    & -1.4200    & 1.91       & -0.5141    & 0.5407     & -0.7589    & -0.7021    & -0.2954    & 0.01175235\\\\\n",
       "\t DB00091    & NA         & DOID:10283 & NA         & NA         & holdout    & 0          & -2.491     & 0.07648    &  1.5280    & 1.91       &  2.2390    & 1.5820     &  2.5810    &  2.5800    &  0.9558    & 0.10766847\\\\\n",
       "\t DB00136    & NA         & DOID:10283 & NA         & NA         & holdout    & 0          & -2.934     & 0.05051    & -0.6963    & 1.91       &  1.7040    & 1.1920     &  0.8969    &  0.3356    &  3.7720    & 0.07375129\\\\\n",
       "\t DB00158    & NA         & DOID:10283 & NA         & NA         & holdout    & 0          &   -Inf     & 0.00000    &  0.5103    & 1.91       &  1.1520    & 1.3610     &  1.6470    &  0.5575    & -0.2954    & 0.02703453\\\\\n",
       "\t DB00177    & NA         & DOID:10283 & NA         & NA         & holdout    & 0          & -2.934     & 0.05051    & -0.4542    & 1.91       & -0.5141    & 1.1140     &  1.1050    &  1.4500    & -0.2954    & 0.02850100\\\\\n",
       "\t DB00184    & NA         & DOID:10283 & NA         & NA         & holdout    & 0          &   -Inf     & 0.00000    &  1.5990    & 1.91       &  2.2620    & 2.2190     &  2.5600    &  1.5570    & -0.2954    & 0.05279343\\\\\n",
       "\\end{tabular}\n"
      ],
      "text/plain": [
       "  compound_id compound_name disease_id disease_name category origin  status\n",
       "1 DB00014     NA            DOID:10283 NA           NA       holdout 0     \n",
       "2 DB00091     NA            DOID:10283 NA           NA       holdout 0     \n",
       "3 DB00136     NA            DOID:10283 NA           NA       holdout 0     \n",
       "4 DB00158     NA            DOID:10283 NA           NA       holdout 0     \n",
       "5 DB00177     NA            DOID:10283 NA           NA       holdout 0     \n",
       "6 DB00184     NA            DOID:10283 NA           NA       holdout 0     \n",
       "  prior_logit prior_prob degree_CbG degree_DaG dwpc_CbGaD dwpc_CbGaDaGaD\n",
       "1 -3.666      0.02494    -1.4200    1.91       -0.5141    0.5407        \n",
       "2 -2.491      0.07648     1.5280    1.91        2.2390    1.5820        \n",
       "3 -2.934      0.05051    -0.6963    1.91        1.7040    1.1920        \n",
       "4   -Inf      0.00000     0.5103    1.91        1.1520    1.3610        \n",
       "5 -2.934      0.05051    -0.4542    1.91       -0.5141    1.1140        \n",
       "6   -Inf      0.00000     1.5990    1.91        2.2620    2.2190        \n",
       "  dwpc_CbGbCbGaD dwpc_CbGbCtD dwpc_CtDtCtD predicted_value\n",
       "1 -0.7589        -0.7021      -0.2954      0.01175235     \n",
       "2  2.5810         2.5800       0.9558      0.10766847     \n",
       "3  0.8969         0.3356       3.7720      0.07375129     \n",
       "4  1.6470         0.5575      -0.2954      0.02703453     \n",
       "5  1.1050         1.4500      -0.2954      0.02850100     \n",
       "6  2.5600         1.5570      -0.2954      0.05279343     "
      ]
     },
     "metadata": {},
     "output_type": "display_data"
    }
   ],
   "source": [
    "head(test_res)"
   ]
  },
  {
   "cell_type": "code",
   "execution_count": 33,
   "metadata": {
    "collapsed": true
   },
   "outputs": [],
   "source": [
    "test_res %>% readr::write_tsv(\"results.tsv\")"
   ]
  }
 ],
 "metadata": {
  "kernelspec": {
   "display_name": "R",
   "language": "R",
   "name": "ir"
  },
  "language_info": {
   "codemirror_mode": "r",
   "file_extension": ".r",
   "mimetype": "text/x-r-source",
   "name": "R",
   "pygments_lexer": "r",
   "version": "3.4.0"
  }
 },
 "nbformat": 4,
 "nbformat_minor": 0
}
