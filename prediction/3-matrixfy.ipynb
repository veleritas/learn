{
 "cells": [
  {
   "cell_type": "markdown",
   "metadata": {},
   "source": [
    "# Convert features into a matrix"
   ]
  },
  {
   "cell_type": "code",
   "execution_count": 1,
   "metadata": {
    "collapsed": true
   },
   "outputs": [],
   "source": [
    "import bz2\n",
    "\n",
    "import pandas\n",
    "import numpy\n",
    "from scipy.special import logit"
   ]
  },
  {
   "cell_type": "code",
   "execution_count": 2,
   "metadata": {
    "collapsed": false
   },
   "outputs": [
    {
     "data": {
      "text/html": [
       "<div>\n",
       "<table border=\"1\" class=\"dataframe\">\n",
       "  <thead>\n",
       "    <tr style=\"text-align: right;\">\n",
       "      <th></th>\n",
       "      <th>chemical_id</th>\n",
       "      <th>chemical_name</th>\n",
       "      <th>disease_id</th>\n",
       "      <th>disease_name</th>\n",
       "      <th>category</th>\n",
       "      <th>origin</th>\n",
       "      <th>status</th>\n",
       "    </tr>\n",
       "  </thead>\n",
       "  <tbody>\n",
       "    <tr>\n",
       "      <th>0</th>\n",
       "      <td>DB00014</td>\n",
       "      <td>NaN</td>\n",
       "      <td>DOID:0050742</td>\n",
       "      <td>NaN</td>\n",
       "      <td>NaN</td>\n",
       "      <td>train</td>\n",
       "      <td>0</td>\n",
       "    </tr>\n",
       "    <tr>\n",
       "      <th>1</th>\n",
       "      <td>DB00014</td>\n",
       "      <td>NaN</td>\n",
       "      <td>DOID:0060073</td>\n",
       "      <td>NaN</td>\n",
       "      <td>NaN</td>\n",
       "      <td>train</td>\n",
       "      <td>0</td>\n",
       "    </tr>\n",
       "  </tbody>\n",
       "</table>\n",
       "</div>"
      ],
      "text/plain": [
       "  chemical_id chemical_name    disease_id disease_name category origin  status\n",
       "0     DB00014           NaN  DOID:0050742          NaN      NaN  train       0\n",
       "1     DB00014           NaN  DOID:0060073          NaN      NaN  train       0"
      ]
     },
     "execution_count": 2,
     "metadata": {},
     "output_type": "execute_result"
    }
   ],
   "source": [
    "# Read compound-disease pairs (observations)\n",
    "pair_df = pandas.read_table('features/compound-disease-pairs.tsv.bz2')\n",
    "pair_df.head(2)"
   ]
  },
  {
   "cell_type": "code",
   "execution_count": 3,
   "metadata": {
    "collapsed": false
   },
   "outputs": [
    {
     "data": {
      "text/plain": [
       "(55768, 7)"
      ]
     },
     "execution_count": 3,
     "metadata": {},
     "output_type": "execute_result"
    }
   ],
   "source": [
    "pair_df.shape"
   ]
  },
  {
   "cell_type": "markdown",
   "metadata": {},
   "source": [
    "## Read prior probabilities"
   ]
  },
  {
   "cell_type": "code",
   "execution_count": 4,
   "metadata": {
    "collapsed": false
   },
   "outputs": [
    {
     "data": {
      "text/html": [
       "<div>\n",
       "<table border=\"1\" class=\"dataframe\">\n",
       "  <thead>\n",
       "    <tr style=\"text-align: right;\">\n",
       "      <th></th>\n",
       "      <th>chemical_id</th>\n",
       "      <th>disease_id</th>\n",
       "      <th>prior_prob</th>\n",
       "    </tr>\n",
       "  </thead>\n",
       "  <tbody>\n",
       "    <tr>\n",
       "      <th>186660</th>\n",
       "      <td>DB01624</td>\n",
       "      <td>DOID:12306</td>\n",
       "      <td>0.0</td>\n",
       "    </tr>\n",
       "    <tr>\n",
       "      <th>186661</th>\n",
       "      <td>DB01624</td>\n",
       "      <td>DOID:1245</td>\n",
       "      <td>0.0</td>\n",
       "    </tr>\n",
       "  </tbody>\n",
       "</table>\n",
       "</div>"
      ],
      "text/plain": [
       "       chemical_id  disease_id  prior_prob\n",
       "186660     DB01624  DOID:12306         0.0\n",
       "186661     DB01624   DOID:1245         0.0"
      ]
     },
     "execution_count": 4,
     "metadata": {},
     "output_type": "execute_result"
    }
   ],
   "source": [
    "prior_df = pandas.read_table('../all-features/data/matrix/prior.tsv')\n",
    "prior_df.tail(2)"
   ]
  },
  {
   "cell_type": "code",
   "execution_count": 5,
   "metadata": {
    "collapsed": false
   },
   "outputs": [
    {
     "data": {
      "text/plain": [
       "(186662, 3)"
      ]
     },
     "execution_count": 5,
     "metadata": {},
     "output_type": "execute_result"
    }
   ],
   "source": [
    "prior_df.shape"
   ]
  },
  {
   "cell_type": "markdown",
   "metadata": {},
   "source": [
    "## Read degree features"
   ]
  },
  {
   "cell_type": "code",
   "execution_count": 6,
   "metadata": {
    "collapsed": false
   },
   "outputs": [
    {
     "data": {
      "text/html": [
       "<div>\n",
       "<table border=\"1\" class=\"dataframe\">\n",
       "  <thead>\n",
       "    <tr style=\"text-align: right;\">\n",
       "      <th></th>\n",
       "      <th>disease_id</th>\n",
       "      <th>degree_DaG</th>\n",
       "      <th>degree_DtC</th>\n",
       "    </tr>\n",
       "  </thead>\n",
       "  <tbody>\n",
       "    <tr>\n",
       "      <th>0</th>\n",
       "      <td>DOID:0050156</td>\n",
       "      <td>18</td>\n",
       "      <td>0</td>\n",
       "    </tr>\n",
       "    <tr>\n",
       "      <th>1</th>\n",
       "      <td>DOID:0050425</td>\n",
       "      <td>12</td>\n",
       "      <td>0</td>\n",
       "    </tr>\n",
       "  </tbody>\n",
       "</table>\n",
       "</div>"
      ],
      "text/plain": [
       "     disease_id  degree_DaG  degree_DtC\n",
       "0  DOID:0050156          18           0\n",
       "1  DOID:0050425          12           0"
      ]
     },
     "execution_count": 6,
     "metadata": {},
     "output_type": "execute_result"
    }
   ],
   "source": [
    "compound_degree_df = pandas.read_table('../all-features/data/matrix/compound_degree.tsv')\n",
    "disease_degree_df = pandas.read_table('../all-features/data/matrix/disease_degree.tsv')\n",
    "\n",
    "for df in compound_degree_df, disease_degree_df:\n",
    "    df.rename(columns={k: 'degree_' + k for k in df.columns[1:]}, inplace=True)\n",
    "\n",
    "disease_degree_df.head(2)"
   ]
  },
  {
   "cell_type": "code",
   "execution_count": 7,
   "metadata": {
    "collapsed": false
   },
   "outputs": [
    {
     "data": {
      "text/html": [
       "<div>\n",
       "<table border=\"1\" class=\"dataframe\">\n",
       "  <thead>\n",
       "    <tr style=\"text-align: right;\">\n",
       "      <th></th>\n",
       "      <th>hetnet</th>\n",
       "      <th>chemical_id</th>\n",
       "      <th>disease_id</th>\n",
       "      <th>metapath</th>\n",
       "      <th>PC</th>\n",
       "      <th>w</th>\n",
       "      <th>DWPC</th>\n",
       "      <th>seconds</th>\n",
       "    </tr>\n",
       "  </thead>\n",
       "  <tbody>\n",
       "    <tr>\n",
       "      <th>0</th>\n",
       "      <td>hetio-ind</td>\n",
       "      <td>DB00014</td>\n",
       "      <td>DOID:824</td>\n",
       "      <td>CtDtCtD</td>\n",
       "      <td>0</td>\n",
       "      <td>0.4</td>\n",
       "      <td>0.0</td>\n",
       "      <td>0.7727</td>\n",
       "    </tr>\n",
       "    <tr>\n",
       "      <th>1</th>\n",
       "      <td>hetio-ind</td>\n",
       "      <td>DB00091</td>\n",
       "      <td>DOID:14268</td>\n",
       "      <td>CtDtCtD</td>\n",
       "      <td>0</td>\n",
       "      <td>0.4</td>\n",
       "      <td>0.0</td>\n",
       "      <td>0.7202</td>\n",
       "    </tr>\n",
       "  </tbody>\n",
       "</table>\n",
       "</div>"
      ],
      "text/plain": [
       "      hetnet chemical_id  disease_id metapath  PC    w  DWPC  seconds\n",
       "0  hetio-ind     DB00014    DOID:824  CtDtCtD   0  0.4   0.0   0.7727\n",
       "1  hetio-ind     DB00091  DOID:14268  CtDtCtD   0  0.4   0.0   0.7202"
      ]
     },
     "execution_count": 7,
     "metadata": {},
     "output_type": "execute_result"
    }
   ],
   "source": [
    "# Read DWPCs\n",
    "dwpc_df = pandas.read_table('features/dwpc.tsv.bz2')\n",
    "dwpc_df.head(2)"
   ]
  },
  {
   "cell_type": "code",
   "execution_count": 8,
   "metadata": {
    "collapsed": false
   },
   "outputs": [
    {
     "data": {
      "text/plain": [
       "(334608, 8)"
      ]
     },
     "execution_count": 8,
     "metadata": {},
     "output_type": "execute_result"
    }
   ],
   "source": [
    "dwpc_df.shape"
   ]
  },
  {
   "cell_type": "code",
   "execution_count": 9,
   "metadata": {
    "collapsed": false
   },
   "outputs": [
    {
     "data": {
      "text/html": [
       "<div>\n",
       "<table border=\"1\" class=\"dataframe\">\n",
       "  <thead>\n",
       "    <tr style=\"text-align: right;\">\n",
       "      <th></th>\n",
       "      <th>chemical_id</th>\n",
       "      <th>disease_id</th>\n",
       "      <th>dwpc_CbGaD</th>\n",
       "      <th>dwpc_CbGaDaGaD</th>\n",
       "      <th>dwpc_CbGaDtCtD</th>\n",
       "      <th>dwpc_CbGbCbGaD</th>\n",
       "      <th>dwpc_CbGbCtD</th>\n",
       "      <th>dwpc_CtDtCtD</th>\n",
       "    </tr>\n",
       "  </thead>\n",
       "  <tbody>\n",
       "    <tr>\n",
       "      <th>0</th>\n",
       "      <td>DB00014</td>\n",
       "      <td>DOID:0050156</td>\n",
       "      <td>0.0</td>\n",
       "      <td>0.002188</td>\n",
       "      <td>0.0</td>\n",
       "      <td>0.0</td>\n",
       "      <td>0.0</td>\n",
       "      <td>0.0</td>\n",
       "    </tr>\n",
       "    <tr>\n",
       "      <th>1</th>\n",
       "      <td>DB00014</td>\n",
       "      <td>DOID:0050425</td>\n",
       "      <td>0.0</td>\n",
       "      <td>0.002232</td>\n",
       "      <td>0.0</td>\n",
       "      <td>0.0</td>\n",
       "      <td>0.0</td>\n",
       "      <td>0.0</td>\n",
       "    </tr>\n",
       "  </tbody>\n",
       "</table>\n",
       "</div>"
      ],
      "text/plain": [
       "  chemical_id    disease_id  dwpc_CbGaD  dwpc_CbGaDaGaD  dwpc_CbGaDtCtD  \\\n",
       "0     DB00014  DOID:0050156         0.0        0.002188             0.0   \n",
       "1     DB00014  DOID:0050425         0.0        0.002232             0.0   \n",
       "\n",
       "   dwpc_CbGbCbGaD  dwpc_CbGbCtD  dwpc_CtDtCtD  \n",
       "0             0.0           0.0           0.0  \n",
       "1             0.0           0.0           0.0  "
      ]
     },
     "execution_count": 9,
     "metadata": {},
     "output_type": "execute_result"
    }
   ],
   "source": [
    "dwpc_mat_df = dwpc_df.pivot_table(values = 'DWPC', index=['chemical_id', 'disease_id'], columns = 'metapath')\n",
    "dwpc_mat_df.columns = 'dwpc_' + dwpc_mat_df.columns\n",
    "dwpc_mat_df = dwpc_mat_df.reset_index()\n",
    "dwpc_mat_df.head(2)"
   ]
  },
  {
   "cell_type": "markdown",
   "metadata": {},
   "source": [
    "---"
   ]
  },
  {
   "cell_type": "markdown",
   "metadata": {},
   "source": [
    "### Combine all observation-by-feature matrixes"
   ]
  },
  {
   "cell_type": "code",
   "execution_count": 10,
   "metadata": {
    "collapsed": false
   },
   "outputs": [],
   "source": [
    "feature_mat_df = (pair_df\n",
    "    .merge(prior_df)\n",
    "    .merge(compound_degree_df)\n",
    "    .merge(disease_degree_df)\n",
    "    .merge(dwpc_mat_df)\n",
    ")"
   ]
  },
  {
   "cell_type": "code",
   "execution_count": 11,
   "metadata": {
    "collapsed": false
   },
   "outputs": [
    {
     "data": {
      "text/html": [
       "<div>\n",
       "<table border=\"1\" class=\"dataframe\">\n",
       "  <thead>\n",
       "    <tr style=\"text-align: right;\">\n",
       "      <th></th>\n",
       "      <th>chemical_id</th>\n",
       "      <th>chemical_name</th>\n",
       "      <th>disease_id</th>\n",
       "      <th>disease_name</th>\n",
       "      <th>category</th>\n",
       "      <th>origin</th>\n",
       "      <th>status</th>\n",
       "      <th>prior_prob</th>\n",
       "      <th>degree_CbG</th>\n",
       "      <th>degree_CtD</th>\n",
       "      <th>degree_DaG</th>\n",
       "      <th>degree_DtC</th>\n",
       "      <th>dwpc_CbGaD</th>\n",
       "      <th>dwpc_CbGaDaGaD</th>\n",
       "      <th>dwpc_CbGaDtCtD</th>\n",
       "      <th>dwpc_CbGbCbGaD</th>\n",
       "      <th>dwpc_CbGbCtD</th>\n",
       "      <th>dwpc_CtDtCtD</th>\n",
       "    </tr>\n",
       "  </thead>\n",
       "  <tbody>\n",
       "    <tr>\n",
       "      <th>0</th>\n",
       "      <td>DB00014</td>\n",
       "      <td>NaN</td>\n",
       "      <td>DOID:0050742</td>\n",
       "      <td>NaN</td>\n",
       "      <td>NaN</td>\n",
       "      <td>train</td>\n",
       "      <td>0</td>\n",
       "      <td>0.001517</td>\n",
       "      <td>2</td>\n",
       "      <td>1</td>\n",
       "      <td>19</td>\n",
       "      <td>1</td>\n",
       "      <td>0.0</td>\n",
       "      <td>0.000000</td>\n",
       "      <td>0.0</td>\n",
       "      <td>0.000000</td>\n",
       "      <td>0.0</td>\n",
       "      <td>0.0</td>\n",
       "    </tr>\n",
       "    <tr>\n",
       "      <th>1</th>\n",
       "      <td>DB00091</td>\n",
       "      <td>NaN</td>\n",
       "      <td>DOID:0050742</td>\n",
       "      <td>NaN</td>\n",
       "      <td>NaN</td>\n",
       "      <td>train</td>\n",
       "      <td>0</td>\n",
       "      <td>0.004893</td>\n",
       "      <td>30</td>\n",
       "      <td>3</td>\n",
       "      <td>19</td>\n",
       "      <td>1</td>\n",
       "      <td>0.0</td>\n",
       "      <td>0.002658</td>\n",
       "      <td>0.0</td>\n",
       "      <td>0.008582</td>\n",
       "      <td>0.0</td>\n",
       "      <td>0.0</td>\n",
       "    </tr>\n",
       "  </tbody>\n",
       "</table>\n",
       "</div>"
      ],
      "text/plain": [
       "  chemical_id chemical_name    disease_id disease_name category origin  \\\n",
       "0     DB00014           NaN  DOID:0050742          NaN      NaN  train   \n",
       "1     DB00091           NaN  DOID:0050742          NaN      NaN  train   \n",
       "\n",
       "   status  prior_prob  degree_CbG  degree_CtD  degree_DaG  degree_DtC  \\\n",
       "0       0    0.001517           2           1          19           1   \n",
       "1       0    0.004893          30           3          19           1   \n",
       "\n",
       "   dwpc_CbGaD  dwpc_CbGaDaGaD  dwpc_CbGaDtCtD  dwpc_CbGbCbGaD  dwpc_CbGbCtD  \\\n",
       "0         0.0        0.000000             0.0        0.000000           0.0   \n",
       "1         0.0        0.002658             0.0        0.008582           0.0   \n",
       "\n",
       "   dwpc_CtDtCtD  \n",
       "0           0.0  \n",
       "1           0.0  "
      ]
     },
     "execution_count": 11,
     "metadata": {},
     "output_type": "execute_result"
    }
   ],
   "source": [
    "feature_mat_df.head(2)"
   ]
  },
  {
   "cell_type": "code",
   "execution_count": 12,
   "metadata": {
    "collapsed": false
   },
   "outputs": [
    {
     "data": {
      "text/plain": [
       "(55598, 18)"
      ]
     },
     "execution_count": 12,
     "metadata": {},
     "output_type": "execute_result"
    }
   ],
   "source": [
    "feature_mat_df.shape"
   ]
  },
  {
   "cell_type": "code",
   "execution_count": 13,
   "metadata": {
    "collapsed": false
   },
   "outputs": [
    {
     "data": {
      "text/plain": [
       "train      38889\n",
       "holdout    16709\n",
       "Name: origin, dtype: int64"
      ]
     },
     "execution_count": 13,
     "metadata": {},
     "output_type": "execute_result"
    }
   ],
   "source": [
    "feature_mat_df[\"origin\"].value_counts()"
   ]
  },
  {
   "cell_type": "code",
   "execution_count": 14,
   "metadata": {
    "collapsed": true
   },
   "outputs": [],
   "source": [
    "with bz2.open('features/features.tsv.bz2', 'wt') as write_file:\n",
    "    feature_mat_df.to_csv(write_file, sep='\\t', index=False, float_format='%.4g')"
   ]
  },
  {
   "cell_type": "markdown",
   "metadata": {},
   "source": [
    "## Transform"
   ]
  },
  {
   "cell_type": "code",
   "execution_count": 15,
   "metadata": {
    "collapsed": false
   },
   "outputs": [
    {
     "data": {
      "text/html": [
       "<div>\n",
       "<table border=\"1\" class=\"dataframe\">\n",
       "  <thead>\n",
       "    <tr style=\"text-align: right;\">\n",
       "      <th></th>\n",
       "      <th>chemical_id</th>\n",
       "      <th>chemical_name</th>\n",
       "      <th>disease_id</th>\n",
       "      <th>disease_name</th>\n",
       "      <th>category</th>\n",
       "      <th>origin</th>\n",
       "      <th>status</th>\n",
       "      <th>prior_logit</th>\n",
       "      <th>prior_prob</th>\n",
       "      <th>degree_CbG</th>\n",
       "      <th>degree_CtD</th>\n",
       "      <th>degree_DaG</th>\n",
       "      <th>degree_DtC</th>\n",
       "      <th>dwpc_CbGaD</th>\n",
       "      <th>dwpc_CbGaDaGaD</th>\n",
       "      <th>dwpc_CbGaDtCtD</th>\n",
       "      <th>dwpc_CbGbCbGaD</th>\n",
       "      <th>dwpc_CbGbCtD</th>\n",
       "      <th>dwpc_CtDtCtD</th>\n",
       "    </tr>\n",
       "  </thead>\n",
       "  <tbody>\n",
       "    <tr>\n",
       "      <th>0</th>\n",
       "      <td>DB00014</td>\n",
       "      <td>NaN</td>\n",
       "      <td>DOID:0050742</td>\n",
       "      <td>NaN</td>\n",
       "      <td>NaN</td>\n",
       "      <td>train</td>\n",
       "      <td>0</td>\n",
       "      <td>-6.489370</td>\n",
       "      <td>0.001517</td>\n",
       "      <td>-1.420283</td>\n",
       "      <td>0.303021</td>\n",
       "      <td>-1.356887</td>\n",
       "      <td>-0.730715</td>\n",
       "      <td>-0.51409</td>\n",
       "      <td>-1.333397</td>\n",
       "      <td>-0.731737</td>\n",
       "      <td>-1.014264</td>\n",
       "      <td>-0.702052</td>\n",
       "      <td>-0.295374</td>\n",
       "    </tr>\n",
       "    <tr>\n",
       "      <th>1</th>\n",
       "      <td>DB00091</td>\n",
       "      <td>NaN</td>\n",
       "      <td>DOID:0050742</td>\n",
       "      <td>NaN</td>\n",
       "      <td>NaN</td>\n",
       "      <td>train</td>\n",
       "      <td>0</td>\n",
       "      <td>-5.315024</td>\n",
       "      <td>0.004893</td>\n",
       "      <td>1.527618</td>\n",
       "      <td>1.597490</td>\n",
       "      <td>-1.356887</td>\n",
       "      <td>-0.730715</td>\n",
       "      <td>-0.51409</td>\n",
       "      <td>-0.627804</td>\n",
       "      <td>-0.731737</td>\n",
       "      <td>0.474427</td>\n",
       "      <td>-0.702052</td>\n",
       "      <td>-0.295374</td>\n",
       "    </tr>\n",
       "    <tr>\n",
       "      <th>2</th>\n",
       "      <td>DB00104</td>\n",
       "      <td>NaN</td>\n",
       "      <td>DOID:0050742</td>\n",
       "      <td>NaN</td>\n",
       "      <td>NaN</td>\n",
       "      <td>train</td>\n",
       "      <td>0</td>\n",
       "      <td>-6.489370</td>\n",
       "      <td>0.001517</td>\n",
       "      <td>-0.254745</td>\n",
       "      <td>0.303021</td>\n",
       "      <td>-1.356887</td>\n",
       "      <td>-0.730715</td>\n",
       "      <td>-0.51409</td>\n",
       "      <td>-0.330297</td>\n",
       "      <td>-0.731737</td>\n",
       "      <td>-1.014264</td>\n",
       "      <td>-0.702052</td>\n",
       "      <td>-0.295374</td>\n",
       "    </tr>\n",
       "  </tbody>\n",
       "</table>\n",
       "</div>"
      ],
      "text/plain": [
       "  chemical_id chemical_name    disease_id disease_name category origin  \\\n",
       "0     DB00014           NaN  DOID:0050742          NaN      NaN  train   \n",
       "1     DB00091           NaN  DOID:0050742          NaN      NaN  train   \n",
       "2     DB00104           NaN  DOID:0050742          NaN      NaN  train   \n",
       "\n",
       "   status  prior_logit  prior_prob  degree_CbG  degree_CtD  degree_DaG  \\\n",
       "0       0    -6.489370    0.001517   -1.420283    0.303021   -1.356887   \n",
       "1       0    -5.315024    0.004893    1.527618    1.597490   -1.356887   \n",
       "2       0    -6.489370    0.001517   -0.254745    0.303021   -1.356887   \n",
       "\n",
       "   degree_DtC  dwpc_CbGaD  dwpc_CbGaDaGaD  dwpc_CbGaDtCtD  dwpc_CbGbCbGaD  \\\n",
       "0   -0.730715    -0.51409       -1.333397       -0.731737       -1.014264   \n",
       "1   -0.730715    -0.51409       -0.627804       -0.731737        0.474427   \n",
       "2   -0.730715    -0.51409       -0.330297       -0.731737       -1.014264   \n",
       "\n",
       "   dwpc_CbGbCtD  dwpc_CtDtCtD  \n",
       "0     -0.702052     -0.295374  \n",
       "1     -0.702052     -0.295374  \n",
       "2     -0.702052     -0.295374  "
      ]
     },
     "execution_count": 15,
     "metadata": {},
     "output_type": "execute_result"
    }
   ],
   "source": [
    "trans_df = feature_mat_df.copy()\n",
    "degree_features = list(trans_df.columns[trans_df.columns.str.startswith('degree_')])\n",
    "dwpc_features = list(trans_df.columns[trans_df.columns.str.startswith('dwpc_')])\n",
    "\n",
    "# Transform prior\n",
    "trans_df.insert(7, 'prior_logit', logit(trans_df.prior_prob))\n",
    "\n",
    "# Transform degree features\n",
    "for feature in degree_features:\n",
    "    trans_df[feature] = numpy.arcsinh(trans_df[feature])\n",
    "\n",
    "# Transform DWPC features\n",
    "for feature in dwpc_features:\n",
    "    x = trans_df[feature]\n",
    "    trans_df[feature] = numpy.arcsinh(x / x.mean())\n",
    "\n",
    "# Standardize all features besides the prior\n",
    "for feature in degree_features + dwpc_features:\n",
    "    x = trans_df[feature]\n",
    "    trans_df[feature] = (x - x.mean()) / x.std()\n",
    "\n",
    "trans_df.head(3)"
   ]
  },
  {
   "cell_type": "code",
   "execution_count": 16,
   "metadata": {
    "collapsed": false
   },
   "outputs": [],
   "source": [
    "with bz2.open('features/transformed-features.tsv.bz2', 'wt') as write_file:\n",
    "    trans_df.to_csv(write_file, sep='\\t', index=False, float_format='%.4g')"
   ]
  }
 ],
 "metadata": {
  "kernelspec": {
   "display_name": "Python 3",
   "language": "python",
   "name": "python3"
  },
  "language_info": {
   "codemirror_mode": {
    "name": "ipython",
    "version": 3
   },
   "file_extension": ".py",
   "mimetype": "text/x-python",
   "name": "python",
   "nbconvert_exporter": "python",
   "pygments_lexer": "ipython3",
   "version": "3.5.2"
  }
 },
 "nbformat": 4,
 "nbformat_minor": 0
}
