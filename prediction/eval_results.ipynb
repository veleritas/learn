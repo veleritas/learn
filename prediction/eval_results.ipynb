{
 "cells": [
  {
   "cell_type": "code",
   "execution_count": 1,
   "metadata": {
    "collapsed": true
   },
   "outputs": [],
   "source": [
    "import pandas as pd\n",
    "import numpy as np\n",
    "import matplotlib as plt\n",
    "import seaborn as sns\n",
    "\n",
    "%matplotlib inline"
   ]
  },
  {
   "cell_type": "markdown",
   "metadata": {},
   "source": [
    "## Read prediction results"
   ]
  },
  {
   "cell_type": "code",
   "execution_count": 2,
   "metadata": {
    "collapsed": true
   },
   "outputs": [],
   "source": [
    "test_res = pd.read_csv(\"results.tsv\", sep = '\\t')"
   ]
  },
  {
   "cell_type": "code",
   "execution_count": 3,
   "metadata": {
    "collapsed": false
   },
   "outputs": [
    {
     "data": {
      "text/plain": [
       "(16709, 17)"
      ]
     },
     "execution_count": 3,
     "metadata": {},
     "output_type": "execute_result"
    }
   ],
   "source": [
    "test_res.shape"
   ]
  },
  {
   "cell_type": "code",
   "execution_count": 4,
   "metadata": {
    "collapsed": false
   },
   "outputs": [
    {
     "data": {
      "text/html": [
       "<div>\n",
       "<table border=\"1\" class=\"dataframe\">\n",
       "  <thead>\n",
       "    <tr style=\"text-align: right;\">\n",
       "      <th></th>\n",
       "      <th>chemical_id</th>\n",
       "      <th>chemical_name</th>\n",
       "      <th>disease_id</th>\n",
       "      <th>disease_name</th>\n",
       "      <th>category</th>\n",
       "      <th>origin</th>\n",
       "      <th>status</th>\n",
       "      <th>prior_logit</th>\n",
       "      <th>prior_prob</th>\n",
       "      <th>degree_CbG</th>\n",
       "      <th>degree_DaG</th>\n",
       "      <th>dwpc_CbGaD</th>\n",
       "      <th>dwpc_CbGaDaGaD</th>\n",
       "      <th>dwpc_CbGbCbGaD</th>\n",
       "      <th>dwpc_CbGbCtD</th>\n",
       "      <th>dwpc_CtDtCtD</th>\n",
       "      <th>predicted_value</th>\n",
       "    </tr>\n",
       "  </thead>\n",
       "  <tbody>\n",
       "    <tr>\n",
       "      <th>0</th>\n",
       "      <td>DB00014</td>\n",
       "      <td>NaN</td>\n",
       "      <td>DOID:10283</td>\n",
       "      <td>NaN</td>\n",
       "      <td>NaN</td>\n",
       "      <td>holdout</td>\n",
       "      <td>0</td>\n",
       "      <td>-3.666000</td>\n",
       "      <td>0.02494</td>\n",
       "      <td>-1.4200</td>\n",
       "      <td>1.91</td>\n",
       "      <td>-0.5141</td>\n",
       "      <td>0.5407</td>\n",
       "      <td>-0.7589</td>\n",
       "      <td>-0.7021</td>\n",
       "      <td>-0.2954</td>\n",
       "      <td>0.011752</td>\n",
       "    </tr>\n",
       "    <tr>\n",
       "      <th>1</th>\n",
       "      <td>DB00091</td>\n",
       "      <td>NaN</td>\n",
       "      <td>DOID:10283</td>\n",
       "      <td>NaN</td>\n",
       "      <td>NaN</td>\n",
       "      <td>holdout</td>\n",
       "      <td>0</td>\n",
       "      <td>-2.491000</td>\n",
       "      <td>0.07648</td>\n",
       "      <td>1.5280</td>\n",
       "      <td>1.91</td>\n",
       "      <td>2.2390</td>\n",
       "      <td>1.5820</td>\n",
       "      <td>2.5810</td>\n",
       "      <td>2.5800</td>\n",
       "      <td>0.9558</td>\n",
       "      <td>0.107668</td>\n",
       "    </tr>\n",
       "    <tr>\n",
       "      <th>2</th>\n",
       "      <td>DB00136</td>\n",
       "      <td>NaN</td>\n",
       "      <td>DOID:10283</td>\n",
       "      <td>NaN</td>\n",
       "      <td>NaN</td>\n",
       "      <td>holdout</td>\n",
       "      <td>0</td>\n",
       "      <td>-2.934000</td>\n",
       "      <td>0.05051</td>\n",
       "      <td>-0.6963</td>\n",
       "      <td>1.91</td>\n",
       "      <td>1.7040</td>\n",
       "      <td>1.1920</td>\n",
       "      <td>0.8969</td>\n",
       "      <td>0.3356</td>\n",
       "      <td>3.7720</td>\n",
       "      <td>0.073751</td>\n",
       "    </tr>\n",
       "    <tr>\n",
       "      <th>3</th>\n",
       "      <td>DB00158</td>\n",
       "      <td>NaN</td>\n",
       "      <td>DOID:10283</td>\n",
       "      <td>NaN</td>\n",
       "      <td>NaN</td>\n",
       "      <td>holdout</td>\n",
       "      <td>0</td>\n",
       "      <td>-inf</td>\n",
       "      <td>0.00000</td>\n",
       "      <td>0.5103</td>\n",
       "      <td>1.91</td>\n",
       "      <td>1.1520</td>\n",
       "      <td>1.3610</td>\n",
       "      <td>1.6470</td>\n",
       "      <td>0.5575</td>\n",
       "      <td>-0.2954</td>\n",
       "      <td>0.027035</td>\n",
       "    </tr>\n",
       "    <tr>\n",
       "      <th>4</th>\n",
       "      <td>DB00177</td>\n",
       "      <td>NaN</td>\n",
       "      <td>DOID:10283</td>\n",
       "      <td>NaN</td>\n",
       "      <td>NaN</td>\n",
       "      <td>holdout</td>\n",
       "      <td>0</td>\n",
       "      <td>-2.934000</td>\n",
       "      <td>0.05051</td>\n",
       "      <td>-0.4542</td>\n",
       "      <td>1.91</td>\n",
       "      <td>-0.5141</td>\n",
       "      <td>1.1140</td>\n",
       "      <td>1.1050</td>\n",
       "      <td>1.4500</td>\n",
       "      <td>-0.2954</td>\n",
       "      <td>0.028501</td>\n",
       "    </tr>\n",
       "  </tbody>\n",
       "</table>\n",
       "</div>"
      ],
      "text/plain": [
       "  chemical_id chemical_name  disease_id disease_name  category   origin  \\\n",
       "0     DB00014           NaN  DOID:10283          NaN       NaN  holdout   \n",
       "1     DB00091           NaN  DOID:10283          NaN       NaN  holdout   \n",
       "2     DB00136           NaN  DOID:10283          NaN       NaN  holdout   \n",
       "3     DB00158           NaN  DOID:10283          NaN       NaN  holdout   \n",
       "4     DB00177           NaN  DOID:10283          NaN       NaN  holdout   \n",
       "\n",
       "   status  prior_logit  prior_prob  degree_CbG  degree_DaG  dwpc_CbGaD  \\\n",
       "0       0    -3.666000     0.02494     -1.4200        1.91     -0.5141   \n",
       "1       0    -2.491000     0.07648      1.5280        1.91      2.2390   \n",
       "2       0    -2.934000     0.05051     -0.6963        1.91      1.7040   \n",
       "3       0         -inf     0.00000      0.5103        1.91      1.1520   \n",
       "4       0    -2.934000     0.05051     -0.4542        1.91     -0.5141   \n",
       "\n",
       "   dwpc_CbGaDaGaD  dwpc_CbGbCbGaD  dwpc_CbGbCtD  dwpc_CtDtCtD  predicted_value  \n",
       "0          0.5407         -0.7589       -0.7021       -0.2954         0.011752  \n",
       "1          1.5820          2.5810        2.5800        0.9558         0.107668  \n",
       "2          1.1920          0.8969        0.3356        3.7720         0.073751  \n",
       "3          1.3610          1.6470        0.5575       -0.2954         0.027035  \n",
       "4          1.1140          1.1050        1.4500       -0.2954         0.028501  "
      ]
     },
     "execution_count": 4,
     "metadata": {},
     "output_type": "execute_result"
    }
   ],
   "source": [
    "test_res.head()"
   ]
  },
  {
   "cell_type": "markdown",
   "metadata": {},
   "source": [
    "## Read holdout set"
   ]
  },
  {
   "cell_type": "code",
   "execution_count": 5,
   "metadata": {
    "collapsed": true
   },
   "outputs": [],
   "source": [
    "with open(\"../../crossval_idx.txt\", \"r\") as fin:\n",
    "    holdout_idx = int(fin.readline().strip())"
   ]
  },
  {
   "cell_type": "code",
   "execution_count": 6,
   "metadata": {
    "collapsed": false
   },
   "outputs": [
    {
     "data": {
      "text/plain": [
       "0"
      ]
     },
     "execution_count": 6,
     "metadata": {},
     "output_type": "execute_result"
    }
   ],
   "source": [
    "holdout_idx"
   ]
  },
  {
   "cell_type": "code",
   "execution_count": 7,
   "metadata": {
    "collapsed": false
   },
   "outputs": [],
   "source": [
    "holdout = pd.read_csv(\"../../../crossval/data/holdout/holdout_piece{}.tsv\".format(holdout_idx), sep = '\\t')"
   ]
  },
  {
   "cell_type": "code",
   "execution_count": 8,
   "metadata": {
    "collapsed": false
   },
   "outputs": [
    {
     "data": {
      "text/plain": [
       "(16786, 6)"
      ]
     },
     "execution_count": 8,
     "metadata": {},
     "output_type": "execute_result"
    }
   ],
   "source": [
    "holdout.shape"
   ]
  },
  {
   "cell_type": "code",
   "execution_count": 9,
   "metadata": {
    "collapsed": false
   },
   "outputs": [
    {
     "data": {
      "text/html": [
       "<div>\n",
       "<table border=\"1\" class=\"dataframe\">\n",
       "  <thead>\n",
       "    <tr style=\"text-align: right;\">\n",
       "      <th></th>\n",
       "      <th>chemical_id</th>\n",
       "      <th>disease_id</th>\n",
       "      <th>disease_name</th>\n",
       "      <th>chemical_name</th>\n",
       "      <th>category</th>\n",
       "      <th>piece</th>\n",
       "    </tr>\n",
       "  </thead>\n",
       "  <tbody>\n",
       "    <tr>\n",
       "      <th>0</th>\n",
       "      <td>DB00014</td>\n",
       "      <td>DOID:0050156</td>\n",
       "      <td>NaN</td>\n",
       "      <td>NaN</td>\n",
       "      <td>NaN</td>\n",
       "      <td>NaN</td>\n",
       "    </tr>\n",
       "    <tr>\n",
       "      <th>1</th>\n",
       "      <td>DB00014</td>\n",
       "      <td>DOID:0050425</td>\n",
       "      <td>NaN</td>\n",
       "      <td>NaN</td>\n",
       "      <td>NaN</td>\n",
       "      <td>NaN</td>\n",
       "    </tr>\n",
       "    <tr>\n",
       "      <th>2</th>\n",
       "      <td>DB00014</td>\n",
       "      <td>DOID:0050741</td>\n",
       "      <td>NaN</td>\n",
       "      <td>NaN</td>\n",
       "      <td>NaN</td>\n",
       "      <td>NaN</td>\n",
       "    </tr>\n",
       "    <tr>\n",
       "      <th>3</th>\n",
       "      <td>DB00014</td>\n",
       "      <td>DOID:1024</td>\n",
       "      <td>NaN</td>\n",
       "      <td>NaN</td>\n",
       "      <td>NaN</td>\n",
       "      <td>NaN</td>\n",
       "    </tr>\n",
       "    <tr>\n",
       "      <th>4</th>\n",
       "      <td>DB00014</td>\n",
       "      <td>DOID:10283</td>\n",
       "      <td>NaN</td>\n",
       "      <td>NaN</td>\n",
       "      <td>NaN</td>\n",
       "      <td>NaN</td>\n",
       "    </tr>\n",
       "  </tbody>\n",
       "</table>\n",
       "</div>"
      ],
      "text/plain": [
       "  chemical_id    disease_id disease_name chemical_name category  piece\n",
       "0     DB00014  DOID:0050156          NaN           NaN      NaN    NaN\n",
       "1     DB00014  DOID:0050425          NaN           NaN      NaN    NaN\n",
       "2     DB00014  DOID:0050741          NaN           NaN      NaN    NaN\n",
       "3     DB00014     DOID:1024          NaN           NaN      NaN    NaN\n",
       "4     DB00014    DOID:10283          NaN           NaN      NaN    NaN"
      ]
     },
     "execution_count": 9,
     "metadata": {},
     "output_type": "execute_result"
    }
   ],
   "source": [
    "holdout.head()"
   ]
  },
  {
   "cell_type": "code",
   "execution_count": 10,
   "metadata": {
    "collapsed": false
   },
   "outputs": [
    {
     "data": {
      "text/plain": [
       "DM     163\n",
       "SYM     79\n",
       "NOT     49\n",
       "Name: category, dtype: int64"
      ]
     },
     "execution_count": 10,
     "metadata": {},
     "output_type": "execute_result"
    }
   ],
   "source": [
    "holdout[\"category\"].value_counts()"
   ]
  },
  {
   "cell_type": "markdown",
   "metadata": {},
   "source": [
    "---"
   ]
  },
  {
   "cell_type": "code",
   "execution_count": 11,
   "metadata": {
    "collapsed": true
   },
   "outputs": [],
   "source": [
    "def df_to_pairs(df, chem = \"chemical_id\", dise = \"disease_id\"):\n",
    "    return set(zip(df[chem], df[dise]))"
   ]
  },
  {
   "cell_type": "code",
   "execution_count": 12,
   "metadata": {
    "collapsed": true
   },
   "outputs": [],
   "source": [
    "holdout_p = df_to_pairs(holdout)\n",
    "\n",
    "test_res_p = df_to_pairs(test_res, chem = \"chemical_id\", dise = \"disease_id\")"
   ]
  },
  {
   "cell_type": "code",
   "execution_count": 13,
   "metadata": {
    "collapsed": false
   },
   "outputs": [
    {
     "data": {
      "text/plain": [
       "True"
      ]
     },
     "execution_count": 13,
     "metadata": {},
     "output_type": "execute_result"
    }
   ],
   "source": [
    "holdout_p >= test_res_p"
   ]
  },
  {
   "cell_type": "code",
   "execution_count": 14,
   "metadata": {
    "collapsed": false,
    "scrolled": true
   },
   "outputs": [],
   "source": [
    "missing_p = holdout_p - test_res_p"
   ]
  },
  {
   "cell_type": "code",
   "execution_count": 15,
   "metadata": {
    "collapsed": false
   },
   "outputs": [
    {
     "data": {
      "text/plain": [
       "77"
      ]
     },
     "execution_count": 15,
     "metadata": {},
     "output_type": "execute_result"
    }
   ],
   "source": [
    "len(missing_p)"
   ]
  },
  {
   "cell_type": "code",
   "execution_count": 16,
   "metadata": {
    "collapsed": false
   },
   "outputs": [],
   "source": [
    "missing = (pd\n",
    "    .DataFrame(list(missing_p), columns = [\"chemical_id\", \"disease_id\"])\n",
    "    .merge(holdout, how = \"left\", on = [\"chemical_id\", \"disease_id\"])\n",
    ")"
   ]
  },
  {
   "cell_type": "code",
   "execution_count": 17,
   "metadata": {
    "collapsed": false
   },
   "outputs": [
    {
     "data": {
      "text/plain": [
       "(77, 6)"
      ]
     },
     "execution_count": 17,
     "metadata": {},
     "output_type": "execute_result"
    }
   ],
   "source": [
    "missing.shape"
   ]
  },
  {
   "cell_type": "code",
   "execution_count": 18,
   "metadata": {
    "collapsed": false
   },
   "outputs": [
    {
     "data": {
      "text/plain": [
       "DM    1\n",
       "Name: category, dtype: int64"
      ]
     },
     "execution_count": 18,
     "metadata": {},
     "output_type": "execute_result"
    }
   ],
   "source": [
    "missing[\"category\"].value_counts()"
   ]
  },
  {
   "cell_type": "markdown",
   "metadata": {},
   "source": [
    "Some relations missing from the predicted results, but only contains one disease modifying treatment, so it's no big deal."
   ]
  },
  {
   "cell_type": "markdown",
   "metadata": {},
   "source": [
    "---"
   ]
  },
  {
   "cell_type": "code",
   "execution_count": 19,
   "metadata": {
    "collapsed": false
   },
   "outputs": [],
   "source": [
    "info = holdout[[\"chemical_id\", \"disease_id\", \"category\"]]"
   ]
  },
  {
   "cell_type": "code",
   "execution_count": 20,
   "metadata": {
    "collapsed": false
   },
   "outputs": [],
   "source": [
    "test_res = (test_res\n",
    "    .drop([\"chemical_name\", \"disease_name\", \"category\", \"status\"], axis = 1)\n",
    "    .merge(info, how = \"left\", on = [\"chemical_id\", \"disease_id\"])\n",
    ")    "
   ]
  },
  {
   "cell_type": "code",
   "execution_count": 21,
   "metadata": {
    "collapsed": false
   },
   "outputs": [
    {
     "data": {
      "text/html": [
       "<div>\n",
       "<table border=\"1\" class=\"dataframe\">\n",
       "  <thead>\n",
       "    <tr style=\"text-align: right;\">\n",
       "      <th></th>\n",
       "      <th>chemical_id</th>\n",
       "      <th>disease_id</th>\n",
       "      <th>origin</th>\n",
       "      <th>prior_logit</th>\n",
       "      <th>prior_prob</th>\n",
       "      <th>degree_CbG</th>\n",
       "      <th>degree_DaG</th>\n",
       "      <th>dwpc_CbGaD</th>\n",
       "      <th>dwpc_CbGaDaGaD</th>\n",
       "      <th>dwpc_CbGbCbGaD</th>\n",
       "      <th>dwpc_CbGbCtD</th>\n",
       "      <th>dwpc_CtDtCtD</th>\n",
       "      <th>predicted_value</th>\n",
       "      <th>category</th>\n",
       "    </tr>\n",
       "  </thead>\n",
       "  <tbody>\n",
       "    <tr>\n",
       "      <th>0</th>\n",
       "      <td>DB00014</td>\n",
       "      <td>DOID:10283</td>\n",
       "      <td>holdout</td>\n",
       "      <td>-3.666000</td>\n",
       "      <td>0.02494</td>\n",
       "      <td>-1.4200</td>\n",
       "      <td>1.91</td>\n",
       "      <td>-0.5141</td>\n",
       "      <td>0.5407</td>\n",
       "      <td>-0.7589</td>\n",
       "      <td>-0.7021</td>\n",
       "      <td>-0.2954</td>\n",
       "      <td>0.011752</td>\n",
       "      <td>NaN</td>\n",
       "    </tr>\n",
       "    <tr>\n",
       "      <th>1</th>\n",
       "      <td>DB00091</td>\n",
       "      <td>DOID:10283</td>\n",
       "      <td>holdout</td>\n",
       "      <td>-2.491000</td>\n",
       "      <td>0.07648</td>\n",
       "      <td>1.5280</td>\n",
       "      <td>1.91</td>\n",
       "      <td>2.2390</td>\n",
       "      <td>1.5820</td>\n",
       "      <td>2.5810</td>\n",
       "      <td>2.5800</td>\n",
       "      <td>0.9558</td>\n",
       "      <td>0.107668</td>\n",
       "      <td>NaN</td>\n",
       "    </tr>\n",
       "    <tr>\n",
       "      <th>2</th>\n",
       "      <td>DB00136</td>\n",
       "      <td>DOID:10283</td>\n",
       "      <td>holdout</td>\n",
       "      <td>-2.934000</td>\n",
       "      <td>0.05051</td>\n",
       "      <td>-0.6963</td>\n",
       "      <td>1.91</td>\n",
       "      <td>1.7040</td>\n",
       "      <td>1.1920</td>\n",
       "      <td>0.8969</td>\n",
       "      <td>0.3356</td>\n",
       "      <td>3.7720</td>\n",
       "      <td>0.073751</td>\n",
       "      <td>NaN</td>\n",
       "    </tr>\n",
       "    <tr>\n",
       "      <th>3</th>\n",
       "      <td>DB00158</td>\n",
       "      <td>DOID:10283</td>\n",
       "      <td>holdout</td>\n",
       "      <td>-inf</td>\n",
       "      <td>0.00000</td>\n",
       "      <td>0.5103</td>\n",
       "      <td>1.91</td>\n",
       "      <td>1.1520</td>\n",
       "      <td>1.3610</td>\n",
       "      <td>1.6470</td>\n",
       "      <td>0.5575</td>\n",
       "      <td>-0.2954</td>\n",
       "      <td>0.027035</td>\n",
       "      <td>NaN</td>\n",
       "    </tr>\n",
       "    <tr>\n",
       "      <th>4</th>\n",
       "      <td>DB00177</td>\n",
       "      <td>DOID:10283</td>\n",
       "      <td>holdout</td>\n",
       "      <td>-2.934000</td>\n",
       "      <td>0.05051</td>\n",
       "      <td>-0.4542</td>\n",
       "      <td>1.91</td>\n",
       "      <td>-0.5141</td>\n",
       "      <td>1.1140</td>\n",
       "      <td>1.1050</td>\n",
       "      <td>1.4500</td>\n",
       "      <td>-0.2954</td>\n",
       "      <td>0.028501</td>\n",
       "      <td>NaN</td>\n",
       "    </tr>\n",
       "  </tbody>\n",
       "</table>\n",
       "</div>"
      ],
      "text/plain": [
       "  chemical_id  disease_id   origin  prior_logit  prior_prob  degree_CbG  \\\n",
       "0     DB00014  DOID:10283  holdout    -3.666000     0.02494     -1.4200   \n",
       "1     DB00091  DOID:10283  holdout    -2.491000     0.07648      1.5280   \n",
       "2     DB00136  DOID:10283  holdout    -2.934000     0.05051     -0.6963   \n",
       "3     DB00158  DOID:10283  holdout         -inf     0.00000      0.5103   \n",
       "4     DB00177  DOID:10283  holdout    -2.934000     0.05051     -0.4542   \n",
       "\n",
       "   degree_DaG  dwpc_CbGaD  dwpc_CbGaDaGaD  dwpc_CbGbCbGaD  dwpc_CbGbCtD  \\\n",
       "0        1.91     -0.5141          0.5407         -0.7589       -0.7021   \n",
       "1        1.91      2.2390          1.5820          2.5810        2.5800   \n",
       "2        1.91      1.7040          1.1920          0.8969        0.3356   \n",
       "3        1.91      1.1520          1.3610          1.6470        0.5575   \n",
       "4        1.91     -0.5141          1.1140          1.1050        1.4500   \n",
       "\n",
       "   dwpc_CtDtCtD  predicted_value category  \n",
       "0       -0.2954         0.011752      NaN  \n",
       "1        0.9558         0.107668      NaN  \n",
       "2        3.7720         0.073751      NaN  \n",
       "3       -0.2954         0.027035      NaN  \n",
       "4       -0.2954         0.028501      NaN  "
      ]
     },
     "execution_count": 21,
     "metadata": {},
     "output_type": "execute_result"
    }
   ],
   "source": [
    "test_res.head()"
   ]
  },
  {
   "cell_type": "code",
   "execution_count": 22,
   "metadata": {
    "collapsed": false
   },
   "outputs": [
    {
     "data": {
      "text/plain": [
       "(16709, 14)"
      ]
     },
     "execution_count": 22,
     "metadata": {},
     "output_type": "execute_result"
    }
   ],
   "source": [
    "test_res.shape"
   ]
  },
  {
   "cell_type": "code",
   "execution_count": 23,
   "metadata": {
    "collapsed": false
   },
   "outputs": [
    {
     "name": "stderr",
     "output_type": "stream",
     "text": [
      "/home/tongli/anaconda3/envs/integrate/lib/python3.5/site-packages/statsmodels/nonparametric/kdetools.py:20: VisibleDeprecationWarning: using a non-integer number instead of an integer will result in an error in the future\n",
      "  y = X[:m/2+1] + np.r_[0,X[m/2+1:],0]*1j\n"
     ]
    },
    {
     "data": {
      "text/plain": [
       "<matplotlib.axes._subplots.AxesSubplot at 0x7f09d71a50b8>"
      ]
     },
     "execution_count": 23,
     "metadata": {},
     "output_type": "execute_result"
    },
    {
     "name": "stderr",
     "output_type": "stream",
     "text": [
      "/home/tongli/anaconda3/envs/integrate/lib/python3.5/site-packages/matplotlib/font_manager.py:1297: UserWarning: findfont: Font family ['sans-serif'] not found. Falling back to DejaVu Sans\n",
      "  (prop.get_family(), self.defaultFamily[fontext]))\n"
     ]
    },
    {
     "data": {
      "image/png": "[encoded data removed]",
      "text/plain": [
       "<matplotlib.figure.Figure at 0x7f09d7400d68>"
      ]
     },
     "metadata": {},
     "output_type": "display_data"
    }
   ],
   "source": [
    "sns.distplot(test_res[\"predicted_value\"])"
   ]
  },
  {
   "cell_type": "code",
   "execution_count": 24,
   "metadata": {
    "collapsed": true
   },
   "outputs": [],
   "source": [
    "test_res = test_res.sort_values(\"predicted_value\", ascending = False)"
   ]
  },
  {
   "cell_type": "code",
   "execution_count": 25,
   "metadata": {
    "collapsed": false
   },
   "outputs": [
    {
     "data": {
      "text/html": [
       "<div>\n",
       "<table border=\"1\" class=\"dataframe\">\n",
       "  <thead>\n",
       "    <tr style=\"text-align: right;\">\n",
       "      <th></th>\n",
       "      <th>chemical_id</th>\n",
       "      <th>disease_id</th>\n",
       "      <th>origin</th>\n",
       "      <th>prior_logit</th>\n",
       "      <th>prior_prob</th>\n",
       "      <th>degree_CbG</th>\n",
       "      <th>degree_DaG</th>\n",
       "      <th>dwpc_CbGaD</th>\n",
       "      <th>dwpc_CbGaDaGaD</th>\n",
       "      <th>dwpc_CbGbCbGaD</th>\n",
       "      <th>dwpc_CbGbCtD</th>\n",
       "      <th>dwpc_CtDtCtD</th>\n",
       "      <th>predicted_value</th>\n",
       "      <th>category</th>\n",
       "    </tr>\n",
       "  </thead>\n",
       "  <tbody>\n",
       "    <tr>\n",
       "      <th>2697</th>\n",
       "      <td>DB00884</td>\n",
       "      <td>DOID:11476</td>\n",
       "      <td>holdout</td>\n",
       "      <td>-3.825000</td>\n",
       "      <td>0.021360</td>\n",
       "      <td>-1.4200</td>\n",
       "      <td>0.2483</td>\n",
       "      <td>3.8660</td>\n",
       "      <td>-0.2986</td>\n",
       "      <td>-0.6473</td>\n",
       "      <td>4.639</td>\n",
       "      <td>5.4620</td>\n",
       "      <td>0.738195</td>\n",
       "      <td>DM</td>\n",
       "    </tr>\n",
       "    <tr>\n",
       "      <th>6002</th>\n",
       "      <td>DB01583</td>\n",
       "      <td>DOID:1459</td>\n",
       "      <td>holdout</td>\n",
       "      <td>-inf</td>\n",
       "      <td>0.000000</td>\n",
       "      <td>0.8967</td>\n",
       "      <td>-0.5354</td>\n",
       "      <td>4.7880</td>\n",
       "      <td>-0.2269</td>\n",
       "      <td>3.3190</td>\n",
       "      <td>5.652</td>\n",
       "      <td>-0.2954</td>\n",
       "      <td>0.586228</td>\n",
       "      <td>DM</td>\n",
       "    </tr>\n",
       "    <tr>\n",
       "      <th>2638</th>\n",
       "      <td>DB00399</td>\n",
       "      <td>DOID:11476</td>\n",
       "      <td>holdout</td>\n",
       "      <td>-3.094000</td>\n",
       "      <td>0.043370</td>\n",
       "      <td>-0.2547</td>\n",
       "      <td>0.2483</td>\n",
       "      <td>3.6380</td>\n",
       "      <td>-0.9471</td>\n",
       "      <td>-0.1689</td>\n",
       "      <td>3.886</td>\n",
       "      <td>4.6370</td>\n",
       "      <td>0.570612</td>\n",
       "      <td>NaN</td>\n",
       "    </tr>\n",
       "    <tr>\n",
       "      <th>13087</th>\n",
       "      <td>DB00630</td>\n",
       "      <td>DOID:5408</td>\n",
       "      <td>holdout</td>\n",
       "      <td>-4.845000</td>\n",
       "      <td>0.007803</td>\n",
       "      <td>-0.4542</td>\n",
       "      <td>-1.5250</td>\n",
       "      <td>-0.5141</td>\n",
       "      <td>-0.8001</td>\n",
       "      <td>-1.0140</td>\n",
       "      <td>5.611</td>\n",
       "      <td>5.0000</td>\n",
       "      <td>0.570240</td>\n",
       "      <td>DM</td>\n",
       "    </tr>\n",
       "    <tr>\n",
       "      <th>2053</th>\n",
       "      <td>DB00958</td>\n",
       "      <td>DOID:11054</td>\n",
       "      <td>holdout</td>\n",
       "      <td>-2.140000</td>\n",
       "      <td>0.105300</td>\n",
       "      <td>0.7578</td>\n",
       "      <td>0.4546</td>\n",
       "      <td>4.3490</td>\n",
       "      <td>2.5150</td>\n",
       "      <td>3.2220</td>\n",
       "      <td>3.779</td>\n",
       "      <td>4.3680</td>\n",
       "      <td>0.527425</td>\n",
       "      <td>NaN</td>\n",
       "    </tr>\n",
       "  </tbody>\n",
       "</table>\n",
       "</div>"
      ],
      "text/plain": [
       "      chemical_id  disease_id   origin  prior_logit  prior_prob  degree_CbG  \\\n",
       "2697      DB00884  DOID:11476  holdout    -3.825000    0.021360     -1.4200   \n",
       "6002      DB01583   DOID:1459  holdout         -inf    0.000000      0.8967   \n",
       "2638      DB00399  DOID:11476  holdout    -3.094000    0.043370     -0.2547   \n",
       "13087     DB00630   DOID:5408  holdout    -4.845000    0.007803     -0.4542   \n",
       "2053      DB00958  DOID:11054  holdout    -2.140000    0.105300      0.7578   \n",
       "\n",
       "       degree_DaG  dwpc_CbGaD  dwpc_CbGaDaGaD  dwpc_CbGbCbGaD  dwpc_CbGbCtD  \\\n",
       "2697       0.2483      3.8660         -0.2986         -0.6473         4.639   \n",
       "6002      -0.5354      4.7880         -0.2269          3.3190         5.652   \n",
       "2638       0.2483      3.6380         -0.9471         -0.1689         3.886   \n",
       "13087     -1.5250     -0.5141         -0.8001         -1.0140         5.611   \n",
       "2053       0.4546      4.3490          2.5150          3.2220         3.779   \n",
       "\n",
       "       dwpc_CtDtCtD  predicted_value category  \n",
       "2697         5.4620         0.738195       DM  \n",
       "6002        -0.2954         0.586228       DM  \n",
       "2638         4.6370         0.570612      NaN  \n",
       "13087        5.0000         0.570240       DM  \n",
       "2053         4.3680         0.527425      NaN  "
      ]
     },
     "execution_count": 25,
     "metadata": {},
     "output_type": "execute_result"
    }
   ],
   "source": [
    "test_res.head()"
   ]
  },
  {
   "cell_type": "code",
   "execution_count": 26,
   "metadata": {
    "collapsed": true
   },
   "outputs": [],
   "source": [
    "test_res[\"true_label\"] = (test_res[\"category\"] == \"DM\").astype(int)"
   ]
  },
  {
   "cell_type": "code",
   "execution_count": 27,
   "metadata": {
    "collapsed": false
   },
   "outputs": [
    {
     "data": {
      "text/html": [
       "<div>\n",
       "<table border=\"1\" class=\"dataframe\">\n",
       "  <thead>\n",
       "    <tr style=\"text-align: right;\">\n",
       "      <th></th>\n",
       "      <th>chemical_id</th>\n",
       "      <th>disease_id</th>\n",
       "      <th>origin</th>\n",
       "      <th>prior_logit</th>\n",
       "      <th>prior_prob</th>\n",
       "      <th>degree_CbG</th>\n",
       "      <th>degree_DaG</th>\n",
       "      <th>dwpc_CbGaD</th>\n",
       "      <th>dwpc_CbGaDaGaD</th>\n",
       "      <th>dwpc_CbGbCbGaD</th>\n",
       "      <th>dwpc_CbGbCtD</th>\n",
       "      <th>dwpc_CtDtCtD</th>\n",
       "      <th>predicted_value</th>\n",
       "      <th>category</th>\n",
       "      <th>true_label</th>\n",
       "    </tr>\n",
       "  </thead>\n",
       "  <tbody>\n",
       "    <tr>\n",
       "      <th>2697</th>\n",
       "      <td>DB00884</td>\n",
       "      <td>DOID:11476</td>\n",
       "      <td>holdout</td>\n",
       "      <td>-3.825000</td>\n",
       "      <td>0.021360</td>\n",
       "      <td>-1.4200</td>\n",
       "      <td>0.2483</td>\n",
       "      <td>3.8660</td>\n",
       "      <td>-0.2986</td>\n",
       "      <td>-0.6473</td>\n",
       "      <td>4.639</td>\n",
       "      <td>5.4620</td>\n",
       "      <td>0.738195</td>\n",
       "      <td>DM</td>\n",
       "      <td>1</td>\n",
       "    </tr>\n",
       "    <tr>\n",
       "      <th>6002</th>\n",
       "      <td>DB01583</td>\n",
       "      <td>DOID:1459</td>\n",
       "      <td>holdout</td>\n",
       "      <td>-inf</td>\n",
       "      <td>0.000000</td>\n",
       "      <td>0.8967</td>\n",
       "      <td>-0.5354</td>\n",
       "      <td>4.7880</td>\n",
       "      <td>-0.2269</td>\n",
       "      <td>3.3190</td>\n",
       "      <td>5.652</td>\n",
       "      <td>-0.2954</td>\n",
       "      <td>0.586228</td>\n",
       "      <td>DM</td>\n",
       "      <td>1</td>\n",
       "    </tr>\n",
       "    <tr>\n",
       "      <th>2638</th>\n",
       "      <td>DB00399</td>\n",
       "      <td>DOID:11476</td>\n",
       "      <td>holdout</td>\n",
       "      <td>-3.094000</td>\n",
       "      <td>0.043370</td>\n",
       "      <td>-0.2547</td>\n",
       "      <td>0.2483</td>\n",
       "      <td>3.6380</td>\n",
       "      <td>-0.9471</td>\n",
       "      <td>-0.1689</td>\n",
       "      <td>3.886</td>\n",
       "      <td>4.6370</td>\n",
       "      <td>0.570612</td>\n",
       "      <td>NaN</td>\n",
       "      <td>0</td>\n",
       "    </tr>\n",
       "    <tr>\n",
       "      <th>13087</th>\n",
       "      <td>DB00630</td>\n",
       "      <td>DOID:5408</td>\n",
       "      <td>holdout</td>\n",
       "      <td>-4.845000</td>\n",
       "      <td>0.007803</td>\n",
       "      <td>-0.4542</td>\n",
       "      <td>-1.5250</td>\n",
       "      <td>-0.5141</td>\n",
       "      <td>-0.8001</td>\n",
       "      <td>-1.0140</td>\n",
       "      <td>5.611</td>\n",
       "      <td>5.0000</td>\n",
       "      <td>0.570240</td>\n",
       "      <td>DM</td>\n",
       "      <td>1</td>\n",
       "    </tr>\n",
       "    <tr>\n",
       "      <th>2053</th>\n",
       "      <td>DB00958</td>\n",
       "      <td>DOID:11054</td>\n",
       "      <td>holdout</td>\n",
       "      <td>-2.140000</td>\n",
       "      <td>0.105300</td>\n",
       "      <td>0.7578</td>\n",
       "      <td>0.4546</td>\n",
       "      <td>4.3490</td>\n",
       "      <td>2.5150</td>\n",
       "      <td>3.2220</td>\n",
       "      <td>3.779</td>\n",
       "      <td>4.3680</td>\n",
       "      <td>0.527425</td>\n",
       "      <td>NaN</td>\n",
       "      <td>0</td>\n",
       "    </tr>\n",
       "  </tbody>\n",
       "</table>\n",
       "</div>"
      ],
      "text/plain": [
       "      chemical_id  disease_id   origin  prior_logit  prior_prob  degree_CbG  \\\n",
       "2697      DB00884  DOID:11476  holdout    -3.825000    0.021360     -1.4200   \n",
       "6002      DB01583   DOID:1459  holdout         -inf    0.000000      0.8967   \n",
       "2638      DB00399  DOID:11476  holdout    -3.094000    0.043370     -0.2547   \n",
       "13087     DB00630   DOID:5408  holdout    -4.845000    0.007803     -0.4542   \n",
       "2053      DB00958  DOID:11054  holdout    -2.140000    0.105300      0.7578   \n",
       "\n",
       "       degree_DaG  dwpc_CbGaD  dwpc_CbGaDaGaD  dwpc_CbGbCbGaD  dwpc_CbGbCtD  \\\n",
       "2697       0.2483      3.8660         -0.2986         -0.6473         4.639   \n",
       "6002      -0.5354      4.7880         -0.2269          3.3190         5.652   \n",
       "2638       0.2483      3.6380         -0.9471         -0.1689         3.886   \n",
       "13087     -1.5250     -0.5141         -0.8001         -1.0140         5.611   \n",
       "2053       0.4546      4.3490          2.5150          3.2220         3.779   \n",
       "\n",
       "       dwpc_CtDtCtD  predicted_value category  true_label  \n",
       "2697         5.4620         0.738195       DM           1  \n",
       "6002        -0.2954         0.586228       DM           1  \n",
       "2638         4.6370         0.570612      NaN           0  \n",
       "13087        5.0000         0.570240       DM           1  \n",
       "2053         4.3680         0.527425      NaN           0  "
      ]
     },
     "execution_count": 27,
     "metadata": {},
     "output_type": "execute_result"
    }
   ],
   "source": [
    "test_res.head()"
   ]
  },
  {
   "cell_type": "code",
   "execution_count": 28,
   "metadata": {
    "collapsed": true
   },
   "outputs": [],
   "source": [
    "test_res.to_csv(\"pred_res_for_roc.tsv\", sep = '\\t', index = False)"
   ]
  }
 ],
 "metadata": {
  "kernelspec": {
   "display_name": "Python 3",
   "language": "python",
   "name": "python3"
  },
  "language_info": {
   "codemirror_mode": {
    "name": "ipython",
    "version": 3
   },
   "file_extension": ".py",
   "mimetype": "text/x-python",
   "name": "python",
   "nbconvert_exporter": "python",
   "pygments_lexer": "ipython3",
   "version": "3.5.2"
  }
 },
 "nbformat": 4,
 "nbformat_minor": 0
}
