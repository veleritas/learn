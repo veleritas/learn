{
 "cells": [
  {
   "cell_type": "code",
   "execution_count": 1,
   "metadata": {
    "collapsed": true
   },
   "outputs": [],
   "source": [
    "import pandas as pd\n",
    "import numpy as np\n",
    "import matplotlib as plt\n",
    "import seaborn as sns\n",
    "\n",
    "%matplotlib inline"
   ]
  },
  {
   "cell_type": "markdown",
   "metadata": {},
   "source": [
    "## Read prediction results"
   ]
  },
  {
   "cell_type": "code",
   "execution_count": 2,
   "metadata": {
    "collapsed": true
   },
   "outputs": [],
   "source": [
    "test_res = pd.read_csv(\"results.tsv\", sep = '\\t')"
   ]
  },
  {
   "cell_type": "code",
   "execution_count": 3,
   "metadata": {
    "collapsed": false
   },
   "outputs": [
    {
     "data": {
      "text/plain": [
       "(16786, 115)"
      ]
     },
     "execution_count": 3,
     "metadata": {},
     "output_type": "execute_result"
    }
   ],
   "source": [
    "test_res.shape"
   ]
  },
  {
   "cell_type": "code",
   "execution_count": 4,
   "metadata": {
    "collapsed": false
   },
   "outputs": [
    {
     "data": {
      "text/html": [
       "<div>\n",
       "<style>\n",
       "    .dataframe thead tr:only-child th {\n",
       "        text-align: right;\n",
       "    }\n",
       "\n",
       "    .dataframe thead th {\n",
       "        text-align: left;\n",
       "    }\n",
       "\n",
       "    .dataframe tbody tr th {\n",
       "        vertical-align: top;\n",
       "    }\n",
       "</style>\n",
       "<table border=\"1\" class=\"dataframe\">\n",
       "  <thead>\n",
       "    <tr style=\"text-align: right;\">\n",
       "      <th></th>\n",
       "      <th>chemical_id</th>\n",
       "      <th>chemical_name</th>\n",
       "      <th>disease_id</th>\n",
       "      <th>disease_name</th>\n",
       "      <th>category</th>\n",
       "      <th>origin</th>\n",
       "      <th>status</th>\n",
       "      <th>prior_logit</th>\n",
       "      <th>prior_prob</th>\n",
       "      <th>degree_CbG</th>\n",
       "      <th>...</th>\n",
       "      <th>dwpc_CrCtDtCtD</th>\n",
       "      <th>dwpc_CrCuGiGaD</th>\n",
       "      <th>dwpc_CuGaDuGaD</th>\n",
       "      <th>dwpc_CuGbCtDrD</th>\n",
       "      <th>dwpc_CuGcGiGaD</th>\n",
       "      <th>dwpc_CuGdDpSpD</th>\n",
       "      <th>dwpc_CuGuCbGaD</th>\n",
       "      <th>dwpc_CuGuCtDrD</th>\n",
       "      <th>dwpc_CuGuCuGaD</th>\n",
       "      <th>predicted_value</th>\n",
       "    </tr>\n",
       "  </thead>\n",
       "  <tbody>\n",
       "    <tr>\n",
       "      <th>0</th>\n",
       "      <td>DB00014</td>\n",
       "      <td>NaN</td>\n",
       "      <td>DOID:10283</td>\n",
       "      <td>NaN</td>\n",
       "      <td>NaN</td>\n",
       "      <td>holdout</td>\n",
       "      <td>0</td>\n",
       "      <td>-3.666000</td>\n",
       "      <td>0.02494</td>\n",
       "      <td>-1.3940</td>\n",
       "      <td>...</td>\n",
       "      <td>-0.3369</td>\n",
       "      <td>-0.7161</td>\n",
       "      <td>-0.640</td>\n",
       "      <td>-0.3452</td>\n",
       "      <td>-0.4416</td>\n",
       "      <td>-0.6257</td>\n",
       "      <td>1.0280</td>\n",
       "      <td>-0.1836</td>\n",
       "      <td>0.7228</td>\n",
       "      <td>0.016262</td>\n",
       "    </tr>\n",
       "    <tr>\n",
       "      <th>1</th>\n",
       "      <td>DB00091</td>\n",
       "      <td>NaN</td>\n",
       "      <td>DOID:10283</td>\n",
       "      <td>NaN</td>\n",
       "      <td>NaN</td>\n",
       "      <td>holdout</td>\n",
       "      <td>0</td>\n",
       "      <td>-2.491000</td>\n",
       "      <td>0.07648</td>\n",
       "      <td>1.5180</td>\n",
       "      <td>...</td>\n",
       "      <td>-0.3369</td>\n",
       "      <td>-0.7161</td>\n",
       "      <td>3.520</td>\n",
       "      <td>-0.3452</td>\n",
       "      <td>3.9420</td>\n",
       "      <td>3.0890</td>\n",
       "      <td>3.7440</td>\n",
       "      <td>1.2790</td>\n",
       "      <td>4.0940</td>\n",
       "      <td>0.063105</td>\n",
       "    </tr>\n",
       "    <tr>\n",
       "      <th>2</th>\n",
       "      <td>DB00136</td>\n",
       "      <td>NaN</td>\n",
       "      <td>DOID:10283</td>\n",
       "      <td>NaN</td>\n",
       "      <td>NaN</td>\n",
       "      <td>holdout</td>\n",
       "      <td>0</td>\n",
       "      <td>-2.934000</td>\n",
       "      <td>0.05051</td>\n",
       "      <td>-0.6787</td>\n",
       "      <td>...</td>\n",
       "      <td>3.2910</td>\n",
       "      <td>1.2510</td>\n",
       "      <td>3.203</td>\n",
       "      <td>-0.3452</td>\n",
       "      <td>2.6100</td>\n",
       "      <td>1.5590</td>\n",
       "      <td>2.9280</td>\n",
       "      <td>0.9959</td>\n",
       "      <td>3.1090</td>\n",
       "      <td>0.025176</td>\n",
       "    </tr>\n",
       "    <tr>\n",
       "      <th>3</th>\n",
       "      <td>DB00158</td>\n",
       "      <td>NaN</td>\n",
       "      <td>DOID:10283</td>\n",
       "      <td>NaN</td>\n",
       "      <td>NaN</td>\n",
       "      <td>holdout</td>\n",
       "      <td>0</td>\n",
       "      <td>-inf</td>\n",
       "      <td>0.00000</td>\n",
       "      <td>0.5132</td>\n",
       "      <td>...</td>\n",
       "      <td>3.3480</td>\n",
       "      <td>1.4510</td>\n",
       "      <td>-0.640</td>\n",
       "      <td>-0.3452</td>\n",
       "      <td>-0.5826</td>\n",
       "      <td>-0.6257</td>\n",
       "      <td>-0.7218</td>\n",
       "      <td>-0.6438</td>\n",
       "      <td>-0.6780</td>\n",
       "      <td>0.021757</td>\n",
       "    </tr>\n",
       "    <tr>\n",
       "      <th>4</th>\n",
       "      <td>DB00177</td>\n",
       "      <td>NaN</td>\n",
       "      <td>DOID:10283</td>\n",
       "      <td>NaN</td>\n",
       "      <td>NaN</td>\n",
       "      <td>holdout</td>\n",
       "      <td>0</td>\n",
       "      <td>-2.934000</td>\n",
       "      <td>0.05051</td>\n",
       "      <td>-0.4395</td>\n",
       "      <td>...</td>\n",
       "      <td>-0.3369</td>\n",
       "      <td>0.3342</td>\n",
       "      <td>-0.640</td>\n",
       "      <td>-0.3452</td>\n",
       "      <td>1.3420</td>\n",
       "      <td>0.0155</td>\n",
       "      <td>1.4420</td>\n",
       "      <td>-0.5245</td>\n",
       "      <td>1.5420</td>\n",
       "      <td>0.019126</td>\n",
       "    </tr>\n",
       "  </tbody>\n",
       "</table>\n",
       "<p>5 rows × 115 columns</p>\n",
       "</div>"
      ],
      "text/plain": [
       "  chemical_id chemical_name  disease_id disease_name  category   origin  \\\n",
       "0     DB00014           NaN  DOID:10283          NaN       NaN  holdout   \n",
       "1     DB00091           NaN  DOID:10283          NaN       NaN  holdout   \n",
       "2     DB00136           NaN  DOID:10283          NaN       NaN  holdout   \n",
       "3     DB00158           NaN  DOID:10283          NaN       NaN  holdout   \n",
       "4     DB00177           NaN  DOID:10283          NaN       NaN  holdout   \n",
       "\n",
       "   status  prior_logit  prior_prob  degree_CbG       ...         \\\n",
       "0       0    -3.666000     0.02494     -1.3940       ...          \n",
       "1       0    -2.491000     0.07648      1.5180       ...          \n",
       "2       0    -2.934000     0.05051     -0.6787       ...          \n",
       "3       0         -inf     0.00000      0.5132       ...          \n",
       "4       0    -2.934000     0.05051     -0.4395       ...          \n",
       "\n",
       "   dwpc_CrCtDtCtD  dwpc_CrCuGiGaD  dwpc_CuGaDuGaD  dwpc_CuGbCtDrD  \\\n",
       "0         -0.3369         -0.7161          -0.640         -0.3452   \n",
       "1         -0.3369         -0.7161           3.520         -0.3452   \n",
       "2          3.2910          1.2510           3.203         -0.3452   \n",
       "3          3.3480          1.4510          -0.640         -0.3452   \n",
       "4         -0.3369          0.3342          -0.640         -0.3452   \n",
       "\n",
       "   dwpc_CuGcGiGaD  dwpc_CuGdDpSpD  dwpc_CuGuCbGaD  dwpc_CuGuCtDrD  \\\n",
       "0         -0.4416         -0.6257          1.0280         -0.1836   \n",
       "1          3.9420          3.0890          3.7440          1.2790   \n",
       "2          2.6100          1.5590          2.9280          0.9959   \n",
       "3         -0.5826         -0.6257         -0.7218         -0.6438   \n",
       "4          1.3420          0.0155          1.4420         -0.5245   \n",
       "\n",
       "   dwpc_CuGuCuGaD  predicted_value  \n",
       "0          0.7228         0.016262  \n",
       "1          4.0940         0.063105  \n",
       "2          3.1090         0.025176  \n",
       "3         -0.6780         0.021757  \n",
       "4          1.5420         0.019126  \n",
       "\n",
       "[5 rows x 115 columns]"
      ]
     },
     "execution_count": 4,
     "metadata": {},
     "output_type": "execute_result"
    }
   ],
   "source": [
    "test_res.head()"
   ]
  },
  {
   "cell_type": "markdown",
   "metadata": {},
   "source": [
    "## Read holdout set"
   ]
  },
  {
   "cell_type": "code",
   "execution_count": 5,
   "metadata": {
    "collapsed": true
   },
   "outputs": [],
   "source": [
    "with open(\"../../crossval_idx.txt\", \"r\") as fin:\n",
    "    holdout_idx = int(fin.readline().strip())"
   ]
  },
  {
   "cell_type": "code",
   "execution_count": 6,
   "metadata": {
    "collapsed": false
   },
   "outputs": [
    {
     "data": {
      "text/plain": [
       "0"
      ]
     },
     "execution_count": 6,
     "metadata": {},
     "output_type": "execute_result"
    }
   ],
   "source": [
    "holdout_idx"
   ]
  },
  {
   "cell_type": "code",
   "execution_count": 7,
   "metadata": {
    "collapsed": false
   },
   "outputs": [],
   "source": [
    "holdout = pd.read_csv(\"../../../crossval/data/holdout/holdout_piece{}.tsv\".format(holdout_idx), sep = '\\t')"
   ]
  },
  {
   "cell_type": "code",
   "execution_count": 8,
   "metadata": {
    "collapsed": false
   },
   "outputs": [
    {
     "data": {
      "text/plain": [
       "(16786, 6)"
      ]
     },
     "execution_count": 8,
     "metadata": {},
     "output_type": "execute_result"
    }
   ],
   "source": [
    "holdout.shape"
   ]
  },
  {
   "cell_type": "code",
   "execution_count": 9,
   "metadata": {
    "collapsed": false
   },
   "outputs": [
    {
     "data": {
      "text/html": [
       "<div>\n",
       "<style>\n",
       "    .dataframe thead tr:only-child th {\n",
       "        text-align: right;\n",
       "    }\n",
       "\n",
       "    .dataframe thead th {\n",
       "        text-align: left;\n",
       "    }\n",
       "\n",
       "    .dataframe tbody tr th {\n",
       "        vertical-align: top;\n",
       "    }\n",
       "</style>\n",
       "<table border=\"1\" class=\"dataframe\">\n",
       "  <thead>\n",
       "    <tr style=\"text-align: right;\">\n",
       "      <th></th>\n",
       "      <th>chemical_id</th>\n",
       "      <th>disease_id</th>\n",
       "      <th>disease_name</th>\n",
       "      <th>chemical_name</th>\n",
       "      <th>category</th>\n",
       "      <th>piece</th>\n",
       "    </tr>\n",
       "  </thead>\n",
       "  <tbody>\n",
       "    <tr>\n",
       "      <th>0</th>\n",
       "      <td>DB00014</td>\n",
       "      <td>DOID:0050156</td>\n",
       "      <td>NaN</td>\n",
       "      <td>NaN</td>\n",
       "      <td>NaN</td>\n",
       "      <td>NaN</td>\n",
       "    </tr>\n",
       "    <tr>\n",
       "      <th>1</th>\n",
       "      <td>DB00014</td>\n",
       "      <td>DOID:0050425</td>\n",
       "      <td>NaN</td>\n",
       "      <td>NaN</td>\n",
       "      <td>NaN</td>\n",
       "      <td>NaN</td>\n",
       "    </tr>\n",
       "    <tr>\n",
       "      <th>2</th>\n",
       "      <td>DB00014</td>\n",
       "      <td>DOID:0050741</td>\n",
       "      <td>NaN</td>\n",
       "      <td>NaN</td>\n",
       "      <td>NaN</td>\n",
       "      <td>NaN</td>\n",
       "    </tr>\n",
       "    <tr>\n",
       "      <th>3</th>\n",
       "      <td>DB00014</td>\n",
       "      <td>DOID:1024</td>\n",
       "      <td>NaN</td>\n",
       "      <td>NaN</td>\n",
       "      <td>NaN</td>\n",
       "      <td>NaN</td>\n",
       "    </tr>\n",
       "    <tr>\n",
       "      <th>4</th>\n",
       "      <td>DB00014</td>\n",
       "      <td>DOID:10283</td>\n",
       "      <td>NaN</td>\n",
       "      <td>NaN</td>\n",
       "      <td>NaN</td>\n",
       "      <td>NaN</td>\n",
       "    </tr>\n",
       "  </tbody>\n",
       "</table>\n",
       "</div>"
      ],
      "text/plain": [
       "  chemical_id    disease_id disease_name chemical_name category  piece\n",
       "0     DB00014  DOID:0050156          NaN           NaN      NaN    NaN\n",
       "1     DB00014  DOID:0050425          NaN           NaN      NaN    NaN\n",
       "2     DB00014  DOID:0050741          NaN           NaN      NaN    NaN\n",
       "3     DB00014     DOID:1024          NaN           NaN      NaN    NaN\n",
       "4     DB00014    DOID:10283          NaN           NaN      NaN    NaN"
      ]
     },
     "execution_count": 9,
     "metadata": {},
     "output_type": "execute_result"
    }
   ],
   "source": [
    "holdout.head()"
   ]
  },
  {
   "cell_type": "code",
   "execution_count": 10,
   "metadata": {
    "collapsed": false
   },
   "outputs": [
    {
     "data": {
      "text/plain": [
       "DM     163\n",
       "SYM     79\n",
       "NOT     49\n",
       "Name: category, dtype: int64"
      ]
     },
     "execution_count": 10,
     "metadata": {},
     "output_type": "execute_result"
    }
   ],
   "source": [
    "holdout[\"category\"].value_counts()"
   ]
  },
  {
   "cell_type": "markdown",
   "metadata": {},
   "source": [
    "---"
   ]
  },
  {
   "cell_type": "code",
   "execution_count": 11,
   "metadata": {
    "collapsed": true
   },
   "outputs": [],
   "source": [
    "def df_to_pairs(df, chem = \"chemical_id\", dise = \"disease_id\"):\n",
    "    return set(zip(df[chem], df[dise]))"
   ]
  },
  {
   "cell_type": "code",
   "execution_count": 12,
   "metadata": {
    "collapsed": true
   },
   "outputs": [],
   "source": [
    "holdout_p = df_to_pairs(holdout)\n",
    "\n",
    "test_res_p = df_to_pairs(test_res, chem = \"chemical_id\", dise = \"disease_id\")"
   ]
  },
  {
   "cell_type": "code",
   "execution_count": 13,
   "metadata": {
    "collapsed": false
   },
   "outputs": [
    {
     "data": {
      "text/plain": [
       "True"
      ]
     },
     "execution_count": 13,
     "metadata": {},
     "output_type": "execute_result"
    }
   ],
   "source": [
    "holdout_p >= test_res_p"
   ]
  },
  {
   "cell_type": "code",
   "execution_count": 14,
   "metadata": {
    "collapsed": false,
    "scrolled": true
   },
   "outputs": [],
   "source": [
    "missing_p = holdout_p - test_res_p"
   ]
  },
  {
   "cell_type": "code",
   "execution_count": 15,
   "metadata": {
    "collapsed": false
   },
   "outputs": [
    {
     "data": {
      "text/plain": [
       "0"
      ]
     },
     "execution_count": 15,
     "metadata": {},
     "output_type": "execute_result"
    }
   ],
   "source": [
    "len(missing_p)"
   ]
  },
  {
   "cell_type": "code",
   "execution_count": 16,
   "metadata": {
    "collapsed": false
   },
   "outputs": [],
   "source": [
    "missing = (pd\n",
    "    .DataFrame(list(missing_p), columns = [\"chemical_id\", \"disease_id\"])\n",
    "    .merge(holdout, how = \"left\", on = [\"chemical_id\", \"disease_id\"])\n",
    ")"
   ]
  },
  {
   "cell_type": "code",
   "execution_count": 17,
   "metadata": {
    "collapsed": false
   },
   "outputs": [
    {
     "data": {
      "text/plain": [
       "(0, 6)"
      ]
     },
     "execution_count": 17,
     "metadata": {},
     "output_type": "execute_result"
    }
   ],
   "source": [
    "missing.shape"
   ]
  },
  {
   "cell_type": "code",
   "execution_count": 18,
   "metadata": {
    "collapsed": false
   },
   "outputs": [
    {
     "data": {
      "text/plain": [
       "Series([], Name: category, dtype: int64)"
      ]
     },
     "execution_count": 18,
     "metadata": {},
     "output_type": "execute_result"
    }
   ],
   "source": [
    "missing[\"category\"].value_counts()"
   ]
  },
  {
   "cell_type": "markdown",
   "metadata": {},
   "source": [
    "Some relations missing from the predicted results, but only contains one disease modifying treatment, so it's no big deal."
   ]
  },
  {
   "cell_type": "markdown",
   "metadata": {},
   "source": [
    "---"
   ]
  },
  {
   "cell_type": "code",
   "execution_count": 19,
   "metadata": {
    "collapsed": false
   },
   "outputs": [],
   "source": [
    "info = holdout[[\"chemical_id\", \"disease_id\", \"category\"]]"
   ]
  },
  {
   "cell_type": "code",
   "execution_count": 20,
   "metadata": {
    "collapsed": false
   },
   "outputs": [],
   "source": [
    "test_res = (test_res\n",
    "    .drop([\"chemical_name\", \"disease_name\", \"category\", \"status\"], axis = 1)\n",
    "    .merge(info, how = \"left\", on = [\"chemical_id\", \"disease_id\"])\n",
    ")    "
   ]
  },
  {
   "cell_type": "code",
   "execution_count": 21,
   "metadata": {
    "collapsed": false
   },
   "outputs": [
    {
     "data": {
      "text/html": [
       "<div>\n",
       "<style>\n",
       "    .dataframe thead tr:only-child th {\n",
       "        text-align: right;\n",
       "    }\n",
       "\n",
       "    .dataframe thead th {\n",
       "        text-align: left;\n",
       "    }\n",
       "\n",
       "    .dataframe tbody tr th {\n",
       "        vertical-align: top;\n",
       "    }\n",
       "</style>\n",
       "<table border=\"1\" class=\"dataframe\">\n",
       "  <thead>\n",
       "    <tr style=\"text-align: right;\">\n",
       "      <th></th>\n",
       "      <th>chemical_id</th>\n",
       "      <th>disease_id</th>\n",
       "      <th>origin</th>\n",
       "      <th>prior_logit</th>\n",
       "      <th>prior_prob</th>\n",
       "      <th>degree_CbG</th>\n",
       "      <th>degree_CcSE</th>\n",
       "      <th>degree_CdG</th>\n",
       "      <th>degree_CiPC</th>\n",
       "      <th>degree_CrC</th>\n",
       "      <th>...</th>\n",
       "      <th>dwpc_CrCuGiGaD</th>\n",
       "      <th>dwpc_CuGaDuGaD</th>\n",
       "      <th>dwpc_CuGbCtDrD</th>\n",
       "      <th>dwpc_CuGcGiGaD</th>\n",
       "      <th>dwpc_CuGdDpSpD</th>\n",
       "      <th>dwpc_CuGuCbGaD</th>\n",
       "      <th>dwpc_CuGuCtDrD</th>\n",
       "      <th>dwpc_CuGuCuGaD</th>\n",
       "      <th>predicted_value</th>\n",
       "      <th>category</th>\n",
       "    </tr>\n",
       "  </thead>\n",
       "  <tbody>\n",
       "    <tr>\n",
       "      <th>0</th>\n",
       "      <td>DB00014</td>\n",
       "      <td>DOID:10283</td>\n",
       "      <td>holdout</td>\n",
       "      <td>-3.666000</td>\n",
       "      <td>0.02494</td>\n",
       "      <td>-1.3940</td>\n",
       "      <td>0.6723</td>\n",
       "      <td>-0.97110</td>\n",
       "      <td>0.2821</td>\n",
       "      <td>0.4233</td>\n",
       "      <td>...</td>\n",
       "      <td>-0.7161</td>\n",
       "      <td>-0.640</td>\n",
       "      <td>-0.3452</td>\n",
       "      <td>-0.4416</td>\n",
       "      <td>-0.6257</td>\n",
       "      <td>1.0280</td>\n",
       "      <td>-0.1836</td>\n",
       "      <td>0.7228</td>\n",
       "      <td>0.016262</td>\n",
       "      <td>NaN</td>\n",
       "    </tr>\n",
       "    <tr>\n",
       "      <th>1</th>\n",
       "      <td>DB00091</td>\n",
       "      <td>DOID:10283</td>\n",
       "      <td>holdout</td>\n",
       "      <td>-2.491000</td>\n",
       "      <td>0.07648</td>\n",
       "      <td>1.5180</td>\n",
       "      <td>0.8699</td>\n",
       "      <td>2.28700</td>\n",
       "      <td>1.2350</td>\n",
       "      <td>-1.5830</td>\n",
       "      <td>...</td>\n",
       "      <td>-0.7161</td>\n",
       "      <td>3.520</td>\n",
       "      <td>-0.3452</td>\n",
       "      <td>3.9420</td>\n",
       "      <td>3.0890</td>\n",
       "      <td>3.7440</td>\n",
       "      <td>1.2790</td>\n",
       "      <td>4.0940</td>\n",
       "      <td>0.063105</td>\n",
       "      <td>NaN</td>\n",
       "    </tr>\n",
       "    <tr>\n",
       "      <th>2</th>\n",
       "      <td>DB00136</td>\n",
       "      <td>DOID:10283</td>\n",
       "      <td>holdout</td>\n",
       "      <td>-2.934000</td>\n",
       "      <td>0.05051</td>\n",
       "      <td>-0.6787</td>\n",
       "      <td>0.1501</td>\n",
       "      <td>0.93630</td>\n",
       "      <td>0.2821</td>\n",
       "      <td>0.4233</td>\n",
       "      <td>...</td>\n",
       "      <td>1.2510</td>\n",
       "      <td>3.203</td>\n",
       "      <td>-0.3452</td>\n",
       "      <td>2.6100</td>\n",
       "      <td>1.5590</td>\n",
       "      <td>2.9280</td>\n",
       "      <td>0.9959</td>\n",
       "      <td>3.1090</td>\n",
       "      <td>0.025176</td>\n",
       "      <td>NaN</td>\n",
       "    </tr>\n",
       "    <tr>\n",
       "      <th>3</th>\n",
       "      <td>DB00158</td>\n",
       "      <td>DOID:10283</td>\n",
       "      <td>holdout</td>\n",
       "      <td>-inf</td>\n",
       "      <td>0.00000</td>\n",
       "      <td>0.5132</td>\n",
       "      <td>-0.6014</td>\n",
       "      <td>-0.97110</td>\n",
       "      <td>-1.2120</td>\n",
       "      <td>0.3077</td>\n",
       "      <td>...</td>\n",
       "      <td>1.4510</td>\n",
       "      <td>-0.640</td>\n",
       "      <td>-0.3452</td>\n",
       "      <td>-0.5826</td>\n",
       "      <td>-0.6257</td>\n",
       "      <td>-0.7218</td>\n",
       "      <td>-0.6438</td>\n",
       "      <td>-0.6780</td>\n",
       "      <td>0.021757</td>\n",
       "      <td>NaN</td>\n",
       "    </tr>\n",
       "    <tr>\n",
       "      <th>4</th>\n",
       "      <td>DB00177</td>\n",
       "      <td>DOID:10283</td>\n",
       "      <td>holdout</td>\n",
       "      <td>-2.934000</td>\n",
       "      <td>0.05051</td>\n",
       "      <td>-0.4395</td>\n",
       "      <td>0.1728</td>\n",
       "      <td>-0.01779</td>\n",
       "      <td>0.2821</td>\n",
       "      <td>0.3077</td>\n",
       "      <td>...</td>\n",
       "      <td>0.3342</td>\n",
       "      <td>-0.640</td>\n",
       "      <td>-0.3452</td>\n",
       "      <td>1.3420</td>\n",
       "      <td>0.0155</td>\n",
       "      <td>1.4420</td>\n",
       "      <td>-0.5245</td>\n",
       "      <td>1.5420</td>\n",
       "      <td>0.019126</td>\n",
       "      <td>NaN</td>\n",
       "    </tr>\n",
       "  </tbody>\n",
       "</table>\n",
       "<p>5 rows × 112 columns</p>\n",
       "</div>"
      ],
      "text/plain": [
       "  chemical_id  disease_id   origin  prior_logit  prior_prob  degree_CbG  \\\n",
       "0     DB00014  DOID:10283  holdout    -3.666000     0.02494     -1.3940   \n",
       "1     DB00091  DOID:10283  holdout    -2.491000     0.07648      1.5180   \n",
       "2     DB00136  DOID:10283  holdout    -2.934000     0.05051     -0.6787   \n",
       "3     DB00158  DOID:10283  holdout         -inf     0.00000      0.5132   \n",
       "4     DB00177  DOID:10283  holdout    -2.934000     0.05051     -0.4395   \n",
       "\n",
       "   degree_CcSE  degree_CdG  degree_CiPC  degree_CrC    ...     dwpc_CrCuGiGaD  \\\n",
       "0       0.6723    -0.97110       0.2821      0.4233    ...            -0.7161   \n",
       "1       0.8699     2.28700       1.2350     -1.5830    ...            -0.7161   \n",
       "2       0.1501     0.93630       0.2821      0.4233    ...             1.2510   \n",
       "3      -0.6014    -0.97110      -1.2120      0.3077    ...             1.4510   \n",
       "4       0.1728    -0.01779       0.2821      0.3077    ...             0.3342   \n",
       "\n",
       "   dwpc_CuGaDuGaD  dwpc_CuGbCtDrD  dwpc_CuGcGiGaD  dwpc_CuGdDpSpD  \\\n",
       "0          -0.640         -0.3452         -0.4416         -0.6257   \n",
       "1           3.520         -0.3452          3.9420          3.0890   \n",
       "2           3.203         -0.3452          2.6100          1.5590   \n",
       "3          -0.640         -0.3452         -0.5826         -0.6257   \n",
       "4          -0.640         -0.3452          1.3420          0.0155   \n",
       "\n",
       "   dwpc_CuGuCbGaD  dwpc_CuGuCtDrD  dwpc_CuGuCuGaD  predicted_value  category  \n",
       "0          1.0280         -0.1836          0.7228         0.016262       NaN  \n",
       "1          3.7440          1.2790          4.0940         0.063105       NaN  \n",
       "2          2.9280          0.9959          3.1090         0.025176       NaN  \n",
       "3         -0.7218         -0.6438         -0.6780         0.021757       NaN  \n",
       "4          1.4420         -0.5245          1.5420         0.019126       NaN  \n",
       "\n",
       "[5 rows x 112 columns]"
      ]
     },
     "execution_count": 21,
     "metadata": {},
     "output_type": "execute_result"
    }
   ],
   "source": [
    "test_res.head()"
   ]
  },
  {
   "cell_type": "code",
   "execution_count": 22,
   "metadata": {
    "collapsed": false
   },
   "outputs": [
    {
     "data": {
      "text/plain": [
       "(16786, 112)"
      ]
     },
     "execution_count": 22,
     "metadata": {},
     "output_type": "execute_result"
    }
   ],
   "source": [
    "test_res.shape"
   ]
  },
  {
   "cell_type": "code",
   "execution_count": 23,
   "metadata": {
    "collapsed": false
   },
   "outputs": [
    {
     "data": {
      "text/plain": [
       "<matplotlib.axes._subplots.AxesSubplot at 0x7fca7a3ce5c0>"
      ]
     },
     "execution_count": 23,
     "metadata": {},
     "output_type": "execute_result"
    },
    {
     "name": "stderr",
     "output_type": "stream",
     "text": [
      "/home/tongli/anaconda3/envs/integrate/lib/python3.5/site-packages/matplotlib/font_manager.py:1297: UserWarning: findfont: Font family ['sans-serif'] not found. Falling back to DejaVu Sans\n",
      "  (prop.get_family(), self.defaultFamily[fontext]))\n"
     ]
    },
    {
     "data": {
      "image/png": "[encoded data removed]",
      "text/plain": [
       "<matplotlib.figure.Figure at 0x7fca7a3fbe80>"
      ]
     },
     "metadata": {},
     "output_type": "display_data"
    }
   ],
   "source": [
    "sns.distplot(test_res[\"predicted_value\"])"
   ]
  },
  {
   "cell_type": "code",
   "execution_count": 24,
   "metadata": {
    "collapsed": true
   },
   "outputs": [],
   "source": [
    "test_res = test_res.sort_values(\"predicted_value\", ascending = False)"
   ]
  },
  {
   "cell_type": "code",
   "execution_count": 25,
   "metadata": {
    "collapsed": false
   },
   "outputs": [
    {
     "data": {
      "text/html": [
       "<div>\n",
       "<style>\n",
       "    .dataframe thead tr:only-child th {\n",
       "        text-align: right;\n",
       "    }\n",
       "\n",
       "    .dataframe thead th {\n",
       "        text-align: left;\n",
       "    }\n",
       "\n",
       "    .dataframe tbody tr th {\n",
       "        vertical-align: top;\n",
       "    }\n",
       "</style>\n",
       "<table border=\"1\" class=\"dataframe\">\n",
       "  <thead>\n",
       "    <tr style=\"text-align: right;\">\n",
       "      <th></th>\n",
       "      <th>chemical_id</th>\n",
       "      <th>disease_id</th>\n",
       "      <th>origin</th>\n",
       "      <th>prior_logit</th>\n",
       "      <th>prior_prob</th>\n",
       "      <th>degree_CbG</th>\n",
       "      <th>degree_CcSE</th>\n",
       "      <th>degree_CdG</th>\n",
       "      <th>degree_CiPC</th>\n",
       "      <th>degree_CrC</th>\n",
       "      <th>...</th>\n",
       "      <th>dwpc_CrCuGiGaD</th>\n",
       "      <th>dwpc_CuGaDuGaD</th>\n",
       "      <th>dwpc_CuGbCtDrD</th>\n",
       "      <th>dwpc_CuGcGiGaD</th>\n",
       "      <th>dwpc_CuGdDpSpD</th>\n",
       "      <th>dwpc_CuGuCbGaD</th>\n",
       "      <th>dwpc_CuGuCtDrD</th>\n",
       "      <th>dwpc_CuGuCuGaD</th>\n",
       "      <th>predicted_value</th>\n",
       "      <th>category</th>\n",
       "    </tr>\n",
       "  </thead>\n",
       "  <tbody>\n",
       "    <tr>\n",
       "      <th>2709</th>\n",
       "      <td>DB00884</td>\n",
       "      <td>DOID:11476</td>\n",
       "      <td>holdout</td>\n",
       "      <td>-3.825</td>\n",
       "      <td>0.021360</td>\n",
       "      <td>-1.3940</td>\n",
       "      <td>0.41320</td>\n",
       "      <td>-0.9711</td>\n",
       "      <td>0.2821</td>\n",
       "      <td>0.3077</td>\n",
       "      <td>...</td>\n",
       "      <td>0.57980</td>\n",
       "      <td>-0.6400</td>\n",
       "      <td>-0.3452</td>\n",
       "      <td>-0.58260</td>\n",
       "      <td>-0.6257</td>\n",
       "      <td>-0.7218</td>\n",
       "      <td>-0.6438</td>\n",
       "      <td>-0.67800</td>\n",
       "      <td>0.972429</td>\n",
       "      <td>DM</td>\n",
       "    </tr>\n",
       "    <tr>\n",
       "      <th>13147</th>\n",
       "      <td>DB00630</td>\n",
       "      <td>DOID:5408</td>\n",
       "      <td>holdout</td>\n",
       "      <td>-4.845</td>\n",
       "      <td>0.007803</td>\n",
       "      <td>-0.4395</td>\n",
       "      <td>0.07669</td>\n",
       "      <td>0.3352</td>\n",
       "      <td>0.2821</td>\n",
       "      <td>0.4233</td>\n",
       "      <td>...</td>\n",
       "      <td>-0.57710</td>\n",
       "      <td>0.2171</td>\n",
       "      <td>2.2980</td>\n",
       "      <td>-0.18080</td>\n",
       "      <td>-0.3926</td>\n",
       "      <td>-0.6175</td>\n",
       "      <td>0.4045</td>\n",
       "      <td>-0.13560</td>\n",
       "      <td>0.946436</td>\n",
       "      <td>DM</td>\n",
       "    </tr>\n",
       "    <tr>\n",
       "      <th>14936</th>\n",
       "      <td>DB01014</td>\n",
       "      <td>DOID:8577</td>\n",
       "      <td>holdout</td>\n",
       "      <td>-3.913</td>\n",
       "      <td>0.019600</td>\n",
       "      <td>-0.6787</td>\n",
       "      <td>-3.12500</td>\n",
       "      <td>1.1010</td>\n",
       "      <td>0.2821</td>\n",
       "      <td>0.3077</td>\n",
       "      <td>...</td>\n",
       "      <td>-0.48530</td>\n",
       "      <td>0.5635</td>\n",
       "      <td>-0.3452</td>\n",
       "      <td>-0.33800</td>\n",
       "      <td>0.8360</td>\n",
       "      <td>0.4797</td>\n",
       "      <td>-0.5279</td>\n",
       "      <td>0.09699</td>\n",
       "      <td>0.904074</td>\n",
       "      <td>DM</td>\n",
       "    </tr>\n",
       "    <tr>\n",
       "      <th>2683</th>\n",
       "      <td>DB00630</td>\n",
       "      <td>DOID:11476</td>\n",
       "      <td>holdout</td>\n",
       "      <td>-3.825</td>\n",
       "      <td>0.021360</td>\n",
       "      <td>-0.4395</td>\n",
       "      <td>0.07669</td>\n",
       "      <td>0.3352</td>\n",
       "      <td>0.2821</td>\n",
       "      <td>0.4233</td>\n",
       "      <td>...</td>\n",
       "      <td>-0.09874</td>\n",
       "      <td>1.5560</td>\n",
       "      <td>-0.3452</td>\n",
       "      <td>0.02615</td>\n",
       "      <td>0.4802</td>\n",
       "      <td>0.9160</td>\n",
       "      <td>-0.1673</td>\n",
       "      <td>0.24980</td>\n",
       "      <td>0.878989</td>\n",
       "      <td>NaN</td>\n",
       "    </tr>\n",
       "    <tr>\n",
       "      <th>5291</th>\n",
       "      <td>DB00563</td>\n",
       "      <td>DOID:1324</td>\n",
       "      <td>holdout</td>\n",
       "      <td>-0.542</td>\n",
       "      <td>0.367700</td>\n",
       "      <td>1.5540</td>\n",
       "      <td>0.82370</td>\n",
       "      <td>1.7910</td>\n",
       "      <td>0.2821</td>\n",
       "      <td>0.3077</td>\n",
       "      <td>...</td>\n",
       "      <td>-0.54460</td>\n",
       "      <td>2.2690</td>\n",
       "      <td>3.5220</td>\n",
       "      <td>2.55200</td>\n",
       "      <td>2.7580</td>\n",
       "      <td>2.6700</td>\n",
       "      <td>2.1650</td>\n",
       "      <td>2.58500</td>\n",
       "      <td>0.873887</td>\n",
       "      <td>NaN</td>\n",
       "    </tr>\n",
       "  </tbody>\n",
       "</table>\n",
       "<p>5 rows × 112 columns</p>\n",
       "</div>"
      ],
      "text/plain": [
       "      chemical_id  disease_id   origin  prior_logit  prior_prob  degree_CbG  \\\n",
       "2709      DB00884  DOID:11476  holdout       -3.825    0.021360     -1.3940   \n",
       "13147     DB00630   DOID:5408  holdout       -4.845    0.007803     -0.4395   \n",
       "14936     DB01014   DOID:8577  holdout       -3.913    0.019600     -0.6787   \n",
       "2683      DB00630  DOID:11476  holdout       -3.825    0.021360     -0.4395   \n",
       "5291      DB00563   DOID:1324  holdout       -0.542    0.367700      1.5540   \n",
       "\n",
       "       degree_CcSE  degree_CdG  degree_CiPC  degree_CrC    ...     \\\n",
       "2709       0.41320     -0.9711       0.2821      0.3077    ...      \n",
       "13147      0.07669      0.3352       0.2821      0.4233    ...      \n",
       "14936     -3.12500      1.1010       0.2821      0.3077    ...      \n",
       "2683       0.07669      0.3352       0.2821      0.4233    ...      \n",
       "5291       0.82370      1.7910       0.2821      0.3077    ...      \n",
       "\n",
       "       dwpc_CrCuGiGaD  dwpc_CuGaDuGaD  dwpc_CuGbCtDrD  dwpc_CuGcGiGaD  \\\n",
       "2709          0.57980         -0.6400         -0.3452        -0.58260   \n",
       "13147        -0.57710          0.2171          2.2980        -0.18080   \n",
       "14936        -0.48530          0.5635         -0.3452        -0.33800   \n",
       "2683         -0.09874          1.5560         -0.3452         0.02615   \n",
       "5291         -0.54460          2.2690          3.5220         2.55200   \n",
       "\n",
       "       dwpc_CuGdDpSpD  dwpc_CuGuCbGaD  dwpc_CuGuCtDrD  dwpc_CuGuCuGaD  \\\n",
       "2709          -0.6257         -0.7218         -0.6438        -0.67800   \n",
       "13147         -0.3926         -0.6175          0.4045        -0.13560   \n",
       "14936          0.8360          0.4797         -0.5279         0.09699   \n",
       "2683           0.4802          0.9160         -0.1673         0.24980   \n",
       "5291           2.7580          2.6700          2.1650         2.58500   \n",
       "\n",
       "       predicted_value  category  \n",
       "2709          0.972429        DM  \n",
       "13147         0.946436        DM  \n",
       "14936         0.904074        DM  \n",
       "2683          0.878989       NaN  \n",
       "5291          0.873887       NaN  \n",
       "\n",
       "[5 rows x 112 columns]"
      ]
     },
     "execution_count": 25,
     "metadata": {},
     "output_type": "execute_result"
    }
   ],
   "source": [
    "test_res.head()"
   ]
  },
  {
   "cell_type": "code",
   "execution_count": 26,
   "metadata": {
    "collapsed": true
   },
   "outputs": [],
   "source": [
    "test_res[\"true_label\"] = (test_res[\"category\"] == \"DM\").astype(int)"
   ]
  },
  {
   "cell_type": "code",
   "execution_count": 27,
   "metadata": {
    "collapsed": false
   },
   "outputs": [
    {
     "data": {
      "text/html": [
       "<div>\n",
       "<style>\n",
       "    .dataframe thead tr:only-child th {\n",
       "        text-align: right;\n",
       "    }\n",
       "\n",
       "    .dataframe thead th {\n",
       "        text-align: left;\n",
       "    }\n",
       "\n",
       "    .dataframe tbody tr th {\n",
       "        vertical-align: top;\n",
       "    }\n",
       "</style>\n",
       "<table border=\"1\" class=\"dataframe\">\n",
       "  <thead>\n",
       "    <tr style=\"text-align: right;\">\n",
       "      <th></th>\n",
       "      <th>chemical_id</th>\n",
       "      <th>disease_id</th>\n",
       "      <th>origin</th>\n",
       "      <th>prior_logit</th>\n",
       "      <th>prior_prob</th>\n",
       "      <th>degree_CbG</th>\n",
       "      <th>degree_CcSE</th>\n",
       "      <th>degree_CdG</th>\n",
       "      <th>degree_CiPC</th>\n",
       "      <th>degree_CrC</th>\n",
       "      <th>...</th>\n",
       "      <th>dwpc_CuGaDuGaD</th>\n",
       "      <th>dwpc_CuGbCtDrD</th>\n",
       "      <th>dwpc_CuGcGiGaD</th>\n",
       "      <th>dwpc_CuGdDpSpD</th>\n",
       "      <th>dwpc_CuGuCbGaD</th>\n",
       "      <th>dwpc_CuGuCtDrD</th>\n",
       "      <th>dwpc_CuGuCuGaD</th>\n",
       "      <th>predicted_value</th>\n",
       "      <th>category</th>\n",
       "      <th>true_label</th>\n",
       "    </tr>\n",
       "  </thead>\n",
       "  <tbody>\n",
       "    <tr>\n",
       "      <th>2709</th>\n",
       "      <td>DB00884</td>\n",
       "      <td>DOID:11476</td>\n",
       "      <td>holdout</td>\n",
       "      <td>-3.825</td>\n",
       "      <td>0.021360</td>\n",
       "      <td>-1.3940</td>\n",
       "      <td>0.41320</td>\n",
       "      <td>-0.9711</td>\n",
       "      <td>0.2821</td>\n",
       "      <td>0.3077</td>\n",
       "      <td>...</td>\n",
       "      <td>-0.6400</td>\n",
       "      <td>-0.3452</td>\n",
       "      <td>-0.58260</td>\n",
       "      <td>-0.6257</td>\n",
       "      <td>-0.7218</td>\n",
       "      <td>-0.6438</td>\n",
       "      <td>-0.67800</td>\n",
       "      <td>0.972429</td>\n",
       "      <td>DM</td>\n",
       "      <td>1</td>\n",
       "    </tr>\n",
       "    <tr>\n",
       "      <th>13147</th>\n",
       "      <td>DB00630</td>\n",
       "      <td>DOID:5408</td>\n",
       "      <td>holdout</td>\n",
       "      <td>-4.845</td>\n",
       "      <td>0.007803</td>\n",
       "      <td>-0.4395</td>\n",
       "      <td>0.07669</td>\n",
       "      <td>0.3352</td>\n",
       "      <td>0.2821</td>\n",
       "      <td>0.4233</td>\n",
       "      <td>...</td>\n",
       "      <td>0.2171</td>\n",
       "      <td>2.2980</td>\n",
       "      <td>-0.18080</td>\n",
       "      <td>-0.3926</td>\n",
       "      <td>-0.6175</td>\n",
       "      <td>0.4045</td>\n",
       "      <td>-0.13560</td>\n",
       "      <td>0.946436</td>\n",
       "      <td>DM</td>\n",
       "      <td>1</td>\n",
       "    </tr>\n",
       "    <tr>\n",
       "      <th>14936</th>\n",
       "      <td>DB01014</td>\n",
       "      <td>DOID:8577</td>\n",
       "      <td>holdout</td>\n",
       "      <td>-3.913</td>\n",
       "      <td>0.019600</td>\n",
       "      <td>-0.6787</td>\n",
       "      <td>-3.12500</td>\n",
       "      <td>1.1010</td>\n",
       "      <td>0.2821</td>\n",
       "      <td>0.3077</td>\n",
       "      <td>...</td>\n",
       "      <td>0.5635</td>\n",
       "      <td>-0.3452</td>\n",
       "      <td>-0.33800</td>\n",
       "      <td>0.8360</td>\n",
       "      <td>0.4797</td>\n",
       "      <td>-0.5279</td>\n",
       "      <td>0.09699</td>\n",
       "      <td>0.904074</td>\n",
       "      <td>DM</td>\n",
       "      <td>1</td>\n",
       "    </tr>\n",
       "    <tr>\n",
       "      <th>2683</th>\n",
       "      <td>DB00630</td>\n",
       "      <td>DOID:11476</td>\n",
       "      <td>holdout</td>\n",
       "      <td>-3.825</td>\n",
       "      <td>0.021360</td>\n",
       "      <td>-0.4395</td>\n",
       "      <td>0.07669</td>\n",
       "      <td>0.3352</td>\n",
       "      <td>0.2821</td>\n",
       "      <td>0.4233</td>\n",
       "      <td>...</td>\n",
       "      <td>1.5560</td>\n",
       "      <td>-0.3452</td>\n",
       "      <td>0.02615</td>\n",
       "      <td>0.4802</td>\n",
       "      <td>0.9160</td>\n",
       "      <td>-0.1673</td>\n",
       "      <td>0.24980</td>\n",
       "      <td>0.878989</td>\n",
       "      <td>NaN</td>\n",
       "      <td>0</td>\n",
       "    </tr>\n",
       "    <tr>\n",
       "      <th>5291</th>\n",
       "      <td>DB00563</td>\n",
       "      <td>DOID:1324</td>\n",
       "      <td>holdout</td>\n",
       "      <td>-0.542</td>\n",
       "      <td>0.367700</td>\n",
       "      <td>1.5540</td>\n",
       "      <td>0.82370</td>\n",
       "      <td>1.7910</td>\n",
       "      <td>0.2821</td>\n",
       "      <td>0.3077</td>\n",
       "      <td>...</td>\n",
       "      <td>2.2690</td>\n",
       "      <td>3.5220</td>\n",
       "      <td>2.55200</td>\n",
       "      <td>2.7580</td>\n",
       "      <td>2.6700</td>\n",
       "      <td>2.1650</td>\n",
       "      <td>2.58500</td>\n",
       "      <td>0.873887</td>\n",
       "      <td>NaN</td>\n",
       "      <td>0</td>\n",
       "    </tr>\n",
       "  </tbody>\n",
       "</table>\n",
       "<p>5 rows × 113 columns</p>\n",
       "</div>"
      ],
      "text/plain": [
       "      chemical_id  disease_id   origin  prior_logit  prior_prob  degree_CbG  \\\n",
       "2709      DB00884  DOID:11476  holdout       -3.825    0.021360     -1.3940   \n",
       "13147     DB00630   DOID:5408  holdout       -4.845    0.007803     -0.4395   \n",
       "14936     DB01014   DOID:8577  holdout       -3.913    0.019600     -0.6787   \n",
       "2683      DB00630  DOID:11476  holdout       -3.825    0.021360     -0.4395   \n",
       "5291      DB00563   DOID:1324  holdout       -0.542    0.367700      1.5540   \n",
       "\n",
       "       degree_CcSE  degree_CdG  degree_CiPC  degree_CrC     ...      \\\n",
       "2709       0.41320     -0.9711       0.2821      0.3077     ...       \n",
       "13147      0.07669      0.3352       0.2821      0.4233     ...       \n",
       "14936     -3.12500      1.1010       0.2821      0.3077     ...       \n",
       "2683       0.07669      0.3352       0.2821      0.4233     ...       \n",
       "5291       0.82370      1.7910       0.2821      0.3077     ...       \n",
       "\n",
       "       dwpc_CuGaDuGaD  dwpc_CuGbCtDrD  dwpc_CuGcGiGaD  dwpc_CuGdDpSpD  \\\n",
       "2709          -0.6400         -0.3452        -0.58260         -0.6257   \n",
       "13147          0.2171          2.2980        -0.18080         -0.3926   \n",
       "14936          0.5635         -0.3452        -0.33800          0.8360   \n",
       "2683           1.5560         -0.3452         0.02615          0.4802   \n",
       "5291           2.2690          3.5220         2.55200          2.7580   \n",
       "\n",
       "       dwpc_CuGuCbGaD  dwpc_CuGuCtDrD  dwpc_CuGuCuGaD  predicted_value  \\\n",
       "2709          -0.7218         -0.6438        -0.67800         0.972429   \n",
       "13147         -0.6175          0.4045        -0.13560         0.946436   \n",
       "14936          0.4797         -0.5279         0.09699         0.904074   \n",
       "2683           0.9160         -0.1673         0.24980         0.878989   \n",
       "5291           2.6700          2.1650         2.58500         0.873887   \n",
       "\n",
       "       category  true_label  \n",
       "2709         DM           1  \n",
       "13147        DM           1  \n",
       "14936        DM           1  \n",
       "2683        NaN           0  \n",
       "5291        NaN           0  \n",
       "\n",
       "[5 rows x 113 columns]"
      ]
     },
     "execution_count": 27,
     "metadata": {},
     "output_type": "execute_result"
    }
   ],
   "source": [
    "test_res.head()"
   ]
  },
  {
   "cell_type": "code",
   "execution_count": 28,
   "metadata": {
    "collapsed": true
   },
   "outputs": [],
   "source": [
    "test_res.to_csv(\"pred_res_for_roc.tsv\", sep = '\\t', index = False)"
   ]
  }
 ],
 "metadata": {
  "kernelspec": {
   "display_name": "Python 3",
   "language": "python",
   "name": "python3"
  },
  "language_info": {
   "codemirror_mode": {
    "name": "ipython",
    "version": 3
   },
   "file_extension": ".py",
   "mimetype": "text/x-python",
   "name": "python",
   "nbconvert_exporter": "python",
   "pygments_lexer": "ipython3",
   "version": "3.5.2"
  }
 },
 "nbformat": 4,
 "nbformat_minor": 0
}
